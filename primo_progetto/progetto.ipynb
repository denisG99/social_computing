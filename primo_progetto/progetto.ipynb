{
 "cells": [
  {
   "cell_type": "markdown",
   "source": [
    "# Primo progetto di Social Computing\n",
    "**Anno accademico 2020-21**\n",
    "\n",
    "**Allievi:**\n",
    "* *Rizzetto Sasha [142660]*\n",
    "* *Gasparollo Denis [143225]*\n",
    "* *Bensi Martino [142793]*\n",
    "* *Francescut Matteo [143352]*\n",
    "\n",
    "## Importazione librerie\n",
    "\n",
    "Le principali librerie impiegate sono: <br>\n",
    "    •Tweepy: semplifica l’accesso e l’utilizzo delle API di Twitter <br>\n",
    "    •NetworkX: permette la creazione, manipolazione e l’analisi di reti <br>\n",
    "    •PyVis: gestisce rappresentazioni interattive di reti anche molto complesse"
   ],
   "metadata": {
    "collapsed": false,
    "pycharm": {
     "name": "#%% md\n"
    }
   }
  },
  {
   "cell_type": "code",
   "execution_count": 2,
   "metadata": {
    "collapsed": false,
    "jupyter": {
     "outputs_hidden": false
    },
    "pycharm": {
     "name": "#%%\n"
    }
   },
   "outputs": [],
   "source": [
    "from tweepy import TweepError as twE\n",
    "import tweepy as tw\n",
    "import os\n",
    "import json\n",
    "import random\n",
    "from networkx.algorithms.approximation import clique as clq\n",
    "import networkx as nx\n",
    "from pyvis.network import Network\n",
    "import pandas as pd"
   ]
  },
  {
   "cell_type": "markdown",
   "source": [
    "## Configurazione parametri API"
   ],
   "metadata": {
    "collapsed": false
   }
  },
  {
   "cell_type": "code",
   "execution_count": null,
   "metadata": {
    "collapsed": false,
    "jupyter": {
     "outputs_hidden": false
    },
    "pycharm": {
     "name": "#%%\n"
    }
   },
   "outputs": [],
   "source": [
    "#Twitter API credentials\n",
    "api_key = \"YOUR_KEY\"\n",
    "api_secret = \"YOUR_KEY\"\n",
    "access_token = \"YOUR_KEY\"\n",
    "access_secret = \"YOUR_KEY\"\n",
    "bearer_token = \"YOUR_KEY\"\n",
    "\n",
    "auth = tw.OAuthHandler(api_key, api_secret)\n",
    "auth.set_access_token(access_token, access_secret)\n",
    "api = tw.API(auth, wait_on_rate_limit=True, wait_on_rate_limit_notify=True, timeout=240)\n",
    "\n",
    "if api.verify_credentials:\n",
    "    print ('Authentication completed successfully!')"
   ]
  },
  {
   "cell_type": "markdown",
   "source": [
    "## Definizione funzioni JSON\n",
    "\n",
    "Abbiamo realizzato due funzioni utili per maneggiare i file json: <br>\n",
    "    • **serialize_json**: serializza dei dati in formato JSON in un dato file <br>\n",
    "    •  **read_json**: acquisisce dati in formato JSON da un dato dile <br>"
   ],
   "metadata": {
    "collapsed": false
   }
  },
  {
   "cell_type": "code",
   "execution_count": 10,
   "metadata": {
    "collapsed": false,
    "jupyter": {
     "outputs_hidden": false
    },
    "pycharm": {
     "name": "#%%\n"
    }
   },
   "outputs": [],
   "source": [
    "data_folder = \"data\"\n",
    "\n",
    "def serialize_json(folder, filename, data):\n",
    "    if not os.path.exists(folder):\n",
    "        os.makedirs(folder, exist_ok=True)\n",
    "    with open(f\"{folder}/{filename}\", 'w', encoding='utf-8') as f:\n",
    "        json.dump(data, f, ensure_ascii=False, indent=4)\n",
    "        f.close()\n",
    "    print(f\"Data serialized to path: {folder}/{filename}\")\n",
    "\n",
    "def read_json(path):\n",
    "    if os.path.exists(path):\n",
    "        with open(path, \"r\", encoding=\"utf8\") as file:\n",
    "            data = json.load(file)\n",
    "        print(f\"Data read from path: {path}\")\n",
    "        return data\n",
    "    else:\n",
    "        print(f\"No data found at path: {path}\")\n",
    "        return {}"
   ]
  },
  {
   "cell_type": "markdown",
   "source": [
    "## Definizione funzioni di download\n",
    "\n",
    "Per gestire l'ottenimento dei dati necessari abbiamo sviluppato le seguenti due funzioni: <br><br>\n",
    "    • **download**: Scarica i dati di un certo insieme di utenti (follower o following) e li salva in un file JSON <br>\n",
    "                *accounts* --> vettore contenenti gli screen_name dei quali si vogliono scaricare i dati (vettore)<br>\n",
    "                *what* --> specifica il cosa voglio scaricare (stringa) <br>\n",
    "                *quantity* --> quantità di followers/followings si vogliono scaricare (intero) <br>\n",
    "                *operation* --> funzione dell'API da chiamere (funzione) <br>"
   ],
   "metadata": {
    "collapsed": false
   }
  },
  {
   "cell_type": "code",
   "execution_count": 9,
   "outputs": [],
   "source": [
    "def download(users, what, quantity, operation):\n",
    "    i = 0\n",
    "\n",
    "    for user in users:\n",
    "        data= []\n",
    "        print(f\"Downloading {what} di {user}\")\n",
    "\n",
    "        for item in tw.Cursor(\n",
    "            operation,\n",
    "            screen_name=user,\n",
    "            skip_status=True,\n",
    "            include_user_entities=False\n",
    "        ).items(quantity[i]):\n",
    "\n",
    "            retriveData(item, data)\n",
    "\n",
    "        serialize_json(data_folder, f\"{user}-{what}s.json\", data)\n",
    "        print(f\"ho serializzato un totale di {len(data)} dati \\n\")\n",
    "        i += 1"
   ],
   "metadata": {
    "collapsed": false,
    "pycharm": {
     "name": "#%%\n"
    }
   }
  },
  {
   "cell_type": "markdown",
   "source": [
    "• **retriveData**: estrae solo i dati necessari da quelli ricevuti dall'API <br>"
   ],
   "metadata": {
    "collapsed": false
   }
  },
  {
   "cell_type": "code",
   "execution_count": null,
   "outputs": [],
   "source": [
    "def retriveData(item, data):\n",
    "    json_data = item._json\n",
    "    found_follower = {}\n",
    "\n",
    "    found_follower[\"id\"] = json_data[\"id\"]\n",
    "    found_follower[\"name\"] = json_data[\"name\"]\n",
    "    found_follower[\"screen_name\"] = json_data[\"screen_name\"]\n",
    "    found_follower[\"location\"] = json_data[\"location\"]\n",
    "\n",
    "    data.append(found_follower)"
   ],
   "metadata": {
    "collapsed": false,
    "pycharm": {
     "name": "#%%\n"
    }
   }
  },
  {
   "cell_type": "markdown",
   "metadata": {
    "pycharm": {
     "name": "#%% md\n"
    }
   },
   "source": [
    "# 1) Download dei primi 5 utenti\n",
    "\n",
    "Scaricamento utenti followers e following dei primi 5 account forniti:\n",
    "\n",
    "* @mizzaro\n",
    "* @damiano10\n",
    "* @Miccighel_\n",
    "* @eglu81\n",
    "* @KevinRoitero\n",
    "\n",
    "Nel frammento sottostante si possono notare 3 array:\n",
    "* **accounts**: contiene i nomi degli utenti da scaricare\n",
    "* **followers**: contiene il numero di follower degli utenti nell'array \"accounts\"\n",
    "* **followings**: contiene il numero di following degli utenti nell'array \"accounts\""
   ]
  },
  {
   "cell_type": "code",
   "execution_count": null,
   "outputs": [],
   "source": [
    "accounts = [\"mizzaro\" , \"damiano10\", \"Miccighel_\", \"eglu81\", \"KevinRoitero\"]\n",
    "followers = [157, 786, 332, 539, 103]\n",
    "followings = [331, 837, 212, 621, 256]"
   ],
   "metadata": {
    "collapsed": false,
    "pycharm": {
     "name": "#%%\n"
    }
   }
  },
  {
   "cell_type": "markdown",
   "metadata": {
    "pycharm": {
     "name": "#%% md\n"
    }
   },
   "source": [
    "## Download follower"
   ]
  },
  {
   "cell_type": "code",
   "execution_count": null,
   "outputs": [],
   "source": [
    "download(accounts, \"follower\", followers, api.followers)\n",
    "print(\"Download terminato\")"
   ],
   "metadata": {
    "collapsed": false,
    "pycharm": {
     "name": "#%%\n"
    }
   }
  },
  {
   "cell_type": "markdown",
   "metadata": {
    "pycharm": {
     "name": "#%% md\n"
    }
   },
   "source": [
    "## Download following"
   ]
  },
  {
   "cell_type": "code",
   "execution_count": null,
   "outputs": [],
   "source": [
    "download(accounts, \"following\", followings, api.friends)\n",
    "print(\"Download terminato\")"
   ],
   "metadata": {
    "collapsed": false,
    "pycharm": {
     "name": "#%%\n"
    }
   }
  },
  {
   "cell_type": "markdown",
   "metadata": {
    "pycharm": {
     "name": "#%% md\n"
    }
   },
   "source": [
    "# 2) Download degli altri utenti\n",
    "\n",
    "Per ciascuno degli utenti iniziali, sono stati scelti:\n",
    "* 5 followers a caso, e per ognuno di questi sono stati scaricati 10 loro followers (*followers of followers*)\n",
    "* 5 following a caso, e per ognuno di questi sono stati scaricati 10 loro following (*followings of followings*)\n",
    "\n",
    "## Definizione funzioni utili\n",
    "\n",
    "Per lo svolgimento di questo punto abbiamo deciso di creare le seguenti 3 funzioni di supporto:\n",
    "* **rndIndex**: dati una quantità K e un valore massimo M ritorna un array contenente K indici compresi tra 0 e M"
   ]
  },
  {
   "cell_type": "code",
   "execution_count": null,
   "outputs": [],
   "source": [
    "def rndIndex(quantity, max):\n",
    "    rndNum = []\n",
    "\n",
    "    while len(rndNum) < quantity:\n",
    "        pos = random.randint(0, max)\n",
    "\n",
    "        if pos not in rndNum:\n",
    "            rndNum.append(pos)\n",
    "    return rndNum"
   ],
   "metadata": {
    "collapsed": false,
    "pycharm": {
     "name": "#%%\n"
    }
   }
  },
  {
   "cell_type": "markdown",
   "source": [
    "* **retriveAccounts**: dato un array contenente gli id di alcuni utenti, e dato un file da cui leggere i dati, restituisce\n",
    "un array con i relativi"
   ],
   "metadata": {
    "collapsed": false
   }
  },
  {
   "cell_type": "code",
   "execution_count": null,
   "outputs": [],
   "source": [
    "#recupera gli screen_name dei 5 account random\n",
    "def retriveAccounts(rnd, file):\n",
    "    data = read_json(f\"{data_folder}/{file}\")\n",
    "    newAccounts = []\n",
    "\n",
    "    for index in rnd:\n",
    "        #controllo che aaccount selezionato abbia più di 10 followers\n",
    "        item = data[index]\n",
    "        newAccounts.append(item[\"screen_name\"])\n",
    "\n",
    "    return newAccounts"
   ],
   "metadata": {
    "collapsed": false,
    "pycharm": {
     "name": "#%%\n"
    }
   }
  },
  {
   "cell_type": "markdown",
   "source": [
    "* **specificQuantityDownload**: analoga alla funzione *download()* vista prima, con la differenza che il parametro quantity\n",
    "è un valore intero fisso e valido per tutte le iterazioni tra gli utenti (ad es. per ogni utente dobbiamo scaricare sempre\n",
    "10 follower/following)"
   ],
   "metadata": {
    "collapsed": false
   }
  },
  {
   "cell_type": "code",
   "execution_count": null,
   "outputs": [],
   "source": [
    "def specificQuantityDownload(users, what, quantity, operation):\n",
    "\n",
    "   for user in users:\n",
    "        data= []\n",
    "        print(f\"Downloading {what} di {user}\")\n",
    "\n",
    "        for item in tw.Cursor(\n",
    "            operation,\n",
    "            screen_name=user,\n",
    "            skip_status=True,\n",
    "            include_user_entities=False\n",
    "        ).items(quantity):\n",
    "\n",
    "            retriveData(item, data)\n",
    "\n",
    "        serialize_json(data_folder, f\"{user}-{what}s.json\", data)\n",
    "        print(f\"ho serializzato un totale di {len(data)} dati \\n\")"
   ],
   "metadata": {
    "collapsed": false,
    "pycharm": {
     "name": "#%%\n"
    }
   }
  },
  {
   "cell_type": "markdown",
   "metadata": {},
   "source": [
    "## Download followers of followers"
   ]
  },
  {
   "cell_type": "code",
   "execution_count": null,
   "outputs": [],
   "source": [
    "i = 0\n",
    "for account in accounts:\n",
    "    max = followers[i]\n",
    "\n",
    "    rndNum = rndIndex(5, max)\n",
    "\n",
    "    specificQuantityDownload(\n",
    "        retriveAccounts(rndNum, f\"{account}-followers.json\"),\n",
    "        f\"{account}-followersOfFollower\",\n",
    "        10,\n",
    "        api.followers\n",
    "    )\n",
    "\n",
    "    i += 1\n",
    "\n",
    "print(\"Download terminato\")"
   ],
   "metadata": {
    "collapsed": false,
    "pycharm": {
     "name": "#%%\n"
    }
   }
  },
  {
   "cell_type": "markdown",
   "metadata": {},
   "source": [
    "## Download followings of followings"
   ]
  },
  {
   "cell_type": "code",
   "execution_count": null,
   "outputs": [],
   "source": [
    "i = 0\n",
    "for account in accounts:\n",
    "    max = followings[i]\n",
    "\n",
    "    rndNum = rndIndex(5, max)\n",
    "\n",
    "    specificQuantityDownload(\n",
    "        retriveAccounts(rndNum, f\"{account}-followings.json\"),\n",
    "        f\"{account}-followingsOfFollowing\",\n",
    "        10,\n",
    "        api.friends\n",
    "    )\n",
    "\n",
    "    i += 1\n",
    "\n",
    "print(\"Download terminato\")"
   ],
   "metadata": {
    "collapsed": false,
    "pycharm": {
     "name": "#%%\n"
    }
   }
  },
  {
   "cell_type": "markdown",
   "metadata": {
    "pycharm": {
     "name": "#%% md\n"
    }
   },
   "source": [
    "# 3) Download dei dettagli dei profili\n",
    "Tramite la chiamata *api.get_user* andremo a scaricare i dettagli del profilo di tutti gli utenti\n",
    "finora ottenuti.\n",
    "\n",
    "Anche per questa parte andiamo a descrivere le funzioni di supporto sviluppate:\n",
    "\n",
    "* **downloadUserDataFromString**: scarica i dettagli dell'utente, a partire dal suo screen_name."
   ]
  },
  {
   "cell_type": "code",
   "execution_count": null,
   "metadata": {
    "collapsed": false,
    "jupyter": {
     "outputs_hidden": false
    },
    "pycharm": {
     "name": "#%%\n"
    }
   },
   "outputs": [],
   "source": [
    "def downloadUserDataFromString(users, output):\n",
    "    for user in users:\n",
    "        print(f\"Downloading userData di {user}\")\n",
    "\n",
    "        foundUser = api.get_user(user)\n",
    "        retriveUserData(foundUser, output)\n",
    "\n",
    "    return output"
   ]
  },
  {
   "cell_type": "markdown",
   "source": [
    "* **downloadUserDataFromObject**: scarica i dettagli dell'utente, a partire dal suo oggetto JSON."
   ],
   "metadata": {
    "collapsed": false
   }
  },
  {
   "cell_type": "code",
   "execution_count": null,
   "outputs": [],
   "source": [
    "def downloadUserDataFromObject(users, output):\n",
    "    for user in users:\n",
    "        print(f\"Downloading userData di {user['screen_name']}\")\n",
    "        try:\n",
    "            foundUser = api.get_user(user[\"id\"])\n",
    "            retriveUserData(foundUser, output)\n",
    "        except twE: #usato per gestire il caso in cui il profilo risulta impossibile da scaricare\n",
    "            print(\"User not found!\")\n",
    "\n",
    "    return output"
   ],
   "metadata": {
    "collapsed": false,
    "pycharm": {
     "name": "#%%\n"
    }
   }
  },
  {
   "cell_type": "markdown",
   "source": [
    "* **retriveUserData**: filtra soltanto i dati strettamente necessari."
   ],
   "metadata": {
    "collapsed": false
   }
  },
  {
   "cell_type": "code",
   "execution_count": null,
   "outputs": [],
   "source": [
    "def retriveUserData(item, data):\n",
    "    json_data = item._json\n",
    "\n",
    "    profile_data = {}\n",
    "\n",
    "    profile_data[\"id\"] = json_data[\"id\"]\n",
    "    profile_data[\"name\"] = json_data[\"name\"]\n",
    "    profile_data[\"screen_name\"] = json_data[\"screen_name\"]\n",
    "    profile_data[\"location\"] = json_data[\"location\"]\n",
    "    profile_data[\"description\"] = json_data[\"description\"]\n",
    "    profile_data[\"followers_count\"] = json_data[\"followers_count\"]\n",
    "\n",
    "    if profile_data not in data:\n",
    "        data.append(profile_data)"
   ],
   "metadata": {
    "collapsed": false,
    "pycharm": {
     "name": "#%%\n"
    }
   }
  },
  {
   "cell_type": "markdown",
   "source": [
    "## Download info utenti"
   ],
   "metadata": {
    "collapsed": false,
    "pycharm": {
     "name": "#%% md\n"
    }
   }
  },
  {
   "cell_type": "code",
   "execution_count": null,
   "outputs": [],
   "source": [
    "#lista dei file contenuti nella directory \"data\"\n",
    "lstFile = os.listdir(data_folder)\n",
    "\n",
    "if \"usersData.json\" not in lstFile:\n",
    "    userData = []\n",
    "\n",
    "    # 1. download user data degli utenti di partenza(mizzaro, damiano10,...)\n",
    "    downloadUserDataFromString(accounts, userData)\n",
    "\n",
    "    # 1. download user data degli altri utenti\n",
    "    for file in lstFile:\n",
    "       jsonItems = read_json(f\"{data_folder}/{file}\")\n",
    "\n",
    "       downloadUserDataFromObject(jsonItems, userData)\n",
    "\n",
    "    print(f\"ho serializzato un totale di {len(userData)} dati \\n\")\n",
    "\n",
    "    serialize_json(data_folder, f\"usersData.json\", userData)\n",
    "else:\n",
    "    print(\"I dati utente sono già stati serializzati in precedenza\")\n",
    "\n",
    "print(\"Download terminato\")"
   ],
   "metadata": {
    "collapsed": false,
    "pycharm": {
     "name": "#%%\n"
    }
   }
  },
  {
   "cell_type": "markdown",
   "metadata": {
    "pycharm": {
     "name": "#%% md\n"
    }
   },
   "source": [
    "# 4) Verifica delle relazioni\n",
    "La seguente funzione va a verificare le relazioni (follow/following) tra i 5 utenti iniziali e gli altri\n",
    "utenti scaricati, mostrando a terminale il risultato della verifica."
   ]
  },
  {
   "cell_type": "code",
   "execution_count": null,
   "outputs": [],
   "source": [
    "def checkFriendships(nodes):\n",
    "    for i in range(5):\n",
    "        for j in range(10):\n",
    "        # for j in (len(nodes)): #ABILITARE QUESTA PER VERIFICARE TUTTE LE COPPIE\n",
    "\n",
    "            if i != j:\n",
    "                friendship = api.show_friendship(source_id=nodes[i][\"id\"], target_id= nodes[j][\"id\"])\n",
    "\n",
    "                if friendship[0].followed_by:\n",
    "                    print(f\"{nodes[i]['screen_name']} è seguito da {nodes[j]['screen_name']}\")\n",
    "                else:\n",
    "                    print(f\"{nodes[i]['screen_name']} non è seguito da {nodes[j]['screen_name']}\")\n",
    "\n",
    "                if friendship[0].following:\n",
    "                    print(f\"{nodes[i]['screen_name']} segue {nodes[j]['screen_name']}\")\n",
    "                else:\n",
    "                    print(f\"{nodes[i]['screen_name']} non segue {nodes[j]['screen_name']}\")\n",
    "\n",
    "                print(\"\\n\")\n",
    "\n",
    "checkFriendships(read_json(f\"{data_folder}/usersData.json\"))\n",
    "#esempio d'esecuzione di controllo dell'esistenza di relazioni\n",
    "#(verifica per circa 50 coppie di coppie per utente iniziale)"
   ],
   "metadata": {
    "collapsed": false,
    "pycharm": {
     "name": "#%%\n"
    }
   }
  },
  {
   "cell_type": "markdown",
   "source": [
    "# 5) Creazione della rete\n",
    "\n",
    "In questa parte si va a creare il grafo tramite le funioni di NetworkX.\n",
    "\n",
    "Abbiamo creato la seguente funzione **createIdDictionary** che restituisce un dizionario composto\n",
    "da una coppia *screen_name* - *id*"
   ],
   "metadata": {
    "collapsed": false,
    "pycharm": {
     "name": "#%% md\n"
    }
   }
  },
  {
   "cell_type": "code",
   "execution_count": null,
   "outputs": [],
   "source": [
    "def createIdDictionary(lst):\n",
    "    id = {}\n",
    "    for item in lst:\n",
    "        id.update({f\"{item['screen_name']}\": item[\"id\"]})\n",
    "\n",
    "    return id"
   ],
   "metadata": {
    "collapsed": false,
    "pycharm": {
     "name": "#%%\n"
    }
   }
  },
  {
   "cell_type": "markdown",
   "source": [
    "Effettuiamo una verifica preliminare per stabilire se è già stato creato in precedenza (ossia\n",
    "se il file è già presente), in tal caso non eseguiamo nuovamente la creazione."
   ],
   "metadata": {
    "collapsed": false
   }
  },
  {
   "cell_type": "code",
   "execution_count": 11,
   "outputs": [
    {
     "name": "stdout",
     "output_type": "stream",
     "text": [
      "Recupero del grafo di twitter\n",
      "Numero archi: 4649\n"
     ]
    }
   ],
   "source": [
    "pwd = os.listdir()\n",
    "lstFile = os.listdir(data_folder)\n",
    "\n",
    "if \"twtNet_graph.pkl\" in pwd:\n",
    "    twtNet = nx.read_gpickle(\"twtNet_graph.pkl\")\n",
    "    print(\"Recupero del grafo di twitter\")\n",
    "else:\n",
    "    nodes = read_json(f\"{data_folder}/usersData.json\")\n",
    "\n",
    "    #inizializzazione grafo\n",
    "    twtNet = nx.DiGraph(group_members= [\"Gasparollo Denis\", \"Francescut Matteo\", \"Bensi Martino\", \"Rizzetto Sasha\"])\n",
    "\n",
    "    #aggiunta nodi\n",
    "    for node in nodes:\n",
    "        twtNet.add_node(node[\"id\"],\n",
    "                        name= node[\"name\"],\n",
    "                        screen_name= node[\"screen_name\"],\n",
    "                        location= node[\"location\"],\n",
    "                        description= node[\"description\"],\n",
    "                        followers_count= node[\"followers_count\"])\n",
    "    print(nx.number_of_nodes(twtNet))\n",
    "\n",
    "    #creazione dizionario screen_name - id\n",
    "    idDictionary = createIdDictionary(nodes)\n",
    "\n",
    "    #aggiunta archi\n",
    "    for file in lstFile:\n",
    "\n",
    "        if \"usersData\" not in file:\n",
    "            splitedFileName = file.split(sep= \"-\", maxsplit=3)\n",
    "\n",
    "            for user in read_json(f\"{data_folder}/{file}\"):\n",
    "\n",
    "                if \"followings\" in splitedFileName[len(splitedFileName) - 1]:\n",
    "                    twtNet.add_edge(idDictionary[splitedFileName[0]], user[\"id\"])\n",
    "                elif \"followers\" in splitedFileName[len(splitedFileName) - 1]:\n",
    "                    twtNet.add_edge(user[\"id\"], idDictionary[splitedFileName[0]])\n",
    "\n",
    "    print(\"Il grafo è stato costruito con successo!\")\n",
    "    nx.write_gpickle(twtNet, \"twtNet_graph.pkl\")\n",
    "\n",
    "print(f\"Numero archi: {twtNet.number_of_edges()}\")"
   ],
   "metadata": {
    "collapsed": false,
    "pycharm": {
     "name": "#%%\n"
    }
   }
  },
  {
   "cell_type": "markdown",
   "metadata": {
    "pycharm": {
     "name": "#%% md\n"
    }
   },
   "source": [
    "# 6) Creazione visualizzazione interattiva\n",
    "\n",
    "Definiamo ora i parametri per l'inizializzazione della visualizzazione"
   ]
  },
  {
   "cell_type": "code",
   "execution_count": null,
   "metadata": {
    "collapsed": false,
    "jupyter": {
     "outputs_hidden": false
    },
    "pycharm": {
     "name": "#%%\n"
    }
   },
   "outputs": [],
   "source": [
    "net = Network(\n",
    "    height = \"100%\",\n",
    "    width = \"100%\",\n",
    "    directed=True,\n",
    "    bgcolor = \"#222222\",\n",
    "    font_color = \"white\",\n",
    "    heading = \"Rete Sociale\"\n",
    ")"
   ]
  },
  {
   "cell_type": "markdown",
   "source": [
    "Adesso inizializziamo la mappa PyVis a partire dalla rete NetworkX"
   ],
   "metadata": {
    "collapsed": false
   }
  },
  {
   "cell_type": "code",
   "execution_count": null,
   "outputs": [],
   "source": [
    "net.barnes_hut()\n",
    "net.from_nx(twtNet)\n",
    "neighbor_map = net.get_adj_list()\n",
    "\n",
    "for node in net.nodes:\n",
    "    node[\"value\"] = len(neighbor_map[node[\"id\"]])"
   ],
   "metadata": {
    "collapsed": false,
    "pycharm": {
     "name": "#%%\n"
    }
   }
  },
  {
   "cell_type": "markdown",
   "source": [
    "Mostriamo la mappa creata"
   ],
   "metadata": {
    "collapsed": false
   }
  },
  {
   "cell_type": "code",
   "execution_count": null,
   "outputs": [],
   "source": [
    "net.show(\"twtNet.html\")"
   ],
   "metadata": {
    "collapsed": false,
    "pycharm": {
     "name": "#%%\n"
    }
   }
  },
  {
   "cell_type": "markdown",
   "metadata": {
    "pycharm": {
     "name": "#%% md\n"
    }
   },
   "source": [
    "# 7) Verifiche di connessione e di bipartizione\n",
    "\n",
    "Il risultato della verifica viene mostrato a terminale"
   ]
  },
  {
   "cell_type": "code",
   "execution_count": 3,
   "outputs": [
    {
     "name": "stdout",
     "output_type": "stream",
     "text": [
      "Il grafo è connesso\n",
      "Il grafo non è bipartito\n"
     ]
    }
   ],
   "source": [
    "if \"twtNet_graph.pkl\" in os.listdir():\n",
    "    twtNet = nx.read_gpickle(\"twtNet_graph.pkl\")\n",
    "\n",
    "    if  nx.is_connected(nx.to_undirected(twtNet)):\n",
    "        print(\"Il grafo è connesso\")\n",
    "    else:\n",
    "        print(\"Il grafo non è connesso\")\n",
    "    if nx.is_bipartite(twtNet):\n",
    "        print(\"Il grafo è bipartito\")\n",
    "    else:\n",
    "        print(\"Il grafo non è bipartito\")\n",
    "else:\n",
    "    print(\"Grafo non ancora creato!\")"
   ],
   "metadata": {
    "collapsed": false,
    "pycharm": {
     "name": "#%%\n"
    }
   }
  },
  {
   "cell_type": "markdown",
   "metadata": {
    "pycharm": {
     "name": "#%% md\n"
    }
   },
   "source": [
    "Il grafo risulta **connesso** ma **non bipartito**.\n",
    "\n",
    "# 8) Misurazioni di distanze\n",
    "\n",
    "In questa sezione andiamo a effettuare le misurazioni di **centro, diametro e raggio**."
   ]
  },
  {
   "cell_type": "code",
   "execution_count": 4,
   "outputs": [],
   "source": [
    "if \"twtNet_graph.pkl\" in os.listdir():\n",
    "    twtNet = nx.read_gpickle(\"twtNet_graph.pkl\")\n",
    "    undirTwtNet = nx.to_undirected(twtNet)\n",
    "\n",
    "    center = nx.center(undirTwtNet)\n",
    "    diameter = nx.diameter(undirTwtNet)\n",
    "    radius = nx.radius(undirTwtNet)\n",
    "else:\n",
    "    print(\"Grafo non ancora creato!\")"
   ],
   "metadata": {
    "collapsed": false,
    "pycharm": {
     "name": "#%%\n"
    }
   }
  },
  {
   "cell_type": "markdown",
   "source": [
    "Il risultato della verifica viene mostrato a terminale"
   ],
   "metadata": {
    "collapsed": false,
    "pycharm": {
     "name": "#%% md\n"
    }
   }
  },
  {
   "cell_type": "code",
   "execution_count": 5,
   "outputs": [
    {
     "name": "stdout",
     "output_type": "stream",
     "text": [
      "Centro: [132646210, 19659370, 3036907250]\n",
      "Diametro: 6\n",
      "Raggio: 3\n"
     ]
    }
   ],
   "source": [
    "print(f\"Centro: {center}\")\n",
    "print(f\"Diametro: {diameter}\")\n",
    "print(f\"Raggio: {radius}\")"
   ],
   "metadata": {
    "collapsed": false,
    "pycharm": {
     "name": "#%%\n"
    }
   }
  },
  {
   "cell_type": "markdown",
   "metadata": {
    "pycharm": {
     "name": "#%% md\n"
    }
   },
   "source": [
    "# 9) Misurazioni di centralità\n",
    "\n",
    "Vengono ora calcolate le seguenti misure di centralità:\n",
    "\n",
    "* Betweenness centrality\n",
    "* Closeness centrality\n",
    "* Degree centrality\n",
    "* In-degree centrality\n",
    "* Out-degree centrality\n",
    "* Page Rank"
   ]
  },
  {
   "cell_type": "code",
   "execution_count": null,
   "outputs": [],
   "source": [
    "if \"twtNet_graph.pkl\" in os.listdir():\n",
    "    twtNet = nx.read_gpickle(\"twtNet_graph.pkl\")\n",
    "\n",
    "    betweennessCentrality = nx.betweenness_centrality(twtNet)\n",
    "    closenessCentrality = nx.closeness_centrality(twtNet)\n",
    "    degreeCentrality = nx.degree_centrality(twtNet)\n",
    "    inCentrality = nx.in_degree_centrality(twtNet)\n",
    "    outCentrality = nx.out_degree_centrality(twtNet)\n",
    "    pageRank = nx.pagerank(twtNet)\n",
    "    hits = nx.hits(twtNet, max_iter=150)\n",
    "\n",
    "    print(\"Calcolo centralità terminato!\")\n",
    "else:\n",
    "     print(\"Grafo non ancora creato!\")"
   ],
   "metadata": {
    "collapsed": false,
    "pycharm": {
     "name": "#%%\n"
    }
   }
  },
  {
   "cell_type": "markdown",
   "source": [
    "Il risultato del calcolo viene mostrato a terminale"
   ],
   "metadata": {
    "collapsed": false
   }
  },
  {
   "cell_type": "code",
   "execution_count": null,
   "outputs": [],
   "source": [
    "print(f\"Betweenness centrality: {betweennessCentrality}\")\n",
    "print(f\"Closeness centrality: {closenessCentrality}\")\n",
    "print(f\"Degree centrality: {degreeCentrality}\")\n",
    "print(f\"IN degree centrality: {inCentrality}\")\n",
    "print(f\"OUT degree centrality: {outCentrality}\")\n",
    "print(f\"Page rank: {pageRank}\")\n",
    "print(f\"HITS hubs: {hits[0]}\")\n",
    "print(f\"HITS authorities: {hits[1]}\")"
   ],
   "metadata": {
    "collapsed": false,
    "pycharm": {
     "name": "#%%\n"
    }
   }
  },
  {
   "cell_type": "markdown",
   "metadata": {
    "pycharm": {
     "name": "#%% md\n"
    }
   },
   "source": [
    "# 10) Creazione del sottografo\n",
    "\n",
    "Creiamo il sottografo scegliendo come nodo centrale l'utente KevinRoitero (id: 3036907250).<br>"
   ]
  },
  {
   "cell_type": "code",
   "execution_count": null,
   "outputs": [],
   "source": [
    "pwd = os.listdir()\n",
    "\n",
    "if \"twtNet_graph.pkl\" in pwd:\n",
    "    twtNet = nx.read_gpickle(\"twtNet_graph.pkl\")\n",
    "\n",
    "    # partiamo dall'utente KevinRoitero (id: 3036907250)\n",
    "    roiteroGraph = nx.ego_graph(twtNet, 3036907250, radius=1)\n",
    "    # calcoliamo la cricca massima\n",
    "    clique = clq.max_clique(nx.to_undirected(roiteroGraph))\n",
    "    # creaiamo il sottografo della cricca massima\n",
    "    cliqueGraph = twtNet.subgraph(clique)\n",
    "    nx.write_gpickle(clique, \"maxClique_graph.pkl\")\n",
    "else:\n",
    "    print(\"Grafo non ancora creato!\")"
   ],
   "metadata": {
    "collapsed": false,
    "pycharm": {
     "name": "#%%\n"
    }
   }
  },
  {
   "cell_type": "markdown",
   "source": [
    "Stampiamo ora una visualizzazione del sottografo e la sua dimensione."
   ],
   "metadata": {
    "collapsed": false
   }
  },
  {
   "cell_type": "code",
   "execution_count": null,
   "outputs": [],
   "source": [
    "nx.draw_networkx(cliqueGraph)\n",
    "print(f\"La dimensione del sottografo calcolato sulla cricca massima vale: {clq.large_clique_size(nx.to_undirected(roiteroGraph))}\")"
   ],
   "metadata": {
    "collapsed": false,
    "pycharm": {
     "name": "#%%\n"
    }
   }
  },
  {
   "cell_type": "markdown",
   "metadata": {
    "pycharm": {
     "name": "#%% md\n"
    }
   },
   "source": [
    "# 11) Calcolo della copertura minima degli archi\n",
    "\n",
    "Il risultato verrà mostrato a terminale"
   ]
  },
  {
   "cell_type": "code",
   "execution_count": 13,
   "outputs": [
    {
     "name": "stdout",
     "output_type": "stream",
     "text": [
      "Num: 4649\n",
      "Copertura minima arco: {(132646210, 18869136), (21782750, 132646210), (15750573, 1023096199), (132646210, 40030538), (19659370, 37788263), (132646210, 1081289442671902720), (19659370, 469405173), (132646210, 72474729), (1323903942951112705, 91168371), (40380303, 15750573), (3036907250, 52059998), (19659370, 2606773789), (132646210, 809848752), (436847545, 577243493), (257618993, 132646210), (3081585501, 19659370), (132646210, 2854283403), (132646210, 1313137113454579717), (17383073, 19659370), (132646210, 364593753), (132646210, 4833032980), (17076940, 132646210), (19486877, 19659370), (2450416195, 19659370), (45598113, 132646210), (2190533245, 232832623), (18932422, 11164692), (15637569, 15750573), (82541893, 549833457), (132646210, 18506971), (1265761679947771905, 14538236), (269301403, 22346932), (399089660, 132646210), (1412036527, 221575638), (85428593, 15750573), (2810375782, 19659370), (374433827, 132646210), (179571184, 1057019486530887680), (2438493248, 132646210), (15750573, 106505501), (1040575154424893441, 132646210), (20660258, 2190533245), (19659370, 920382882413244417), (126323494, 19659370), (2998896042, 132646210), (1410981890, 36024756), (16362818, 15750573), (349172730, 19659370), (19659370, 831503418376146946), (132646210, 3243155048), (19659370, 61111487), (15750573, 62952214), (2147987488, 15750573), (37105355, 156703987), (896036165350019073, 132646210), (3186534415, 132646210), (2924886188, 954540122904584192), (1050753707518910464, 376297519), (1246312797799100416, 1140163756267192321), (3302556875, 1094001009188397057), (10868922, 132646210), (2272376472, 132646210), (15750573, 586366163), (19659370, 2812873512), (14947339, 18466593), (114773847, 19659370), (167735563, 132646210), (14538236, 619607966), (1284897085846953986, 1477918760), (132646210, 19739240), (409922330, 132646210), (3300677471, 19659370), (964581642290393088, 91168371), (15750573, 2572511777), (15750573, 67383602), (12321952, 1140163756267192321), (175529610, 15750573), (3841067114, 19659370), (1094001009188397057, 3302556875), (14468951, 27018274), (15750573, 2636910597), (17455229, 19659370), (547871798, 19659370), (19659370, 55247494), (226298062, 132646210), (441676899, 15750573), (15750573, 1084900963306098689), (1467961898, 3270447613), (132646210, 17078917), (2209063952, 19659370), (17053944, 132646210), (1168, 19659370), (104892871, 18932422), (18932422, 134765219), (15573348, 19659370), (3036907250, 1978351027), (115718271, 19659370), (3339046197, 132646210), (386277982, 22983937), (87473622, 132646210), (19659370, 2924669003), (132646210, 173431194), (14947339, 1311701627913420800), (909404434723213312, 132646210), (15750573, 14359747), (284099686, 132646210), (19659370, 3577056016), (19659370, 1077070220332740608), (174072879, 132646210), (132646210, 131111665), (841854020058677252, 19659370), (15750573, 806101991109890048), (19659370, 1728795440), (948669952843595776, 132646210), (19659370, 1206594224537448449), (777648349, 132646210), (832361946154401792, 15750573), (2459299508, 132646210), (19659370, 112806109), (125483940, 132646210), (15750573, 36049907), (131526573, 15750573), (18932422, 189495871), (3026571023, 3036907250), (132646210, 32872183), (19659370, 262191481), (59273937, 15750573), (1265795638551212032, 132646210), (15750573, 1280804221), (19659370, 67815277), (3036907250, 2097571), (824668943285702661, 2272178100), (19659370, 3081585501), (4718039356, 2654456020), (538213674, 37105355), (19659370, 3107826244), (19659370, 2274780686), (14538236, 131100302), (9430302, 132646210), (3036907250, 180463340), (132646210, 1114432920121376768), (1891806212, 19659370), (132646210, 4829277184), (132646210, 2859456143), (144580542, 269301403), (59481357, 19659370), (535914042, 27018274), (56741675, 132646210), (19659370, 383365753), (132646210, 1251232344947613701), (902940396849946625, 91168371), (132646210, 1187585868493537280), (132646210, 1019194066855006208), (972984764, 19659370), (464868829, 19659370), (711001600567828481, 1094001009188397057), (1090911182591086592, 132646210), (87242603, 132646210), (132646210, 22994885), (771363829556977665, 19659370), (822183485523841025, 3036907250), (537014740, 15750573), (132646210, 423567471), (1276832114856656896, 132646210), (86754006, 132646210), (15750573, 791230655367700480), (132646210, 2981463028), (122424832, 19659370), (19659370, 756380725859975168), (132646210, 507185539), (15750573, 899166691652972544), (946591233954033664, 132646210), (2730017576, 19659370), (266028681, 132646210), (748176824, 132646210), (132646210, 14784786), (47725447, 19659370), (132646210, 331076291), (37048037, 15750573), (132646210, 162124540), (19659370, 17383073), (307755344, 19659370), (524561395, 18932422), (19659370, 118748199), (632815919, 132646210), (132646210, 810893744593584128), (132646210, 872544691442466816), (132646210, 41974909), (132646210, 46496916), (132646210, 3275322876), (15750573, 3242397351), (19659370, 266717381), (755513278625898496, 2541189847), (132646210, 112202046), (15750573, 66815732), (132646210, 429259920), (928760788306878464, 96123433), (132646210, 451148485), (132646210, 2805421915), (19659370, 2864356347), (1284042607, 19659370), (132646210, 17118060), (256644046, 132646210), (1187226845155999749, 19659370), (294652384, 132646210), (755513278625898496, 1224549145865859072), (132646210, 2378438060), (132646210, 195525587), (95267165, 15750573), (15750573, 96127287), (398537509, 15750573), (19659370, 1222193343737794560), (19659370, 16318928), (84854764, 15750573), (19659370, 762501458), (16946380, 132646210), (619607966, 14538236), (10752242, 19659370), (132646210, 18855622), (250344120, 132646210), (17865904, 116655482), (62513246, 3036907250), (132646210, 874530424575336449), (16318928, 19659370), (577243493, 127039292), (579115459, 15750573), (61143806, 132646210), (91168371, 1087030452), (132646210, 56318966), (18932422, 561218882), (19659370, 33993797), (15750573, 1048018930785083392), (132646210, 97880420), (132646210, 269930404), (19659370, 2910644884), (19659370, 342137485), (938473643373481985, 19659370), (132646210, 82573938), (3036907250, 50414506), (44583317, 132646210), (567360618, 18932422), (19659370, 94642927), (3130548765, 18932422), (4037107874, 717348489215262724), (3036907250, 319135326), (1031837755234549760, 804283950), (3314775459, 258082407), (132646210, 45794386), (2354616571, 18932422), (386277982, 161164522), (13982132, 19659370), (1365711606, 19659370), (2360762586, 3036907250), (15750573, 388212968), (132646210, 93494670), (132646210, 70478255), (132646210, 126062970), (296312612, 132646210), (145637517, 19659370), (28822067, 18932422), (8123222, 18932422), (42399260, 132646210), (996566689037795328, 27018274), (3036907250, 3092629269), (132646210, 920700510306529280), (52206988, 19659370), (132646210, 3041372326), (41694589, 132646210), (2832694608, 19659370), (18932422, 2826508686), (14451127, 132646210), (623575404, 132646210), (19659370, 12044602), (1077863989202247681, 132646210), (2306579816, 101711550), (887159288, 132646210), (39547749, 132646210), (15378449, 3036907250), (251149608, 15750573), (182799181, 15750573), (132646210, 2309104237), (132646210, 8077952), (15750573, 95745203), (132646210, 178976408), (163363440, 19659370), (1770311, 132646210), (132646210, 2839825685), (793483735018504192, 19659370), (132646210, 78269397), (556738016, 755513278625898496), (704185699415695360, 132646210), (132646210, 133550954), (101711550, 3551532493), (1517068255, 132646210), (11164692, 18932422), (132646210, 721931072), (8719472, 19659370), (132646210, 1567085737), (11649702, 132646210), (74419325, 19659370), (586366163, 15750573), (72284089, 91168371), (132646210, 16319797), (19659370, 572279177), (940445534556364800, 132646210), (132646210, 1237393394), (1166221754, 132646210), (15247794, 18932422), (2714310207, 15750573), (2735046987, 15750573), (562363, 132646210), (114045446, 132646210), (3775401076, 132646210), (132646210, 1251034648492138498), (1031837755234549760, 1005041152242970629), (132646210, 190778398), (20747847, 15750573), (3036907250, 73147282), (132646210, 68701660), (132646210, 1382732563), (403731744, 132646210), (15750573, 16953723), (19659370, 4042462396), (132646210, 1251073078211178496), (18932422, 2568478126), (717348489215262724, 863480903481401345), (1094001009188397057, 1015069938472501249), (132646210, 272376633), (19659370, 121881387), (116655482, 16319888), (277667306, 15750573), (15750573, 838141984053284864), (797863519953764353, 406303880), (1145584490594443264, 19659370), (839149376643686401, 132646210), (1300410913896439811, 36024756), (2345372593, 3147145875), (132646210, 249695469), (2786141198, 132646210), (132646210, 915167646240325632), (15750573, 555461978), (132646210, 75525450), (755513278625898496, 14616323), (132646210, 1039052508193284096), (132646210, 831290691712004096), (1932160213, 132646210), (15750573, 14749606), (1260526934678740993, 16868154), (132646210, 10627282), (763432576375779328, 132646210), (132646210, 1582645148), (561642136, 15750573), (19659370, 15169938), (849649723, 18932422), (4663308149, 3036907250), (15750573, 372843212), (68475307, 223827175), (3036907250, 838464523), (19659370, 769507902897856512), (18932422, 14266044), (132646210, 20499721), (16514335, 132646210), (19659370, 14622066), (549833457, 384978819), (16319797, 132646210), (132646210, 263247974), (2318099514, 18932422), (101711550, 2306579816), (6365342, 19659370), (15750573, 33105342), (15750573, 78577226), (132646210, 1016764586228412421), (15750573, 1148229403), (616572834, 15750573), (2587811778, 18932422), (896688971186667520, 1094001009188397057), (132646210, 396680992), (18932422, 3236533841), (132646210, 354009660), (132646210, 946591233954033664), (11669522, 132646210), (132646210, 181348220), (15750573, 390380093), (19659370, 3435577992), (132646210, 3318895763), (15750573, 59913797), (19659370, 16976682), (19659370, 16579738), (132646210, 81875677), (18932422, 14874480), (15750573, 414978578), (15750573, 115512512), (68351679, 15750573), (132646210, 99473901), (3240349167, 3036907250), (132646210, 46668733), (19659370, 15333148), (54959293, 132646210), (19659370, 2903681001), (44991940, 122408887), (1140163756267192321, 468827738), (2424428378, 386277982), (53654934, 297884272), (201275909, 1158718834322395137), (1190682302977859584, 19659370), (11010332, 19659370), (19659370, 917259707236208640), (132646210, 249661913), (15750573, 409166947), (19659370, 15225375), (2821616774, 132646210), (358026989, 15750573), (743340014214352896, 132646210), (19659370, 877108837475655680), (824886467721703425, 132646210), (16976496, 19659370), (2196922086, 3036907250), (1254150528986120192, 469631198), (115512512, 15750573), (4928034543, 399361313), (132646210, 2776164847), (6459362, 132646210), (19659370, 14757518), (17002009, 132646210), (1097846996, 2190533245), (19659370, 796877583455555584), (132646210, 848687484), (132646210, 30981656), (132646210, 596203049), (15750573, 16310134), (15750573, 839446682819563520), (19659370, 8746072), (3036907250, 707112185076391936), (59913797, 15750573), (1168926603855958017, 132646210), (19659370, 3075691), (150732625, 15750573), (192931240, 15750573), (19659370, 1023751696697028608), (827392886, 132646210), (223380941, 132646210), (16895951, 19659370), (512785206, 19659370), (769507902897856512, 19659370), (122127763, 15750573), (19659370, 24046380), (30339571, 132646210), (538326631, 132646210), (132646210, 976373610), (15750573, 8762122), (303048766, 132646210), (709476815090413568, 132646210), (372830899, 132646210), (19659370, 48354997), (19659370, 163009576), (19659370, 224379103), (77436536, 19659370), (18932422, 15468474), (882605036, 15750573), (132646210, 153439378), (15254807, 3036907250), (144947577, 132646210), (15750573, 623111545), (19659370, 134061959), (16110508, 132646210), (15750573, 304540433), (2371689380, 132646210), (15750573, 789736108896751616), (101353399, 132646210), (19659370, 836189288572325888), (15750573, 293483941), (1028693496, 132646210), (338526004, 19659370), (19659370, 3384319941), (518957746, 132646210), (19659370, 2982471489), (132646210, 1166221754), (150622632, 132646210), (2887723143, 15750573), (19659370, 3367685915), (598232506, 19659370), (19659370, 28401365), (755397390, 132646210), (2493328698, 181954043), (2240601558, 3147145875), (132646210, 268262631), (132646210, 47456957), (2723963928, 14538236), (1279678049458499584, 14947339), (132646210, 1070352023449669632), (220987646, 16868154), (713164296604090368, 132646210), (132646210, 13360372), (76966092, 19659370), (132646210, 13507112), (96127287, 15750573), (320568816, 132646210), (2769983813, 132646210), (273921060, 19659370), (302013973, 19659370), (19659370, 153506820), (15750573, 24888653), (3147145875, 731289266), (132646210, 1290762290224984064), (59900894, 19659370), (263483174, 19659370), (2851178794, 132646210), (15750573, 13533662), (19659370, 80269062), (13920962, 19659370), (132646210, 1232460508160094209), (1111730640762875907, 132646210), (249255635, 19659370), (14639512, 37105355), (18932422, 1530894998), (132646210, 402143587), (3356531254, 3036907250), (15750573, 202626872), (1412036527, 327347231), (1376401838, 19659370), (32338210, 15750573), (19659370, 19659141), (2206179206, 18932422), (132646210, 4027105402), (1040124415151726592, 19659370), (19659370, 11017332), (4149032843, 132646210), (27007409, 15750573), (527454176, 15750573), (132646210, 2996506102), (58880930, 132646210), (106023728, 19659370), (2230151202, 19659370), (3036907250, 1264438328), (132646210, 564663512), (151303125, 132646210), (15750573, 866900373302378503), (19659370, 359622624), (2903217440, 19659370), (1412036527, 96034010), (884047713372975104, 15750573), (19659370, 14998112), (53340169, 19659370), (15750573, 2872651869), (132646210, 430570985), (344956335, 132646210), (132646210, 763432576375779328), (225110274, 19659370), (15750573, 772871943577931776), (20356196, 3036907250), (18932422, 2926864059), (2025101, 132646210), (3036907250, 1734817550), (314430404, 15750573), (4901700861, 19659370), (3036907250, 49043059), (132646210, 1264027207447371776), (876083623711174657, 19659370), (132646210, 41694589), (9507112, 15750573), (132646210, 352053266), (15750573, 3512256616), (132646210, 229601276), (850107536, 18932422), (2986084527, 19659370), (132646210, 101353399), (15750573, 404376053), (18485339, 19659370), (301178769, 406303880), (132646210, 294652384), (436122215, 15750573), (15750573, 624208322), (132646210, 33861957), (132646210, 5765972), (132646210, 2209729028), (109613064, 19659370), (132646210, 514667085), (1156797119149121541, 3036907250), (132646210, 93655722), (2797567802, 132646210), (1369078711, 132646210), (370102769, 15750573), (19659370, 1308409993213943809), (2451712820, 132646210), (14538236, 106791368), (31311757, 3036907250), (19659370, 977585064), (2317814702, 19659370), (132646210, 2462926410), (15750573, 1193486898), (132646210, 1245923843119575041), (709543955126333440, 19659370), (1189525564715089920, 19659370), (720605133483208705, 3036907250), (16868154, 1190521464815902720), (132646210, 132453147), (16868154, 1079750954868588545), (356803122, 193935341), (2890854807, 308456550), (18932422, 569790116), (132646210, 904533569749508097), (132646210, 217377296), (3034892963, 3036907250), (5763912, 19659370), (182486010, 15750573), (132646210, 9316452), (132646210, 822659), (390380093, 15750573), (568542838, 19659370), (391867472, 132646210), (15657398, 15750573), (19659370, 3300677471), (116655482, 2753364997), (821769650211930112, 19659370), (53096678, 122408887), (51215183, 132646210), (15750573, 546315483), (132646210, 53250831), (19659370, 722242009), (393956778, 132646210), (18932422, 41098784), (133790890, 3036907250), (132646210, 45412709), (19659370, 2394417954), (482995387, 15750573), (3331252607, 18932422), (185263153, 132646210), (19659370, 1848037524), (135047672, 132646210), (341000847, 1124794277660430341), (132646210, 188029486), (843009630812995584, 19659370), (619585396, 132646210), (23055193, 132646210), (132646210, 118056286), (19659370, 615595875), (731289266, 3147145875), (28165790, 19659370), (132646210, 28312691), (2839825685, 132646210), (51934480, 19659370), (132646210, 139008774), (1301154075434606598, 19659370), (27366114, 19659370), (132646210, 3230093066), (3036907250, 776732741098467328), (22398002, 19659370), (15750573, 1074807847), (917421341359464450, 19659370), (19722699, 3036907250), (46394850, 15750573), (132646210, 10759032), (18932422, 3130548765), (1556357336, 132646210), (19659370, 1106015165969924096), (3036907250, 56510427), (9541832, 19659370), (19659370, 3761306416), (132646210, 563947963), (132646210, 11892372), (19659370, 1303571503), (204123892, 19659370), (2986013849, 132646210), (132646210, 127894322), (561226226, 132646210), (269731175, 37105355), (2821170946, 132646210), (96123433, 928760788306878464), (2987533553, 15750573), (1056456062520492032, 289284899), (132646210, 2734776646), (3279064394, 19659370), (19659370, 834609484781723648), (1017171853914333185, 132646210), (132646210, 961808198), (132646210, 1099250750155354114), (294119630, 15750573), (483150865, 132646210), (19659370, 841854020058677252), (1929876336, 132646210), (132646210, 1320513201071484928), (14862794, 132646210), (18932422, 70422392), (132646210, 2341772972), (132646210, 17730501), (838930153665363968, 132646210), (294599794, 18932422), (281950081, 19659370), (132646210, 799830497065050112), (132646210, 139507464), (132646210, 561277962), (75071601, 19659370), (19659370, 19341622), (916364161415892992, 1117836660), (15750573, 46092394), (19659370, 211916935), (17743823, 132646210), (2864356347, 19659370), (1205609058, 19659370), (4165329244, 4928034543), (248135933, 18932422), (15750573, 790342394675888128), (2877993331, 19659370), (132646210, 24989839), (3317549893, 132646210), (14294701, 132646210), (18869136, 132646210), (3036907250, 1038481676), (19659370, 16507835), (577430083, 15750573), (868437872, 19659370), (17292623, 830589635738816512), (132646210, 821666958680719361), (119406189, 15750573), (19659370, 557553364), (9533042, 19659370), (132646210, 539946626), (18932422, 59208209), (1551361069, 19659370), (1477918760, 484733763), (228130177, 15750573), (1535439446, 132646210), (11235202, 132646210), (898565245484105732, 132646210), (89489054, 122408887), (19659370, 1080724857552199682), (1140163756267192321, 909955646895919104), (3036907250, 1131186925212241920), (348011201, 15750573), (15750573, 314430404), (376297519, 1039236870230749185), (3635929397, 101711550), (436837074, 15750573), (132646210, 54959293), (81875677, 132646210), (19659370, 439572655), (132646210, 36966461), (939946139029090304, 19659370), (15750573, 2544647385), (485018563, 15750573), (934228950, 15750573), (132646210, 2867784412), (85648537, 3036907250), (132646210, 33836629), (20314655, 132646210), (132646210, 2310390416), (784083274805248000, 132646210), (1102341617371963392, 132646210), (19659370, 188756842), (3988959013, 132646210), (17707080, 132646210), (19659370, 327032058), (132646210, 3221752726), (45321027, 19659370), (132646210, 833967951447486465), (15750573, 485140375), (18318677, 132646210), (19659370, 262236415), (132646210, 762093631), (19659370, 75071601), (55858928, 18932422), (3036907250, 2898184305), (146734981, 132646210), (695480624870633472, 386277982), (872274950, 132646210), (1571112116, 2190533245), (4898086443, 19659370), (3036907250, 1195044761322823680), (19659370, 1241258612), (2754412213, 15750573), (15750573, 385339360), (132646210, 78912282), (19659370, 19888273), (18932422, 3331252607), (65591085, 341000847), (49556240, 19659370), (833624768800817152, 132646210), (19659370, 2278288488), (469631198, 4758119662), (45101319, 15750573), (19659370, 2676313880), (2607616422, 132646210), (132646210, 889461651673690112), (15521075, 3036907250), (874530424575336449, 132646210), (2717694091, 19659370), (3036907250, 3036851230), (19659370, 45827605), (434835815, 132646210), (856391422974468101, 3270447613), (3551532493, 101711550), (36024756, 2386351941), (19659370, 20058825), (790451965, 132646210), (762501458, 19659370), (3036907250, 19411223), (1030464891830902784, 19659370), (132646210, 271243941), (1477918760, 204965245), (132646210, 344956335), (406260699, 15750573), (15750573, 7170002), (132646210, 27897414), (19659370, 200630242), (15750573, 399935607), (577243493, 769113642), (1311701627913420800, 14947339), (65184105, 15750573), (6107292, 15750573), (133550954, 132646210), (361288906, 19659370), (859698369765179392, 15750573), (2877269332, 3036907250), (386277982, 2424428378), (18932422, 2700931729), (1173370158, 132646210), (49043059, 3036907250), (3036907250, 822183485523841025), (7990062, 19659370), (15750573, 39889364), (19659370, 468825579), (15750573, 31422403), (132646210, 278482863), (173891055, 577243493), (132646210, 279903146), (2636910597, 15750573), (3033312071, 132646210), (2272178100, 824668943285702661), (1081076050061213697, 132646210), (3036907250, 2645602164), (1935675295, 15750573), (1014722412, 132646210), (15750573, 737882640), (771427581992185856, 132646210), (2409117643, 19659370), (1339637532, 132646210), (132646210, 20644989), (16868154, 1546634102), (36024756, 216299334), (132646210, 1287104705185939456), (3036907250, 3201975988), (3246646347, 132646210), (824668943285702661, 248792951), (3036907250, 21769127), (92116069, 830589635738816512), (825382759, 132646210), (3353136183, 19659370), (132646210, 900040284616114176), (132646210, 2188930908), (132646210, 253587073), (15455450, 132646210), (142293342, 132646210), (132646210, 3099020035), (19659370, 4794104842), (954540122904584192, 2924886188), (132646210, 301709965), (166739404, 3036907250), (173431194, 132646210), (43641631, 132646210), (3036907250, 3037264899), (81381560, 132646210), (132646210, 3902819477), (132646210, 361115646), (101711550, 1237020498422198273), (136142062, 15750573), (153764165, 18932422), (392531560, 1477918760), (132646210, 2186834214), (132646210, 877886035), (132646210, 93781753), (132646210, 862356144748204032), (838141984053284864, 15750573), (374400342, 211457876), (469631198, 1169586428533190656), (3036907250, 192854350), (132646210, 1850752598), (19659370, 740216334), (15750573, 39781270), (132646210, 2215006026), (1055893919597133824, 132646210), (132646210, 18675332), (108207407, 132646210), (109399833, 132646210), (917284226269052928, 19659370), (132646210, 409922330), (15750573, 517818047), (132646210, 14451127), (1061582051449557003, 19659370), (19659370, 49719781), (876479404985249792, 1527607790), (15750573, 114782375), (1907881, 132646210), (1280804221, 15750573), (19659370, 20436576), (22983937, 386277982), (755733488851189760, 19659370), (133806972, 19659370), (19659370, 17514022), (714365137365426176, 15750573), (257691637, 132646210), (132646210, 2189994866), (19659370, 116897811), (132646210, 994886035086761984), (3038714572, 3036907250), (3036907250, 742143), (579842788, 15750573), (771681197781053440, 132646210), (132646210, 784824594), (1136467769199910912, 19659370), (289222668, 19659370), (46350079, 19659370), (1229540217595387904, 132646210), (18932422, 259403751), (2209003450, 132646210), (3036907250, 3356531254), (19204539, 132646210), (132646210, 17707080), (19811190, 19659370), (68475307, 2512767432), (3587827899, 289284899), (460544873, 18932422), (28776166, 132646210), (19659370, 2502662672), (150346051, 15750573), (269301403, 388729560), (19659370, 109613064), (19659370, 3239238377), (508906511, 19659370), (2153743237, 132646210), (1060157776477982721, 132646210), (19659370, 822143767), (2240528131, 19659370), (16310134, 15750573), (3036907250, 14511951), (19659370, 313140358), (20640711, 132646210), (257111136, 1094001009188397057), (404376053, 15750573), (19659370, 869188290183917568), (79067151, 132646210), (3036907250, 839139788846411777), (15750573, 2714310207), (15750573, 2900424513), (132646210, 29639366), (1077734311799984128, 132646210), (1290762290224984064, 132646210), (193755075, 824668943285702661), (1710656606, 19659370), (18932422, 36448779), (18932422, 3035143127), (3147145875, 108076200), (1320785984816963585, 755513278625898496), (972651, 3036907250), (735818445749690368, 4718039356), (132646210, 156322219), (952300568961220609, 4928034543), (194989299, 15750573), (429259920, 132646210), (342578839, 132646210), (2882893927, 132646210), (132646210, 99023044), (577243493, 84728939), (18932422, 153764165), (2176025565, 15750573), (19659370, 59900894), (132646210, 626282563), (36448779, 18932422), (132646210, 412155441), (11867332, 132646210), (3577056016, 19659370), (15750573, 960887748), (451148485, 132646210), (19659370, 307912317), (894723591446687745, 3036907250), (308226281, 132646210), (310741473, 19659370), (15750573, 2381066016), (158751132, 19659370), (73719913, 132646210), (132646210, 9632312), (434236851, 19659370), (852083180182147072, 19659370), (1284213415410651136, 101711550), (131498466, 132646210), (117483950, 19659370), (3243283713, 19659370), (1557796237, 132646210), (3036907250, 3003392104), (132646210, 2797567802), (2576448008, 19659370), (1622761998, 132646210), (19659370, 53340169), (15750573, 490382218), (458399248, 19659370), (18932422, 369440364), (2523642978, 19659370), (132646210, 850170113504325632), (132646210, 1081241209622822913), (95013770, 18932422), (1894231788, 132646210), (19659370, 311404595), (15750573, 420316063), (36024756, 31107562), (19659370, 464868829), (107751300, 15750573), (1081241209622822913, 132646210), (897060827316072448, 132646210), (132646210, 39321347), (822367881547550720, 132646210), (15750573, 24160034), (891731882, 132646210), (3120886937, 19659370), (3036907250, 200163448), (458079606, 19659370), (18932422, 126352685), (267249771, 18932422), (15750573, 15578992), (132646210, 3892710581), (15750573, 2147987488), (49310901, 44196397), (132646210, 59263220), (188221066, 132646210), (132646210, 49911968), (1094001009188397057, 257111136), (15750573, 346742249), (722242009, 19659370), (19659370, 20304025), (22749856, 132646210), (744114034660773888, 15750573), (18932422, 91697719), (3036907250, 1156797119149121541), (2190533245, 20660258), (132646210, 964589615230337024), (132646210, 126274094), (251614179, 132646210), (36927290, 132646210), (4645255754, 3036907250), (108441778, 18932422), (132646210, 253734620), (485140375, 15750573), (246713978, 132646210), (533315563, 15750573), (73909361, 15750573), (27018274, 25086234), (16925097, 19659370), (959849838212014081, 15750573), (132646210, 200466843), (553436328, 19659370), (3036907250, 62513246), (19659370, 2450416195), (15750573, 115180931), (41667342, 3036907250), (337600744, 18932422), (111046352, 2190533245), (747665252, 132646210), (955493794669121537, 132646210), (10695152, 132646210), (91523851, 19659370), (928151539893420032, 132646210), (15750573, 315707871), (132646210, 50269516), (19659370, 207770279), (210917295, 101711550), (1112711079552053250, 830589635738816512), (19659370, 3005431923), (19690273, 19659370), (412270831, 132646210), (18932422, 15247794), (15750573, 182799181), (3761306416, 19659370), (132646210, 18033313), (549833457, 710492983800569857), (154138518, 132646210), (2274780686, 19659370), (19659370, 2877993331), (132646210, 2353222800), (342569184, 18932422), (1202308734, 15750573), (333410580, 15750573), (19659370, 1376401838), (1477918760, 1609328383), (19659370, 2814432614), (1131186925212241920, 3036907250), (19659370, 177751401), (319135326, 3036907250), (59504716, 132646210), (15750573, 83566575), (19659370, 946028606), (19626509, 132646210), (101711550, 115681495), (132646210, 356775978), (33993797, 19659370), (19659370, 12035282), (16387111, 132646210), (211457876, 321951166), (3036907250, 3293206151), (132646210, 17580853), (1009253378, 15750573), (97436767, 269301403), (18932422, 984769730983682048), (810173876466515968, 132646210), (431210487, 19659370), (305236970, 19659370), (755513278625898496, 1243171978917416960), (17514022, 19659370), (132646210, 1054280867512705025), (359622624, 19659370), (37105355, 538213674), (377571301, 15750573), (54541583, 15750573), (2166992210, 132646210), (2575124365, 132646210), (19659370, 48649222), (15750573, 151581782), (18932422, 524561395), (19659370, 301037777), (47319664, 19659370), (19659370, 508906511), (116655482, 85243046), (132646210, 1426135280), (15750573, 36347948), (39697728, 132646210), (14998112, 19659370), (19659370, 64245814), (271485168, 3036907250), (222110806, 928760788306878464), (891186338, 132646210), (19659370, 719967950527205376), (1031837755234549760, 2441568883), (570072860, 3036907250), (98966111, 132646210), (19659370, 252988497), (799830497065050112, 132646210), (132646210, 15166546), (132646210, 23973296), (10277212, 132646210), (41572443, 19659370), (2988561009, 18932422), (132646210, 103761767), (19659370, 19486877), (717348489215262724, 961561664222097408), (15750573, 150346051), (776585502606721024, 44196397), (14947339, 182273161), (824668943285702661, 1321141181846355971), (891165276, 3314775459), (132646210, 1441677282), (19659370, 21324520), (18932422, 112829445), (19659370, 940441783), (132646210, 2613410444), (49793, 132646210), (19659370, 28245224), (19659370, 803909558431313920), (132646210, 1033944831918104576), (19659370, 339654180), (132646210, 372830899), (132646210, 1141316975324536832), (1408239470, 19659370), (19659370, 9533042), (1209013666311356416, 824668943285702661), (211916935, 19659370), (1021864596548681728, 341000847), (19659370, 3233792564), (78969930, 132646210), (19659370, 17949156), (19659370, 867297019160707072), (17018894, 132646210), (101711550, 210917295), (773280684173463552, 19659370), (866238336, 4928034543), (132646210, 1991321), (132646210, 1035524448319885312), (132646210, 197313522), (688583, 3036907250), (737700306637594624, 717348489215262724), (2329921, 19659370), (132646210, 25037133), (116655482, 26156309), (132646210, 234058792), (714783310954774529, 15750573), (19659370, 49976458), (160741955, 132646210), (132646210, 434835815), (132646210, 54875928), (16687314, 132646210), (19659370, 15090415), (29959702, 132646210), (449616976, 15750573), (15750573, 832361946154401792), (1281284403864403970, 179571184), (19659370, 2176358690), (1016764586228412421, 132646210), (132771664, 37105355), (17922590, 413981727), (725639768663576576, 132646210), (132646210, 13568892), (1245061044847947777, 132646210), (52059998, 3036907250), (492216731, 132646210), (19659370, 19811190), (2797743527, 15750573), (132646210, 54682074), (3275071813, 4928034543), (44860754, 19659370), (19659370, 45321027), (15750573, 1089302341), (79721713, 19659370), (132646210, 607311335), (3145677894, 193935341), (146159328, 18932422), (172179385, 132646210), (289560192, 132646210), (1527607790, 453048459), (132646210, 44217911), (248721193, 19659370), (68475307, 3084901894), (323616054, 19659370), (19659370, 450842550), (204297410, 132646210), (200083348, 132646210), (19659370, 112882940), (132646210, 245907225), (19659370, 44860754), (132646210, 21782750), (19659370, 288995692), (1127358323051749378, 132646210), (132646210, 427330274), (19659370, 46342393), (52869134, 132646210), (932582571338321920, 19659370), (27897414, 132646210), (68784803, 19659370), (132646210, 258722513), (230815459, 3036907250), (132646210, 619585396), (248064213, 19659370), (132646210, 6057982), (911514942335012864, 132646210), (573918122, 3036907250), (870968012, 19659370), (301709965, 132646210), (3035211041, 3036907250), (20225119, 132646210), (132646210, 18052550), (1055867231060537344, 1140163756267192321), (27382834, 201275909), (73343, 15750573), (82337208, 19659370), (35749835, 19659370), (19659370, 870968012), (1219230275198058497, 132646210), (372843212, 15750573), (19659370, 4484681), (48062712, 132646210), (3036907250, 114870386), (20460664, 15750573), (533584357, 132646210), (3036907250, 85648537), (1014974716359081988, 132646210), (132646210, 3775401076), (893484744725467137, 469631198), (15750573, 14146389), (1031837755234549760, 915895342532583424), (132646210, 984275749824638976), (427330274, 132646210), (798144986491551745, 289284899), (490382218, 15750573), (453048459, 1527607790), (16868154, 220987646), (19659370, 414130557), (16684149, 15750573), (18843675, 132646210), (11990112, 132646210), (132646210, 105925630), (1174325520294715392, 19659370), (984135577208373249, 132646210), (344725369, 18932422), (132646210, 934087003), (132646210, 3292784453), (7905122, 19659370), (19659370, 57320656), (12035282, 19659370), (19659370, 2587163612), (17712257, 19659370), (153327232, 19659370), (3036907250, 436609034), (19659370, 458399248), (132646210, 446719282), (132646210, 28776166), (781676758932262912, 19659370), (95630269, 132646210), (132646210, 2998896042), (18932422, 95013770), (994300581291282432, 132646210), (19659370, 598232506), (132646210, 15159648), (19659370, 2253247064), (15750573, 128213903), (132646210, 16387111), (132646210, 1077633912), (258722513, 132646210), (132646210, 2986305078), (19659370, 119459238), (15750573, 93618186), (480575573, 4718039356), (3036907250, 2251623492), (132646210, 17743823), (22752868, 19659370), (14761223, 132646210), (272376633, 132646210), (476514758, 15750573), (132646210, 11867332), (4208606734, 19659370), (50393960, 928760788306878464), (2221607978, 19659370), (1086604922, 132646210), (132646210, 969392138076041216), (132646210, 778856886), (132646210, 1409748306), (469631198, 2882916461), (132646210, 922354202088759296), (1289974182755762176, 132646210), (15750573, 419946721), (132646210, 271370579), (4157611, 132646210), (19659370, 2758095800), (85813091, 15750573), (19659370, 801934486023782400), (15750573, 6979832), (132646210, 305431714), (16976682, 19659370), (318093688, 132646210), (47605273, 19659370), (1079473267, 15750573), (132646210, 37069005), (709828900, 19659370), (403677666, 15750573), (14285650, 19659370), (289284899, 268075557), (626282563, 132646210), (376297519, 34641691), (2310390416, 132646210), (99750590, 122408887), (1848037524, 19659370), (15750573, 71502653), (19659370, 790899349471498240), (132646210, 2329817887), (821666958680719361, 132646210), (80979483, 132646210), (19659370, 800707492346925056), (320170952, 4718039356), (19659370, 4742002531), (14265641, 132646210), (2685989162, 132646210), (20536157, 132646210), (19659370, 755733488851189760), (848152044137574401, 15750573), (735809541456027648, 3036907250), (834609484781723648, 19659370), (15750573, 38190507), (14757518, 19659370), (308456550, 892954139319087104), (132646210, 1245061044847947777), (207534677, 19659370), (3511430425, 3036907250), (19659370, 91440853), (19659370, 1246421), (15750573, 194989299), (19659370, 72102865), (897568340075479040, 15750573), (19659370, 1894582058), (19659370, 7990062), (824668943285702661, 1225090677597442048), (132646210, 296312612), (1904734980, 15750573), (39048846, 18932422), (19659370, 17712257), (132646210, 1072910977), (1877046548, 15750573), (132646210, 216939636), (450594910, 15750573), (17705769, 19659370), (3036907250, 29866761), (1442906958, 132646210), (19659370, 373580725), (1978351027, 3036907250), (1014471, 132646210), (14622066, 19659370), (941478255789457408, 19659370), (382158989, 132646210), (790899349471498240, 19659370), (623111545, 15750573), (15750573, 102609059), (132646210, 438301250), (19659370, 20131383), (216919545, 132646210), (18052550, 132646210), (479013038, 132646210), (2891809527, 19659370), (132646210, 2653043425), (19659370, 2455929786), (4202417063, 19659370), (972494379754688518, 132646210), (779769, 19659370), (180092401, 37105355), (2427769760, 19659370), (15750573, 2754814433), (201854523, 132646210), (45675087, 132646210), (2213823000, 132646210), (435462176, 132646210), (3036907250, 20581429), (1107254048896548864, 132646210), (1175299088, 132646210), (352650313, 19659370), (19659370, 917284226269052928), (39237580, 19659370), (15750573, 253973566), (21457289, 132646210), (2164350602, 2924886188), (561277962, 132646210), (384127183, 132646210), (1057019486530887680, 179571184), (48649222, 19659370), (1308409993213943809, 19659370), (19659370, 21133730), (132646210, 4863093417), (4083688114, 132646210), (132646210, 838601156737654784), (761153954809913344, 132646210), (824812182114164736, 132646210), (15750573, 2244880545), (19659370, 3243283713), (549833457, 29843511), (15750573, 469115517), (837051215339008000, 19659370), (1031837755234549760, 1009126632450351104), (132646210, 911297187664949248), (95745203, 15750573), (1037864733360226304, 15750573), (132646210, 3549187454), (132646210, 151303125), (179571184, 1272598826067640326), (622716896, 132646210), (469115517, 15750573), (61302699, 19659370), (207770279, 19659370), (191723833, 132646210), (21991908, 19659370), (3036907250, 14293310), (15750573, 3025618094), (529771925, 19659370), (479798490, 15750573), (132646210, 273561140), (717768811005526016, 3036907250), (132646210, 1357389505), (1140163756267192321, 1196347778525384705), (989251872107085824, 19659370), (93618186, 15750573), (3036907250, 3038714572), (164233384, 19659370), (132646210, 408986233), (32872183, 132646210), (125721127, 132646210), (132646210, 1123336792021897216), (132646210, 972987874613366784), (121709074, 132646210), (796368494342316032, 15750573), (71167669, 132646210), (132646210, 2213823000), (268025507, 19659370), (15750573, 90830802), (417189950, 15750573), (19659370, 2577967370), (19659370, 1043211642182328320), (19659370, 18033550), (409890910, 132646210), (206743057, 132646210), (132646210, 716947512154853376), (99473901, 132646210), (3257676018, 19659370), (132646210, 2615258306), (3036851230, 3036907250), (132646210, 538326631), (15750573, 851254609), (132646210, 308226281), (409166947, 15750573), (132646210, 823957466), (15750573, 384759698), (19659370, 541117509), (19659370, 12151932), (5943622, 19659370), (195525587, 132646210), (15750573, 16684149), (243479125, 132646210), (350152586, 18932422), (134765219, 18932422), (4718039356, 2907713807), (3036907250, 14677919), (2245759994, 132646210), (111801456, 19659370), (2253247064, 19659370), (122468228, 122408887), (838601156737654784, 132646210), (421253339, 53654934), (38277726, 15750573), (132646210, 1276832114856656896), (406303880, 1251182739035795463), (132646210, 617400195), (132646210, 22289618), (743917727820058626, 19659370), (1101500498564313090, 132646210), (15750573, 16739331), (778607, 19659370), (761245260, 916364161415892992), (132646210, 111373125), (132646210, 919860212), (15750573, 19710651), (91168371, 964581642290393088), (386277982, 14820511), (863480903481401345, 717348489215262724), (4053818032, 3036907250), (132646210, 1231314888), (398785862, 19659370), (3304471, 132646210), (19659370, 3150832239), (132646210, 1077863989202247681), (147949965, 132646210), (19659370, 2494212979), (19659370, 111801456), (132646210, 496430086), (48839631, 18932422), (132646210, 101045085), (4694535756, 132646210), (273561140, 132646210), (32193354, 132646210), (1018200198886109185, 1094001009188397057), (3710428289, 14947339), (842043337687289856, 132646210), (520133735, 15750573), (71502653, 15750573), (92593701, 19659370), (26329801, 15750573), (14494523, 132646210), (717756832240902144, 15750573), (132646210, 2424680826), (16868154, 197957154), (132646210, 949642445083459585), (132646210, 20167623), (940441783, 19659370), (143187995, 19659370), (132646210, 427431943), (19659370, 398785862), (96034010, 1412036527), (794790254, 18932422), (334678478, 15750573), (1620225060, 15750573), (806101991109890048, 15750573), (857570979022876672, 15750573), (14266044, 18932422), (1094001009188397057, 711001600567828481), (15750573, 341258707), (18932422, 34227622), (33864359, 19659370), (1076782624775884800, 193935341), (2424680826, 132646210), (824668943285702661, 81737577), (13056322, 3036907250), (132646210, 3128829965), (132646210, 824886467721703425), (1148229403, 15750573), (132646210, 241167877), (68475307, 3124307007), (132646210, 561226226), (132646210, 6778812), (3036907250, 735809541456027648), (2907713807, 4718039356), (132646210, 934851466082357249), (18932422, 3085799703), (3036907250, 1019673422), (15750573, 561642136), (3015605477, 3036907250), (19659370, 2730017576), (5637652, 19659370), (132646210, 66322723), (19659370, 36417099), (15750573, 45101319), (15750573, 479798490), (2874803443, 132646210), (802182440, 132646210), (10313732, 132646210), (132646210, 143319983), (16905485, 1483247714), (132646210, 997784960), (12755532, 132646210), (2544647385, 15750573), (132646210, 4793796869), (237670274, 3036907250), (1483247714, 69384456), (19659370, 263044687), (116655482, 1020383864), (19659370, 17581976), (132646210, 80446199), (132646210, 485447824), (61449317, 132646210), (22346932, 269301403), (19659370, 79721713), (126352685, 18932422), (132646210, 212276623), (22132438, 132646210), (250059685, 132646210), (177751401, 19659370), (1072910977, 132646210), (18932422, 9910992), (245548093, 3036907250), (188723124, 15750573), (43583452, 19659370), (1048018930785083392, 15750573), (132646210, 73705954), (18932422, 127489643), (132646210, 1154319646780272641), (1118909833942577153, 15750573), (916364161415892992, 486530534), (966024156574662656, 19659370), (456156498, 824668943285702661), (132646210, 1256240551118200835), (1064203950717583360, 15750573), (135801478, 132646210), (15750573, 456853606), (132646210, 827392886), (132646210, 1690763647), (15750573, 192931240), (18932422, 22960511), (5921452, 19659370), (139377848, 132646210), (132646210, 1014722412), (19659370, 797823007997722624), (721931072, 132646210), (19659370, 27818124), (376297519, 25073877), (140093780, 132646210), (19659370, 240316759), (132646210, 16110508), (2711212681, 19659370), (279084731, 132646210), (76336279, 19659370), (115091858, 132646210), (15750573, 1972411447), (15750573, 1202308734), (1011316249274540033, 132646210), (1204339794471538688, 132646210), (252411935, 19659370), (132646210, 1219230275198058497), (1068486102930112514, 19659370), (132646210, 18202677), (19659370, 1002096110), (1231314888, 132646210), (118412527, 3036907250), (19659370, 1145584490594443264), (1617314359, 132646210), (18932422, 500950174), (954235769618538496, 3036907250), (46342393, 19659370), (604779041, 18932422), (17917382, 15750573), (1262176362913136641, 201275909), (19659370, 15376357), (132646210, 2272376472), (3036907250, 562439654), (19659370, 221460294), (132646210, 1014471), (369440364, 18932422), (15750573, 544360896), (132646210, 72781449), (201275909, 1000886101), (4928034543, 3275071813), (91168371, 1323903942951112705), (19659370, 1026754771087110144), (19659370, 53079180), (1043021486, 15750573), (433226744, 15750573), (148975904, 101711550), (15750573, 2525616956), (78577226, 15750573), (132646210, 2269512362), (142837256, 15750573), (822405576504344576, 132646210), (110509537, 15750573), (5765972, 132646210), (103810205, 132646210), (870764041660190720, 132646210), (33423759, 19659370), (132646210, 3248357604), (242868086, 132646210), (162124540, 132646210), (19244292, 122408887), (181954043, 16067035), (2660795953, 122408887), (916364161415892992, 15147397), (19659370, 1708743114), (1235459244192862208, 3270447613), (281448138, 3036907250), (4230101712, 44196397), (19659370, 2240528131), (132646210, 518957746), (220020080, 15750573), (256353770, 15750573), (1553685114, 132646210), (19659370, 41572443), (132646210, 113339417), (132646210, 980046830), (132646210, 146195370), (15750573, 706431707885477888), (245345590, 132646210), (780788089966829568, 15750573), (132646210, 320568816), (297091554, 132646210), (406303880, 90109488), (1140163756267192321, 1299448831843524609), (31442869, 19659370), (2821866374, 68475307), (132646210, 996170598056263683), (3036907250, 15492359), (341000847, 1021864596548681728), (1094048100564365312, 132646210), (19659370, 856955544845811712), (1071412460, 19659370), (132646210, 191723833), (132646210, 216919545), (774324193928351744, 132646210), (839139788846411777, 3036907250), (132646210, 880523990883848192), (18932422, 104892871), (18932422, 2318099514), (19659370, 600067712), (246318475, 15750573), (16596200, 19659370), (788839271239184385, 3036907250), (19659370, 69870134), (1186828039, 577243493), (19659370, 5637652), (19659370, 497181885), (8762122, 15750573), (14947339, 285021127), (2492690671, 132646210), (15750573, 441676899), (19659370, 547871798), (140956562, 19659370), (19659370, 2807461219), (456853606, 15750573), (772574162, 132646210), (19659370, 743917727820058626), (2895714597, 19659370), (53654934, 701882787821973506), (506166021, 15750573), (199298537, 132646210), (132646210, 790451965), (19659370, 332134740), (132646210, 2422189058), (1290862877897682945, 193935341), (2753364997, 116655482), (972040446, 201275909), (19659370, 3207393315), (18932422, 60884801), (1107588341124337666, 132646210), (15750573, 131526573), (157981564, 53654934), (68475307, 2821866374), (737882640, 15750573), (19659370, 1190682302977859584), (3036907250, 1053724531), (21308312, 132646210), (210501383, 376297519), (376297519, 416476798), (19659370, 2831695553), (3036907250, 2413882279), (14048484, 19659370), (132646210, 274609987), (132646210, 4652730673), (831114368435748864, 3036907250), (19659370, 186764685), (1019194066855006208, 132646210), (132646210, 17002009), (386277982, 20176114), (19659370, 307755344), (139811295, 19659370), (3107826244, 19659370), (15750573, 705504146808565760), (1195044761322823680, 3036907250), (17922590, 420368902), (1043211642182328320, 19659370), (1299448831843524609, 1140163756267192321), (18932422, 66369383), (1169586428533190656, 469631198), (132646210, 135801478), (191728278, 132646210), (132646210, 234321271), (477030336, 19659370), (15750573, 1284129738), (19659370, 15518172), (2199531518, 132646210), (132646210, 2601589496), (308456550, 2890854807), (132646210, 848799224854609920), (11892372, 132646210), (19659370, 1580058000), (19659370, 1071412460), (1677808003, 15750573), (132646210, 2713275441), (373951619, 132646210), (18932422, 831922344), (9271782, 19659370), (132646210, 290705256), (2807461219, 19659370), (25864331, 19659370), (19659370, 2520999920), (132646210, 6844292), (132646210, 6459362), (616219267, 19659370), (132646210, 393956778), (19659370, 7295362), (8077952, 132646210), (15750573, 343998886), (15750573, 1629889939), (19659370, 16976496), (73147282, 3036907250), (9571292, 132646210), (132646210, 4083688114), (19659370, 534255106), (395990396, 3036907250), (16249403, 132646210), (15750573, 50607971), (15750573, 860098587287588864), (13360372, 132646210), (132646210, 743908703863083008), (108076200, 3147145875), (15750573, 251149608), (271909348, 132646210), (260971421, 132646210), (549833457, 331080165), (15750573, 628623778), (2989739661, 19659370), (2876226376, 19659370), (36417099, 19659370), (1189744336415723520, 132646210), (132646210, 174083824), (12031032, 132646210), (19659370, 111258447), (72102865, 19659370), (2208838112, 3036907250), (26000689, 18932422), (15750573, 20747847), (3036907250, 2835276183), (1002193231, 132646210), (19659370, 3074437553), (1734817550, 3036907250), (132646210, 2025101), (93781753, 132646210), (132646210, 2209003450), (742143, 3036907250), (19659370, 93903085), (18932422, 2206179206), (119711344, 3036907250), (887535601, 132646210), (132646210, 3304471), (17260513, 3314775459), (37069005, 132646210), (4042462396, 19659370), (443505905, 376297519), (298982411, 19659370), (3095317209, 18932422), (132646210, 871687740), (19659370, 219728708), (1297170244658552838, 19659370), (377983647, 19659370), (264132382, 132646210), (19659370, 2444229696), (132646210, 10695152), (19659370, 1344951), (19380829, 18932422), (132646210, 898565245484105732), (19659370, 585390634), (93903085, 19659370), (1193486898, 15750573), (615595875, 19659370), (132646210, 156204739), (822659, 132646210), (132646210, 1267637312), (234070123, 15750573), (132646210, 313348339), (1184821524534059008, 132646210), (3364147025, 132646210), (204387286, 15750573), (15750573, 882605036), (132646210, 1166366776625467393), (19659370, 308843719), (15750573, 16079826), (1228726773078208512, 19659370), (942684527754989568, 132646210), (960887748, 15750573), (132646210, 492216731), (1251108504653361152, 132646210), (19659370, 158751132), (132646210, 135047672), (192854350, 3036907250), (15750573, 39618125), (19659370, 14285650), (4833032980, 132646210), (3036907250, 166739404), (132646210, 1617314359), (132646210, 44106240), (3036907250, 3015605477), (132646210, 191728278), (132646210, 606214834), (80422885, 3036907250), (19859014, 19659370), (14874480, 18932422), (317727341, 132646210), (174083824, 132646210), (361115646, 132646210), (924822883800453120, 193935341), (15750573, 1653261366), (132646210, 33113669), (53645823, 132646210), (19659370, 74419325), (321951166, 211457876), (15750573, 1009253378), (1015930135, 132646210), (342137485, 19659370), (1194379349803319298, 132646210), (289284899, 798144986491551745), (2252260178, 132646210), (19659370, 25213966), (190778398, 132646210), (98975049, 53654934), (289284899, 75587044), (3036907250, 1579422614), (916364161415892992, 1085427626716491776), (132646210, 66722583), (2228576226, 19659370), (2803495736, 15750573), (2894562264, 1094001009188397057), (132646210, 39547749), (2347049341, 3036907250), (19659370, 249255635), (199597043, 19659370), (132646210, 32942338), (725387616, 19659370), (158297618, 19659370), (305474242, 132646210), (1898912480, 19659370), (2460368252, 19659370), (431192409, 132646210), (404100683, 19659370), (943676329, 15750573), (549833457, 3916694415), (2924886188, 2838403462), (132646210, 1617382039), (15750573, 216744325), (132646210, 2280952807), (132646210, 495430242), (132646210, 103835763), (3075691, 19659370), (272065025, 132646210), (1109067043, 15750573), (14065835, 132646210), (132646210, 822367881547550720), (78912282, 132646210), (132646210, 60959947), (269301403, 2427366498), (470847338, 386277982), (4739335047, 15750573), (132646210, 16102444), (812055605510803456, 132646210), (19659370, 8719472), (3111344171, 27018274), (132646210, 1084212657761148928), (814980524200566784, 132646210), (25058013, 53654934), (618193431, 132646210), (2190723061, 132646210), (515563051, 101711550), (2969887354, 3036907250), (2654456020, 4718039356), (19659370, 117712651), (132646210, 8260242), (18932422, 28822067), (330917707, 132646210), (598112617, 3314775459), (1196193239713353732, 19659370), (132646210, 22585506), (2188930908, 132646210), (132646210, 33838201), (73926321, 15750573), (132646210, 435727485), (132646210, 785618379201654784), (3226059106, 15750573), (15750573, 2785709353), (904174368, 15750573), (916364161415892992, 18494510), (18932422, 16867526), (132646210, 245345590), (139355216, 132646210), (383365753, 19659370), (115681495, 101711550), (147299961, 15750573), (44196397, 17664709), (19659370, 79703784), (132646210, 748525684578914304), (122408887, 2322897703), (836189288572325888, 19659370), (5108051, 132646210), (1284129738, 15750573), (14199378, 3036907250), (1299097451811536910, 3270447613), (11348282, 3036907250), (19659370, 15808647), (354009660, 132646210), (203250712, 19659370), (808593541840719872, 19659370), (132646210, 1371476814), (2280952807, 132646210), (258465487, 15750573), (19659370, 261126954), (755513278625898496, 70380871), (2803449260, 19659370), (15750573, 803003521), (19659370, 1065173952664952837), (567383651, 132646210), (130667410, 15750573), (469119337, 18932422), (195719387, 132646210), (15750573, 1035807940719112192), (132646210, 870764041660190720), (109598348, 132646210), (701026341500690432, 3036907250), (132646210, 3332231), (132646210, 272623675), (2544161559, 15750573), (132646210, 14494523), (872544691442466816, 132646210), (3237012607, 15750573), (2329817887, 132646210), (132646210, 84508784), (19659370, 616219267), (5734242, 132646210), (132646210, 4347423515), (19659370, 207534677), (469631198, 1253272850691129347), (19659370, 1354848524), (2922679556, 19659370), (132646210, 22952866), (18932422, 101264703), (19659370, 2372636521), (132646210, 1907881), (1074807847, 15750573), (26014256, 19659370), (3751854082, 15750573), (17581976, 19659370), (132646210, 709493676121042945), (1598324696, 132646210), (1725341478, 15750573), (122408887, 122468228), (3565816992, 19659370), (216703645, 18932422), (15750573, 2176025565), (36024756, 1410981890), (16953723, 15750573), (18932422, 469119337), (19659370, 837051215339008000), (132646210, 14667411), (50374439, 19659370), (19659370, 311340284), (200163448, 3036907250), (797823007997722624, 19659370), (758175168, 19659370), (19659370, 2221607978), (132646210, 3310895591), (918798040282091520, 15750573), (75587044, 289284899), (82573938, 132646210), (52414554, 15750573), (2312790332, 19659370), (3036907250, 184125091), (830589635738816512, 4783690002), (285332715, 132646210), (119459238, 19659370), (15750573, 2560958309), (916364161415892992, 761245260), (132646210, 65915718), (153439378, 132646210), (19659370, 398500188), (19659370, 702932794947694592), (132646210, 317727341), (15750573, 28316908), (2903681001, 19659370), (132646210, 1040575154424893441), (910827588, 3036907250), (1168762828607508480, 132646210), (3130629970, 19659370), (203070657, 18932422), (132646210, 278359534), (778856886, 132646210), (132646210, 181720081), (15750573, 616564407), (18932422, 93957809), (132646210, 2475224005), (132646210, 2607616422), (132646210, 1108108225), (19659370, 301939006), (1006419421244678144, 1412036527), (1099250750155354114, 132646210), (2176358690, 19659370), (1605951265, 132646210), (132646210, 1259983955408744449), (831922344, 18932422), (915721853833900032, 19659370), (132646210, 37622738), (789107706397196288, 132646210), (19659370, 108334890), (54580934, 132646210), (19659370, 2236856634), (132646210, 807251568961744896), (19659370, 1136467769199910912), (597499972, 132646210), (33113669, 132646210), (112829445, 18932422), (132646210, 391247062), (114146587, 132646210), (18932422, 567360618), (15750573, 417189950), (132646210, 2579832252), (132646210, 87985586), (132646210, 41828876), (132646210, 322711407), (27018274, 724150434567446529), (582161546, 19659370), (1037548569467731968, 132646210), (19659370, 16596200), (1089302341, 15750573), (3036907250, 118412527), (16279554, 132646210), (112415325, 132646210), (1044869316288696320, 132646210), (56510427, 3036907250), (1094001009188397057, 896688971186667520), (1054280867512705025, 132646210), (831290691712004096, 132646210), (19659370, 277298681), (82388703, 179571184), (132646210, 1182908622113660929), (325755342, 132646210), (132646210, 3395161438), (132646210, 3235806942), (132646210, 4460137405), (273003435, 19659370), (18855622, 132646210), (1663172653, 18932422), (15750573, 925220088), (19659370, 33423759), (132646210, 20536157), (44196397, 776585502606721024), (717348489215262724, 336557932), (18932422, 342569184), (717348489215262724, 183036543), (354847710, 15750573), (15675384, 132646210), (15750573, 258465487), (332134740, 19659370), (14146389, 15750573), (15750573, 4854858064), (132646210, 3077144869), (19659370, 6365342), (15750573, 15637569), (132646210, 1770311), (2790017707, 1094001009188397057), (2232721860, 19659370), (4398626122, 132646210), (3036907250, 477554560), (3036907250, 788839271239184385), (203866616, 15750573), (46508246, 15750573), (17078917, 132646210), (132646210, 3865043177), (44322834, 116655482), (49945724, 18932422), (1225090677597442048, 824668943285702661), (19659370, 3621255616), (2182249315, 3411494596), (12044602, 19659370), (509162767, 15750573), (3145021135, 18932422), (2441568883, 1031837755234549760), (132646210, 14065835), (539296619, 19659370), (118263124, 132646210), (132646210, 136756365), (136756365, 132646210), (14208224, 19659370), (1238826270, 132646210), (19659370, 4728720725), (132646210, 299858686), (3036907250, 870362407), (1685766865, 132646210), (29277960, 132646210), (19659370, 1140577345973170177), (132646210, 1605951265), (327301533, 132646210), (3270447613, 3386560983), (2785709353, 15750573), (18932422, 45389867), (132646210, 11235202), (18932422, 3145021135), (1140163756267192321, 1055867231060537344), (105925630, 132646210), (33105342, 15750573), (20304025, 19659370), (1023751696697028608, 19659370), (3036907250, 569382995), (572279177, 19659370), (132646210, 17354555), (18932422, 2348513340), (132646210, 891186338), (132646210, 185263153), (18932422, 19540483), (159240329, 132646210), (52352322, 15750573), (1314432997375062016, 755513278625898496), (19659370, 47987831), (132646210, 771427581992185856), (3036907250, 2659265263), (1240768429285675008, 2924886188), (17278474, 132646210), (132646210, 936713855878787074), (132646210, 1369078711), (908589103737950208, 19659370), (15750573, 204387286), (271243941, 132646210), (76679840, 132646210), (748179418397421568, 15750573), (1171878193114025987, 132646210), (157920406, 19659370), (19659370, 1425336134), (562222972, 132646210), (327382506, 14947339), (132646210, 1052291485901697024), (15750573, 182486010), (19659370, 1227698863), (155505157, 19659370), (19659370, 11010332), (193227076, 132646210), (497181885, 19659370), (977250301, 19659370), (219728708, 19659370), (775803709997670401, 17922590), (2608840453, 132646210), (132646210, 2550133394), (123093566, 19659370), (132646210, 890413838578966528), (45412709, 132646210), (11595422, 132646210), (6844292, 132646210), (289284899, 1231189221450403841), (377344523, 15750573), (992149270399725568, 1140163756267192321), (90830802, 15750573), (78269677, 132646210), (1304717864, 18932422), (3121745324, 17922590), (132646210, 7851812), (132646210, 403731744), (950778219724230657, 36024756), (467852343, 132646210), (15750573, 2544161559), (132646210, 25481069), (15962096, 15750573), (15750573, 24932781), (19659370, 2986084527), (17922590, 16705752), (132646210, 3943475233), (4194417913, 132646210), (885944485615738881, 132646210), (17955611, 15750573), (19659370, 359831209), (19659370, 16895951), (607311335, 132646210), (172260408, 18932422), (606214834, 132646210), (4897300665, 132646210), (19659370, 34999723), (186404598, 15750573), (1230692054092529664, 19659370), (46092394, 15750573), (920700510306529280, 132646210), (1412036527, 1460313109), (19659370, 944810996), (132646210, 44871098), (132646210, 4873684235), (132646210, 42399260), (274609987, 132646210), (56077211, 1412036527), (382393, 132646210), (1031837755234549760, 2926840635), (3158689771, 19659370), (234058792, 132646210), (15750573, 369085369), (29843511, 549833457), (132646210, 2199531518), (132646210, 2251030016), (19659370, 2576448008), (3036907250, 2424287186), (1728795440, 19659370), (394665897, 15750573), (132646210, 15675384), (1052291485901697024, 132646210), (15750573, 464907377), (132646210, 1233080567727521792), (132646210, 202853969), (17580853, 132646210), (579133028, 3036907250), (370597692, 132646210), (53654934, 46224994), (15192127, 19659370), (18932422, 15421904), (132646210, 1974656552), (116655482, 1227629352), (132646210, 3415864408), (15750573, 19395637), (877886035, 132646210), (132646210, 206743057), (132646210, 17773969), (471246665, 3314775459), (15750573, 84854764), (132646210, 375007888), (1183933523129970689, 132646210), (312121622, 132646210), (132646210, 317169230), (132646210, 822431809), (132646210, 580335026), (132646210, 96962998), (1530894998, 18932422), (830589635738816512, 1112711079552053250), (918158086858211329, 19659370), (179571184, 22812127), (19659370, 402875257), (132646210, 551776311), (2550133394, 132646210), (15750573, 705427898749079552), (3099020035, 132646210), (132646210, 54817041), (3036907250, 281448138), (132646210, 1168762828607508480), (2525616956, 15750573), (369085369, 15750573), (19659370, 27366114), (19659370, 1936953062), (15862919, 15750573), (122408887, 89489054), (15750573, 188723124), (888118103095115780, 53654934), (132646210, 16687314), (132646210, 115091858), (132646210, 125483940), (316386106, 15750573), (21192987, 132646210), (19659370, 529771925), (19659370, 14301911), (1148595838664552451, 132646210), (17730501, 132646210), (132646210, 940901351759994880), (15750573, 848152044137574401), (1409748306, 132646210), (19659370, 458079606), (18932422, 400831970), (829993981543084032, 179571184), (716947512154853376, 132646210), (3361359683, 19659370), (114407120, 19659370), (132646210, 240478658), (22048217, 2924886188), (132646210, 3375552377), (19659370, 709543955126333440), (15750573, 4385501957), (132646210, 2851178794), (132646210, 46932973), (85891683, 44196397), (132646210, 2515540081), (63801028, 18932422), (376725527, 132646210), (2924886188, 22048217), (132646210, 61143806), (26280712, 15750573), (9320372, 132646210), (803909558431313920, 19659370), (7170942, 132646210), (3036907250, 124087958), (2924886188, 2164350602), (1217315090, 132646210), (3036907250, 58160853), (393675585, 132646210), (2890969865, 132646210), (15750573, 1677808003), (2568478126, 18932422), (132646210, 313207740), (26976778, 19659370), (1643302016, 19659370), (193935341, 924822883800453120), (47456957, 132646210), (15750573, 58324434), (132646210, 1183933523129970689), (19659370, 43006345), (18932422, 107171037), (1708488139, 132646210), (19659370, 512594470), (19659370, 106023728), (2805421915, 132646210), (132646210, 114146587), (2244880545, 15750573), (94335911, 376297519), (181720081, 132646210), (944443345, 15750573), (15750573, 748179418397421568), (787735106546827265, 19659370), (132646210, 113125584), (771036399671705600, 132646210), (23999540, 132646210), (376297519, 94335911), (2239534928, 132646210), (70819203, 132646210), (19659370, 323616054), (3035143127, 18932422), (132646210, 810173876466515968), (132646210, 953752657), (2155233830, 132646210), (132646210, 15455450), (2190533245, 1571112116), (211457876, 19033910), (132646210, 918943909811769344), (181348220, 132646210), (15750573, 27007409), (719967950527205376, 19659370), (23818581, 3036907250), (15750573, 577430083), (132646210, 45598113), (132646210, 216016685), (388729560, 269301403), (810893744593584128, 132646210), (15750573, 896676717603028992), (18932422, 2816046521), (19659370, 966024156574662656), (73705954, 132646210), (19659370, 225110274), (193640022, 19659370), (132646210, 14697496), (20887537, 15750573), (132646210, 2869101210), (792460428005605376, 132646210), (30030112, 15750573), (1490398796, 19659370), (388752038, 19659370), (19659370, 2842558252), (15750573, 73343), (132646210, 728354894), (1245923843119575041, 132646210), (16273541, 18932422), (325476794, 3036907250), (132646210, 1144823372158767104), (19659370, 41216797), (15750573, 196476038), (19659370, 1284042607), (1882331364, 211457876), (132646210, 2459299508), (631705640, 19659370), (400831970, 18932422), (132646210, 10313732), (360783415, 132646210), (1239750608, 469631198), (132646210, 289560192), (19659370, 2329921), (263044687, 19659370), (19659370, 3361359683), (19659370, 1244079788), (388187461, 577243493), (197362628, 19659370), (112882940, 19659370), (103546343, 132646210), (132646210, 887627169765130241), (2390705126, 830589635738816512), (4863093417, 132646210), (18417153, 132646210), (1002096110, 19659370), (2190533245, 87889325), (19659370, 949493208702099456), (15750573, 540259669), (108989193, 132646210), (30755419, 3314775459), (791230655367700480, 15750573), (132646210, 3317549893), (3124307007, 68475307), (15750573, 104633187), (2381066016, 15750573), (132646210, 78269677), (3036907250, 2385273733), (132646210, 4398626122), (15750573, 904174368), (132646210, 103546343), (132646210, 777648349), (15750573, 406260699), (68475307, 992149651), (132646210, 1322931373), (2512767432, 68475307), (19659370, 157238371), (19659370, 2301908191), (269301403, 1142819859472048131), (19659370, 164233384), (19659370, 5894872), (58324434, 15750573), (916364161415892992, 87359651), (18932422, 248135933), (26240101, 132646210), (1070352023449669632, 132646210), (68084193, 132646210), (16067035, 181954043), (33838201, 132646210), (132646210, 123846556), (132646210, 562222972), (16736535, 44196397), (24160034, 15750573), (19659370, 157920406), (2394417954, 19659370), (15750573, 509162767), (132646210, 48677032), (15750573, 30030112), (64245814, 19659370), (500950174, 18932422), (15750573, 2881046435), (56318966, 132646210), (228313429, 19659370), (44196397, 85891683), (132646210, 955493794669121537), (15750573, 33677856), (1065937815022837760, 132646210), (400804254, 132646210), (30981656, 132646210), (824668943285702661, 3261620311), (19659370, 908589103737950208), (879077538525396992, 19659370), (327347231, 1412036527), (1605, 269301403), (19659370, 10587552), (852962413, 15750573), (850170113504325632, 132646210), (14947339, 3710428289), (15750573, 284858667), (19659370, 2312790332), (132646210, 1107588341124337666), (132646210, 240867778), (132646210, 21192987), (3036907250, 15378449), (16851370, 132646210), (132646210, 104211492), (15750573, 5894962), (132646210, 16946380), (19659370, 388752038), (15750573, 79764713), (132646210, 1301869598481014787), (91168371, 187655958), (951237270044069888, 3036907250), (2831695553, 19659370), (19659370, 248721193), (442077861, 376297519), (343928585, 19659370), (132646210, 70900164), (399935607, 15750573), (2713275441, 132646210), (7466492, 132646210), (132646210, 29735775), (132646210, 4228354103), (132646210, 2769983813), (132646210, 108989193), (1196347778525384705, 1140163756267192321), (1123336792021897216, 132646210), (718108213078568960, 3036907250), (1483247714, 17370058), (17076764, 18932422), (47602120, 132646210), (15750573, 838131126002728960), (3298523377, 132646210), (101045085, 132646210), (132646210, 312131328), (132646210, 917738789233217536), (19659370, 15336340), (1117836660, 916364161415892992), (19659370, 64732883), (18932422, 850107536), (132646210, 1067977726118682625), (307912317, 19659370), (91168371, 902940396849946625), (193935341, 23574715), (19659370, 109640788), (15750573, 920563781616496641), (19659370, 876083623711174657), (69218199, 132646210), (1546634102, 16868154), (132646210, 3317585532), (19659370, 581406453), (197957154, 16868154), (104633187, 15750573), (295344317, 132646210), (132646210, 2608840453), (896676717603028992, 15750573), (1301869598481014787, 132646210), (132646210, 14294701), (2382305514, 19659370), (197608061, 132646210), (197623145, 15750573), (19659370, 2310416978), (19659370, 33864359), (18932422, 108441778), (44196397, 4230101712), (124319949, 132646210), (132646210, 1108685535088771073), (19659370, 199597043), (234321271, 132646210), (15750573, 1269448278), (188029486, 132646210), (211457876, 273489885), (132646210, 75392682), (132646210, 400804254), (132646210, 29951831), (132646210, 1189744336415723520), (19659370, 770233588721868802), (8260242, 132646210), (33861957, 132646210), (19659370, 1898912480), (4829277184, 132646210), (608052226, 132646210), (132646210, 257544772), (19659370, 743856512), (14978945, 132646210), (132646210, 3364147025), (278359534, 132646210), (43652382, 132646210), (122408887, 53096678), (14947339, 327382506), (19659370, 16710690), (19659370, 489677804), (18238570, 15750573), (132646210, 250344120), (99015174, 132646210), (132646210, 1090911182591086592), (17855686, 19659370), (132646210, 3232640646), (403274895, 19659370), (15750573, 46508246), (1031837755234549760, 82312921), (1477918760, 781805906), (116655482, 17865904), (514667085, 132646210), (94732055, 132646210), (18932422, 26000689), (132646210, 125721127), (132646210, 220139885), (2734776646, 132646210), (2867784412, 132646210), (19659370, 361288906), (835810382509928450, 19659370), (1167604898, 132646210), (2343425496, 132646210), (3916694415, 549833457), (4794104842, 19659370), (49719781, 19659370), (16621479, 19659370), (19659370, 404100683), (18728897, 19659370), (15750573, 714365137365426176), (3036907250, 570072860), (830589635738816512, 2390705126), (829115622, 132646210), (48008938, 132646210), (4707064313, 15750573), (15750573, 174991185), (11773812, 132646210), (132646210, 872274950), (916364161415892992, 813286), (132646210, 1708488139), (106418930, 132646210), (435615524, 179571184), (636089336, 15750573), (253587073, 132646210), (132646210, 1535439446), (18932422, 75585288), (36024756, 17249208), (132646210, 633), (15750573, 1578022897), (2527017636, 19659370), (58160853, 3036907250), (47325650, 132646210), (4742002531, 19659370), (19659370, 50374439), (193935341, 356803122), (414130557, 19659370), (77987143, 211457876), (15750573, 26549850), (3036907250, 207450631), (3036907250, 31311757), (19659370, 10383162), (132646210, 33970089), (19659370, 801372548940398593), (132646210, 942684527754989568), (1253984770083692544, 132646210), (132646210, 838930153665363968), (1049203448783278080, 19659370), (796877583455555584, 19659370), (19659370, 840618056678293504), (132646210, 989428140433866752), (761262362900955137, 3314775459), (720212700, 132646210), (391247062, 132646210), (19888273, 19659370), (132646210, 151490538), (1094001009188397057, 1018200198886109185), (259906731, 19659370), (19659370, 1301154075434606598), (3261620311, 824668943285702661), (3036907250, 573918122), (15156540, 19659370), (2189994866, 132646210), (830589635738816512, 17292623), (487786548, 15750573), (2435317801, 19659370), (3036907250, 41667342), (132646210, 814980524200566784), (728354894, 132646210), (3036907250, 14199378), (19659370, 3158689771), (132646210, 858519894), (361719507, 19659370), (200630242, 19659370), (1064940934528421888, 132646210), (84653850, 132646210), (433873132, 132646210), (19659370, 605027292), (19659370, 9271782), (19659370, 330151669), (132646210, 1053292116), (19659370, 539296619), (19659370, 273003435), (1523858262, 15750573), (132646210, 419071399), (19659370, 2523642978), (3902819477, 132646210), (606667727, 19659370), (414292607, 916364161415892992), (2541189847, 755513278625898496), (116655482, 22354381), (132646210, 891193292385288193), (132646210, 40156543), (534255106, 19659370), (19659370, 23666107), (717348489215262724, 737700306637594624), (19659370, 27493489), (201194687, 132646210), (44196397, 49310901), (346742249, 15750573), (19659370, 2435317801), (2604894992, 132646210), (22994885, 132646210), (19659370, 2908007650), (132646210, 159342110), (15750573, 224466293), (20436576, 19659370), (132646210, 139377848), (64732883, 19659370), (132646210, 781751446362468353), (265422963, 19659370), (132646210, 214272214), (201275909, 1297532367591084033), (6763242, 18932422), (3270447613, 3277718617), (1035807940719112192, 15750573), (18932422, 2880905121), (19659370, 48448084), (132646210, 849902720827875330), (132646210, 19204539), (12486432, 15750573), (94642927, 19659370), (2898184305, 3036907250), (1005041152242970629, 1031837755234549760), (41828876, 132646210), (248916795, 15750573), (809848752, 132646210), (1212987379692081153, 132646210), (4718039356, 717381135077138434), (130671142, 132646210), (117652722, 15750573), (470416893, 19659370), (336557932, 717348489215262724), (905903265837182976, 91168371), (2203092098, 132646210), (20131383, 19659370), (743908703863083008, 132646210), (36024756, 950778219724230657), (2869101210, 132646210), (15750573, 123678691), (376297519, 210501383), (3036907250, 831114368435748864), (126062970, 132646210), (55419861, 122408887), (388144129, 132646210), (132646210, 338989477), (15750573, 2803495736), (174959656, 19659370), (90109488, 406303880), (132646210, 4194417913), (106791368, 14538236), (19659370, 264103867), (2190533245, 247660554), (132646210, 121709074), (19659370, 25864331), (1652541, 3036907250), (769113642, 577243493), (8746072, 19659370), (45389867, 18932422), (132646210, 61449317), (132646210, 2343425496), (827699070567280641, 3270447613), (953752657, 132646210), (1251034648492138498, 132646210), (402875257, 19659370), (132646210, 748176824), (132646210, 1017171853914333185), (84351228, 19659370), (247943231, 132646210), (18932422, 350152586), (132646210, 622716896), (37162329, 132646210), (132646210, 384127183), (5894872, 19659370), (115763683, 830589635738816512), (132646210, 34642043), (253734620, 132646210), (474233138, 15750573), (87985586, 132646210), (132646210, 1238826270), (19659370, 47562075), (132646210, 948669952843595776), (132646210, 824812182114164736), (15750573, 18238570), (132646210, 11069462), (15002894, 19659370), (258082407, 3314775459), (2676313880, 19659370), (19659370, 884180960), (101070604, 4928034543), (762093631, 132646210), (18932422, 6763242), (4196200462, 132646210), (44106240, 132646210), (3270447613, 41314338), (2190533245, 2334835022), (132646210, 4874161629), (69384456, 1483247714), (19659370, 476700973), (14359747, 15750573), (15750573, 52352322), (132646210, 337745478), (879014078932504577, 132646210), (22514268, 132646210), (14049302, 19659370), (1319272146963673089, 132646210), (1256240551118200835, 132646210), (132646210, 618551148), (2273201773, 132646210), (3036907250, 4645255754), (20058825, 19659370), (54163837, 132646210), (2512218333, 132646210), (14947339, 1230803040980082694), (569382995, 3036907250), (132646210, 2203092098), (19659370, 14369971), (1721425735, 132646210), (4652730673, 132646210), (117079124, 3036907250), (1344951, 19659370), (132646210, 1086604922), (15750573, 700064764), (3036907250, 972651), (1108108225, 132646210), (132646210, 435462176), (166978636, 341000847), (2236856634, 19659370), (635986661, 132646210), (13284672, 19659370), (189495871, 18932422), (931630470399451139, 27018274), (19659370, 36588310), (132646210, 704185699415695360), (376297519, 22949587), (132646210, 190821474), (132646210, 11669522), (15750573, 150732625), (19659370, 73001375), (132646210, 195658424), (3036907250, 2979365176), (132646210, 17018894), (132646210, 38048603), (17043428, 3036907250), (19659370, 95196023), (69870134, 19659370), (132646210, 951844723), (876785354, 132646210), (15750573, 483172916), (2816046521, 18932422), (78807415, 19659370), (103989154, 830589635738816512), (19659370, 2903217440), (438301250, 132646210), (132646210, 36927290), (1325403832575266816, 16868154), (132646210, 352248891), (132646210, 72386774), (252988497, 19659370), (16549460, 132646210), (15750573, 943676329), (984275749824638976, 132646210), (317169230, 132646210), (15750573, 354847710), (15750573, 780788089966829568), (1158718834322395137, 201275909), (19659370, 15192127), (184125091, 3036907250), (19659370, 10752242), (88727377, 132646210), (132646210, 90626911), (803003521, 15750573), (8143682, 132646210), (2577967370, 19659370), (832267168276475904, 132646210), (15750573, 857570979022876672), (3036907250, 718108213078568960), (317158835, 19659370), (132646210, 68084193), (101711550, 1284213415410651136), (19659370, 1057715900), (132646210, 1598324696), (19659370, 2492618120), (856684314, 132646210), (34227622, 18932422), (132646210, 3033312071), (221460294, 19659370), (132646210, 78969930), (15750573, 370102769), (15750573, 20605844), (132646210, 22132438), (450842550, 19659370), (132646210, 3298523377), (44953355, 19659370), (3083042302, 3036907250), (15750573, 58558979), (17773969, 132646210), (19659370, 915721853833900032), (102609059, 15750573), (48448084, 19659370), (19659370, 139811295), (1000886101, 201275909), (3036907250, 108434901), (984363152958685184, 132646210), (740410382, 18932422), (19659370, 1643302016), (3314775459, 30755419), (494181406, 132646210), (313140358, 19659370), (571202103, 3036907250), (15750573, 1118909833942577153), (132646210, 2245759994), (343998886, 15750573), (1468634743, 132646210), (15750573, 398537509), (132646210, 384747822), (132646210, 700999301514686464), (179571184, 82388703), (748525684578914304, 132646210), (132646210, 76679840), (132646210, 89774258), (19659370, 3841067114), (2383802810, 132646210), (19659370, 2706892358), (132646210, 194324277), (549833457, 476582730), (1653261366, 15750573), (40903402, 15750573), (19659370, 787735106546827265), (21324520, 19659370), (132646210, 589300441), (384747822, 132646210), (132646210, 94732055), (3036907250, 3511430425), (341000847, 65591085), (234017215, 132646210), (248792951, 824668943285702661), (132646210, 93873778), (128232442, 3411494596), (45303184, 19659370), (19058451, 19659370), (19659370, 3620548396), (132646210, 1111730640762875907), (19659370, 3415205164), (132646210, 1120424520773505028), (925565433679298560, 132646210), (249661913, 132646210), (281945877, 132646210), (1441677282, 132646210), (15750573, 3030560968), (3147145875, 2345372593), (132646210, 1255799724), (132646210, 891731882), (132646210, 442245081), (132646210, 26092949), (19659370, 91523851), (42614814, 15750573), (19659370, 321908821), (19659370, 16044272), (132646210, 281945877), (188756842, 19659370), (14667411, 132646210), (14616323, 755513278625898496), (132646210, 623575404), (15750573, 563979425), (132646210, 832267168276475904), (132646210, 346400805), (1153956919, 19659370), (1007669261261778944, 4928034543), (1483247714, 2894489961), (800707492346925056, 19659370), (131947210, 132646210), (4831430475, 19659370), (18932422, 172260408), (132646210, 106418930), (20644989, 132646210), (80446199, 132646210), (19659370, 3439304543), (132646210, 234017215), (3036907250, 1367458171), (15750573, 59414975), (15750573, 944443345), (18932422, 533149076), (15750573, 256353770), (14488805, 18932422), (7170002, 15750573), (2249121151, 19659370), (24897144, 132646210), (19659370, 507704346), (847472324324413440, 4718039356), (43006345, 19659370), (4928034543, 59490048), (19659370, 3120886937), (1562578862, 132646210), (823957466, 132646210), (14784786, 132646210), (15750573, 43961874), (132646210, 50257296), (132646210, 257691637), (19659370, 1640671358), (469405173, 19659370), (17657107, 132646210), (752743856941125632, 15750573), (2322897703, 122408887), (419946721, 15750573), (949493208702099456, 19659370), (2572511777, 15750573), (27018274, 14468951), (746052642925740033, 132646210), (2893424886, 132646210), (15750573, 47567281), (132646210, 131947210), (3036907250, 13056322), (132646210, 9320372), (3242397351, 15750573), (132646210, 87476034), (132646210, 838701223113068544), (156322219, 132646210), (15750573, 12486432), (3037264899, 3036907250), (15750573, 26212951), (132646210, 109399833), (75585288, 18932422), (15750573, 731124359117590528), (1460313109, 1412036527), (19659370, 465693357), (132646210, 49977240), (15750573, 36094947), (19659370, 1376639125), (70266297, 18932422), (17554109, 18932422), (19081001, 15750573), (15750573, 2987533553), (19659370, 1490398796), (134061959, 19659370), (132646210, 58880930), (465693357, 19659370), (375829381, 1140163756267192321), (90626911, 132646210), (132646210, 635986661), (12160482, 132646210), (132646210, 4694535756), (23574715, 193935341), (15750573, 147299961), (132646210, 751506263792582656), (1246421, 19659370), (19659370, 26014256), (15750573, 859698369765179392), (19659370, 253609062), (19659370, 4827366892), (2457267950, 18932422), (1562518867, 19659370), (132646210, 2189885600), (950072183031771136, 132646210), (717348489215262724, 215622410), (19659370, 700831074), (420368902, 17922590), (15750573, 63051202), (13235832, 19659370), (4854858064, 15750573), (15750573, 898161154169679873), (59414975, 15750573), (19659370, 252411935), (29866761, 3036907250), (132646210, 774076183461892096), (4385501957, 15750573), (1492787690, 928760788306878464), (920382882413244417, 19659370), (132646210, 43652382), (1078117895207563264, 3147145875), (341258707, 15750573), (132646210, 406932163), (19659370, 709828900), (551653007, 15750573), (555461978, 15750573), (4702018489, 132646210), (897923075060006912, 308456550), (179571184, 1281284403864403970), (237738266, 18932422), (367840245, 37105355), (132646210, 1167604898), (39781270, 15750573), (308578864, 132646210), (2097571, 3036907250), (14538236, 149155812), (29716049, 15750573), (132646210, 4712272236), (1227698863, 19659370), (512594470, 19659370), (583637312, 19659370), (997784960, 132646210), (1296322367053082624, 19659370), (15750573, 34690221), (132646210, 25268217), (132646210, 274134534), (32799259, 27018274), (19073790, 19659370), (197481317, 19659370), (132646210, 899783769854320640), (132646210, 327301533), (132646210, 6015842), (132646210, 6355402), (1046614848, 132646210), (824249522389970944, 15750573), (132646210, 2373145729), (65915718, 132646210), (15750573, 1877046548), (48354997, 19659370), (15090415, 19659370), (151581782, 15750573), (39889364, 15750573), (486530534, 916364161415892992), (53654934, 4755350878), (132646210, 18417153), (19659370, 3008322017), (36659063, 132646210), (14947339, 1279678049458499584), (215622410, 717348489215262724), (700064764, 15750573), (132646210, 828625466), (15750573, 54541583), (28316908, 15750573), (19659370, 431210487), (1019221160742014976, 132646210), (49911968, 132646210), (19659370, 46350079), (19659370, 228313429), (55612967, 15750573), (19659370, 59481357), (132646210, 1253984770083692544), (569790116, 18932422), (2341772972, 132646210), (132646210, 70819203), (1114432920121376768, 132646210), (4928034543, 952300568961220609), (1141689200099639296, 16868154), (132646210, 1127358323051749378), (398092540, 19659370), (4718039356, 320170952), (1067977726118682625, 132646210), (201275909, 2494919384), (132646210, 2303160649), (19659370, 361719507), (16423883, 132646210), (2918846960, 19659370), (8139122, 19659370), (15750573, 822933216206188544), (483172916, 15750573), (15750573, 42909798), (16868154, 1260526934678740993), (3892710581, 132646210), (352248891, 132646210), (551951577, 132646210), (830589635738816512, 115763683), (67815277, 19659370), (19659370, 477030336), (17503180, 132646210), (945103495748882432, 469631198), (826837132325027841, 19659370), (19659370, 826837132325027841), (45827605, 19659370), (2865520015, 4718039356), (19659370, 203250712), (495517322, 14538236), (431764698, 19659370), (132646210, 2155233830), (544737616, 132646210), (3036907250, 3240349167), (13568892, 132646210), (822431809, 132646210), (47567281, 15750573), (18932422, 2457267950), (406303880, 178502172), (132646210, 743340014214352896), (213831533, 549833457), (824668943285702661, 456156498), (18932422, 14162048), (15750573, 1351611290), (37105355, 180092401), (132646210, 88727377), (15750573, 540985738), (81143606, 824668943285702661), (47978543, 132646210), (132646210, 106856453), (515192228, 132646210), (16710690, 19659370), (19659370, 2549047974), (1224549145865859072, 755513278625898496), (15750573, 1935675295), (3036907250, 1652541), (111373125, 132646210), (15750573, 44595708), (1580058000, 19659370), (1232460508160094209, 132646210), (125792630, 132646210), (19659370, 1408239470), (132646210, 327066310), (132646210, 998279534947586048), (1015069938472501249, 1094001009188397057), (87476034, 132646210), (15581480, 132646210), (9910992, 18932422), (2328843320, 15750573), (1162690737516863494, 19659370), (18932422, 481094172), (724150434567446529, 27018274), (19659370, 153004670), (232832623, 2190533245), (132646210, 48062712), (118748199, 19659370), (15750573, 485018563), (3051698888, 3036907250), (132646210, 760799156256382976), (304540433, 15750573), (19659370, 35749835), (132646210, 109598348), (1728885823, 15750573), (15750573, 26280712), (15750573, 579842788), (15750573, 248916795), (36094947, 15750573), (1251232344947613701, 132646210), (132646210, 443602279), (132646210, 804683646), (211457876, 374400342), (476700973, 19659370), (19659370, 1068486102930112514), (132646210, 43973475), (772871943577931776, 15750573), (132646210, 2575365842), (18932422, 49945724), (3270447613, 1467961898), (132646210, 905687730843037696), (19659370, 82337208), (132646210, 7170942), (132646210, 95630269), (1319307998, 3270447613), (2966094221, 19659370), (19659370, 15739506), (132646210, 1929876336), (132646210, 256879792), (53079180, 19659370), (24528242, 181954043), (1206594224537448449, 19659370), (19659370, 15002894), (391015835, 15750573), (18932422, 15089078), (132646210, 21003382), (68475307, 404388434), (833597084167122945, 19659370), (301941645, 3036907250), (132646210, 373951619), (3036907250, 119711344), (25624456, 132646210), (402143587, 132646210), (1197369638, 19659370), (422016668, 132646210), (193935341, 846563012634787841), (132646210, 1471694196), (19659370, 110420616), (696907754275930112, 3036907250), (132646210, 2371689380), (132646210, 68443905), (416476798, 376297519), (3036907250, 911963260005552128), (132646210, 19626509), (132646210, 1116622891), (104435358, 132646210), (19659370, 30420908), (1357389505, 132646210), (1121934716, 19659370), (16319888, 116655482), (3036907250, 15521075), (132646210, 1557796237), (828489290, 18932422), (132646210, 802182440), (3036907250, 2827812417), (132646210, 2986013849), (53250831, 132646210), (1251073078211178496, 132646210), (290705256, 132646210), (132646210, 3946229836), (132646210, 2821170946), (132646210, 994300581291282432), (132646210, 56741675), (709402060547092481, 19659370), (87889325, 2190533245), (42909798, 15750573), (229601276, 132646210), (4027105402, 132646210), (3375552377, 132646210), (373580725, 19659370), (412155441, 132646210), (830589635738816512, 92116069), (982276165992935426, 19659370), (46922123, 132646210), (19659370, 57246759), (132646210, 1255539999467958272), (132646210, 1015930135), (3277718617, 3270447613), (19659370, 44953355), (18932422, 39048846), (15750573, 1320653768346816512), (132646210, 193309907), (19659370, 298982411), (132646210, 1229540217595387904), (717381135077138434, 4718039356), (19540483, 18932422), (735447938214678529, 132646210), (15739506, 19659370), (4928034543, 3065599859), (19659370, 193640022), (507185539, 132646210), (1477918760, 964072678020837377), (838701223113068544, 132646210), (854719703545253888, 3036907250), (132646210, 360783415), (1237393394, 132646210), (19659370, 219293337), (2908007650, 19659370), (19659370, 14895163), (132646210, 3305766383), (2190753169, 19659370), (132646210, 14417382), (15225375, 19659370), (1106015165969924096, 19659370), (132646210, 130256377), (83566575, 15750573), (39721490, 15750573), (1031837755234549760, 65494780), (132646210, 2968801294), (38190507, 15750573), (3310895591, 132646210), (3201975988, 3036907250), (19659370, 9541832), (132646210, 17657107), (220145170, 132646210), (352053266, 132646210), (24932781, 15750573), (132646210, 1468634743), (19659370, 854581958), (132646210, 54163837), (828683626372009985, 15750573), (19659370, 2752564758), (132646210, 544875915), (19659370, 59780450), (3036907250, 4663308149), (852054291049316352, 15750573), (2492618120, 19659370), (18115497, 18932422), (19659370, 725387616), (132646210, 876785354), (50414506, 3036907250), (19659370, 2228576226), (101818541, 132646210), (742643587108605952, 132646210), (899783769854320640, 132646210), (15750573, 246318475), (839446682819563520, 15750573), (2354542969, 132646210), (216744325, 15750573), (132646210, 828064288417779712), (113339417, 132646210), (76937615, 132646210), (308799838, 132646210), (1259983955408744449, 132646210), (14707794, 19659370), (739854925560156160, 132646210), (15750573, 1605423500), (19659370, 17705769), (132646210, 220378862), (19659370, 1734575215), (132646210, 1546005282), (1094001009188397057, 2790017707), (299394773, 19659370), (132646210, 14657345), (132646210, 118263124), (15750573, 26329801), (19659370, 431764698), (220139885, 132646210), (19659370, 722155990662123520), (132646210, 765548), (46932973, 132646210), (2924886188, 534107522), (2388819163, 15750573), (19659370, 19690273), (899166691652972544, 15750573), (19659370, 534290225), (3036907250, 701026341500690432), (346400805, 132646210), (15750573, 809193212), (945020688, 15750573), (132646210, 4157611), (2522143308, 132646210), (770233588721868802, 19659370), (66821479, 15750573), (179571184, 435615524), (91688695, 91168371), (19659370, 287275780), (15468474, 18932422), (15750573, 334516778), (3036907250, 894723591446687745), (63859619, 19659370), (781805906, 1477918760), (3036907250, 1350732349), (19659370, 734735999029383168), (1497795582, 15750573), (132646210, 9719522), (132646210, 5108051), (19659370, 14049302), (14538236, 1325376128752771073), (1038834447540531202, 132646210), (804563319457660928, 19659370), (19659370, 14048484), (3395161438, 132646210), (132646210, 911514942335012864), (224379103, 19659370), (37105355, 20433031), (829881163472916481, 132646210), (327122348, 132646210), (18932422, 8123222), (3943475233, 132646210), (21003382, 132646210), (15750573, 19081001), (3147145875, 2240601558), (132646210, 1044869316288696320), (3036907250, 11348282), (748315519674048512, 19659370), (4893681, 549833457), (186764685, 19659370), (110420616, 19659370), (452909538, 18932422), (313207740, 132646210), (577243493, 500704345), (961561664222097408, 717348489215262724), (4484681, 19659370), (15750573, 5869132), (132646210, 1442906958), (19659370, 944905694), (947311503216066560, 132646210), (4712272236, 132646210), (3036907250, 5893702), (3018358499, 19659370), (3036907250, 3081160595), (15333148, 19659370), (132646210, 2336440088), (132646210, 39697728), (63051202, 15750573), (16867526, 18932422), (70380871, 755513278625898496), (132646210, 295344317), (15750573, 852054291049316352), (977585064, 19659370), (848268354980892672, 386277982), (19659370, 134072288), (132646210, 24897144), (4770618972, 132646210), (313348339, 132646210), (19659370, 3234931837), (2645602164, 3036907250), (15056816, 19659370), (2607919231, 15750573), (15750573, 1728885823), (132646210, 831393481465556992), (3036907250, 343587148), (17268402, 132646210), (846563012634787841, 193935341), (637087464, 19659370), (103835763, 132646210), (801934486023782400, 19659370), (19659370, 1076178992036790272), (15750573, 903217429555359744), (15750573, 3197088767), (19659370, 39237580), (19659370, 758175168), (1546005282, 132646210), (1009126632450351104, 1031837755234549760), (119512412, 132646210), (3234931837, 19659370), (180637280, 116655482), (132646210, 998681467696885761), (19659370, 163363440), (36024756, 290560515), (19659370, 568542838), (308456550, 14763477), (19659370, 2922679556), (710755931227824128, 132646210), (934087003, 132646210), (206292087, 132646210), (16136933, 132646210), (514189512, 132646210), (132646210, 224209816), (16134540, 19659370), (14575354, 19659370), (132646210, 16249403), (19659370, 977250301), (18932422, 106064139), (132646210, 906922846412267521), (1708743114, 19659370), (1190461842922995712, 19659370), (1865461842, 19659370), (327032058, 19659370), (3005431923, 19659370), (132646210, 1011316249274540033), (2251030016, 132646210), (19659370, 2409117643), (15750573, 4739335047), (3513474256, 18932422), (3221752726, 132646210), (15750573, 333410580), (132646210, 409890910), (2289023460, 132646210), (18932422, 237738266), (19659370, 3442793834), (132646210, 755397390), (19659370, 793688995918024704), (132646210, 1046614848), (19659370, 155505157), (132646210, 1143038206335737856), (50706020, 132646210), (18932422, 1304717864), (2444229696, 19659370), (3207393315, 19659370), (15750573, 14957053), (2322434384, 19659370), (132646210, 312809493), (132646210, 17278474), (190006526, 132646210), (277516046, 132646210), (19659370, 815628453613621248), (2303160649, 132646210), (3386560983, 3270447613), (3036907250, 954235769618538496), (33474334, 132646210), (6457212, 916364161415892992), (132646210, 1339637532), (19659370, 3130629970), (132646210, 1038834447540531202), (605027292, 19659370), (19659370, 1230692054092529664), (2880905121, 18932422), (132646210, 1101500498564313090), (183575679, 19659370), (1471694196, 132646210), (720389270335135745, 132646210), (132646210, 923649456981135367), (231722071, 132646210), (132646210, 1102341617371963392), (1853174220, 19659370), (182273161, 14947339), (19710651, 15750573), (84404991, 132646210), (49977240, 132646210), (707112185076391936, 3036907250), (381187236, 3036907250), (132646210, 1173370158), (1412036527, 56077211), (624208322, 15750573), (2613410444, 132646210), (19659370, 924426975330160641), (540259669, 15750573), (26711278, 132646210), (15750573, 33168385), (132646210, 610026759), (2752564758, 19659370), (180463340, 3036907250), (3036907250, 951237270044069888), (132646210, 33505544), (3030560968, 15750573), (132646210, 2386023224), (16579738, 19659370), (132646210, 104435358), (337745478, 132646210), (273489885, 211457876), (132646210, 3102522680), (3036907250, 154221292), (132646210, 199298537), (3160109092, 132646210), (15045590, 132646210), (132646210, 65605637), (3036907250, 2444133930), (1412036527, 39748571), (769823624308092928, 132646210), (15750573, 73909361), (1228678952, 132646210), (964589615230337024, 132646210), (1425336134, 19659370), (132646210, 1017373138500378624), (121881387, 19659370), (2520999920, 19659370), (1629889939, 15750573), (2850524162, 1477918760), (132646210, 1280838371682779136), (135305838, 2924886188), (19659370, 259906731), (114738098, 19659370), (15750573, 37048037), (1094001009188397057, 2894562264), (341000847, 726686304), (701882787821973506, 53654934), (132646210, 20640711), (866900373302378503, 15750573), (3041372326, 132646210), (19659370, 989251872107085824), (132646210, 71167669), (19659370, 373974821), (19659370, 4786709654), (860098587287588864, 15750573), (37788263, 19659370), (1168865024674357248, 132646210), (132646210, 188221066), (19659370, 18728897), (19659370, 101764664), (350164545, 19659370), (132646210, 16851370), (132646210, 382393), (82774113, 132646210), (132646210, 2893424886), (50095170, 19659370), (18506971, 132646210), (1310568144742895619, 132646210), (3314775459, 1009310504), (211457876, 77987143), (22354381, 116655482), (132646210, 146734981), (1138704090106646528, 19659370), (2417892751, 3036907250), (2269512362, 132646210), (19659370, 17015268), (2881046435, 15750573), (38140504, 132646210), (19659370, 8220532), (16042588, 19659370), (50269516, 132646210), (25086234, 27018274), (916364161415892992, 414292607), (18932422, 63801028), (2932027868, 19659370), (216016685, 132646210), (955910820642344960, 269301403), (132646210, 84560252), (343587148, 3036907250), (4718039356, 847472324324413440), (63935826, 19659370), (219293337, 19659370), (19659370, 817382), (2842839092, 19659370), (19659370, 158659687), (15750573, 1064203950717583360), (55517828, 132646210), (132646210, 69218199), (18932422, 203070657), (1079750954868588545, 16868154), (975115762712096768, 132646210), (585390634, 19659370), (174991185, 15750573), (19659370, 1962172172), (12243, 15750573), (393652166, 132646210), (253609062, 19659370), (132646210, 21573326), (19659370, 3279064394), (15750573, 934228950), (739565869433524225, 15750573), (2346714074, 18932422), (15750573, 14583400), (132646210, 206292087), (844218954088435712, 15750573), (4718039356, 480575573), (132646210, 1228678952), (17922590, 2899907903), (15750573, 14183423), (19659370, 14341416), (19659370, 43583452), (19659370, 174959656), (2872651869, 15750573), (2424287186, 3036907250), (132646210, 49287656), (15750573, 2754412213), (911454651417088000, 19659370), (14820511, 386277982), (1057715900, 19659370), (132646210, 55517828), (2983902143, 132646210), (66815732, 15750573), (308456550, 1579778748), (807261497500069888, 132646210), (3319270312, 15750573), (18932422, 216703645), (9316452, 132646210), (364593753, 132646210), (778982023415291904, 132646210), (849902720827875330, 132646210), (132646210, 3246646347), (15750573, 17917382), (3036907250, 80422885), (19659370, 51934480), (17118060, 132646210), (436038865, 15750573), (132646210, 25624456), (755513278625898496, 1320785984816963585), (15750573, 1095972841), (1039070536184213506, 193935341), (1579422614, 3036907250), (15750573, 1934192923), (66722583, 132646210), (18932422, 950377242483343360), (26549850, 15750573), (577243493, 585988043), (386277982, 470847338), (15750573, 945020688), (392248167, 132646210), (19659370, 2427769760), (1076178992036790272, 19659370), (18384521, 132646210), (15750573, 1523858262), (16868154, 1325403832575266816), (881840360997232640, 2924886188), (132646210, 431192409), (1194928712187289601, 179571184), (1182908622113660929, 132646210), (19659370, 15573348), (2798157850, 3036907250), (14697496, 132646210), (790469455444836352, 4718039356), (984208484328763395, 132646210), (14369971, 19659370), (717348489215262724, 92344379), (19659370, 45099415), (15750573, 2895307672), (132646210, 82774113), (19659370, 390324658), (1253272850691129347, 469631198), (702883523221446656, 341000847), (179571184, 1313471202732769283), (19659370, 4898086443), (18874262, 132646210), (2995188801, 132646210), (534107522, 2924886188), (271310204, 15750573), (801059640951836672, 132646210), (312783905, 19659370), (3036907250, 3697013177), (132646210, 16514335), (9632312, 132646210), (15750573, 702513144782950400), (132646210, 23761309), (3036907250, 275686563), (59208209, 18932422), (3341697257, 132646210), (137394430, 19659370), (19659370, 835810382509928450), (911963260005552128, 3036907250), (132646210, 784083274805248000), (15750573, 16136478), (16136478, 15750573), (70900164, 132646210), (132646210, 1019221160742014976), (20581429, 3036907250), (702309206, 132646210), (804683646, 132646210), (194399316, 19659370), (758771866500816896, 132646210), (618551148, 132646210), (3314775459, 15519766), (132646210, 59504716), (132646210, 713164296604090368), (289284899, 1194745704), (17600799, 19659370), (18932422, 88673826), (132646210, 87242603), (132646210, 3270678680), (124087958, 3036907250), (1085427626716491776, 916364161415892992), (126132953, 132646210), (36588310, 19659370), (19659370, 61302699), (1045554831530889216, 1094001009188397057), (1567085737, 132646210), (6015842, 132646210), (2814432614, 19659370), (3077144869, 132646210), (468825579, 19659370), (85307840, 132646210), (1991321, 132646210), (132646210, 2239194271), (132646210, 41259586), (132646210, 16279554), (19659370, 2399290873), (2411276060, 19659370), (285021127, 14947339), (3036907250, 829903626), (19659141, 19659370), (2847332414, 132646210), (3230093066, 132646210), (132646210, 204297410), (948483885209477121, 15750573), (356775978, 132646210), (15750573, 713395522095210496), (15750573, 271310204), (544875915, 132646210), (78269397, 132646210), (91333167, 18932422), (14657345, 132646210), (1855871, 19659370), (3079899620, 19659370), (2575365842, 132646210), (16079826, 15750573), (132646210, 91367103), (297884272, 53654934), (19659370, 1138704090106646528), (253046215, 15750573), (19659370, 1189525564715089920), (1024391197, 44196397), (19659370, 939946139029090304), (15750573, 220017829), (223827175, 68475307), (19659370, 4208606734), (19659370, 17395999), (220017829, 15750573), (132646210, 84404991), (45794386, 132646210), (184817606, 15750573), (1190521464815902720, 16868154), (132646210, 846672306378326016), (4718039356, 735818445749690368), (889657085868298240, 132646210), (467551928, 132646210), (3620548396, 19659370), (18932422, 2988561009), (132646210, 466894113), (44217911, 132646210), (132646210, 3988959013), (1140163756267192321, 992149270399725568), (19659370, 28165790), (710583925, 1477918760), (807251568961744896, 132646210), (15750573, 12243), (944905694, 19659370), (19659370, 2178067878), (132646210, 833624768800817152), (49438224, 19659370), (15750573, 358026989), (3248357604, 132646210), (132646210, 1217315090), (132646210, 18318677), (18033313, 132646210), (17249208, 36024756), (132646210, 73719913), (17015268, 19659370), (854581958, 19659370), (19659370, 153327232), (28245224, 19659370), (19659370, 15156540), (44869056, 122408887), (3946229836, 132646210), (15750573, 2797743527), (1377476875, 15750573), (720750427147341824, 15750573), (132646210, 15581480), (15750573, 40380303), (132646210, 1028693496), (20167623, 132646210), (19659370, 2832694608), (19659370, 1121934716), (3036907250, 4053818032), (15750573, 65468350), (359831209, 19659370), (132646210, 1251059396991311872), (330151669, 19659370), (15492359, 3036907250), (44871098, 132646210), (742853712821903360, 289284899), (3236533841, 18932422), (793688995918024704, 19659370), (15750573, 253046215), (224466293, 15750573), (21769127, 3036907250), (419395379, 132646210), (3036907250, 337886919), (40389352, 132646210), (596203049, 132646210), (19659370, 398092540), (132646210, 144779689), (178502172, 406303880), (1477918760, 392531560), (132646210, 9430302), (132646210, 412270831), (25037133, 132646210), (3036907250, 3026571023), (15750573, 844218954088435712), (264103867, 19659370), (101013918, 132646210), (15750573, 1904734980), (134072288, 19659370), (68475307, 832162842), (19659370, 1197369638), (549833457, 4893681), (2560958309, 15750573), (17395999, 19659370), (15750573, 348506984), (2899907903, 17922590), (15750573, 15862919), (18932422, 361281600), (1483247714, 293176269), (19659370, 2411276060), (188644374, 1412036527), (19659370, 5848122), (19659370, 37715152), (15750573, 436038865), (132646210, 1121364987178618880), (132646210, 12755532), (1077633912, 132646210), (484733763, 1477918760), (333597222, 132646210), (19659370, 939091), (53654934, 25058013), (60832858, 132646210), (132646210, 139355216), (19659370, 263483174), (132646210, 735447938214678529), (132646210, 778982023415291904), (132646210, 856509174473248768), (132646210, 1055893919597133824), (551776311, 132646210), (1284176128534409216, 406303880), (132646210, 896036165350019073), (132646210, 209100025), (1222193343737794560, 19659370), (14947339, 498895063), (15166546, 132646210), (293483941, 15750573), (577243493, 1186828039), (3036907250, 1636590253), (15750573, 3751854082), (15750573, 66821479), (3036907250, 1603439773), (19395637, 15750573), (49976458, 19659370), (132646210, 27224166), (117553058, 181954043), (3085799703, 18932422), (132646210, 190754693), (3036907250, 696907754275930112), (132646210, 2983902143), (132646210, 801059640951836672), (18932422, 34743251), (132646210, 82364810), (27818124, 19659370), (1401748656, 15750573), (27018274, 996566689037795328), (3036907250, 301941645), (271370579, 132646210), (132646210, 1553685114), (3314775459, 598112617), (15750573, 2388819163), (15750573, 121492869), (207450631, 3036907250), (2336440088, 132646210), (132646210, 871920132641173504), (3036907250, 263265080), (917738789233217536, 132646210), (18932422, 2587811778), (132646210, 27375578), (132646210, 19677430), (18464317, 132646210), (299659731, 15750573), (3036907250, 408717162), (19659370, 1111871), (132646210, 18464317), (726686304, 341000847), (19659370, 14575354), (29639366, 132646210), (27224166, 132646210), (132646210, 29277960), (55247494, 19659370), (925220088, 15750573), (585988043, 577243493), (15750573, 46394850), (132646210, 392248167), (127489643, 18932422), (3512256616, 15750573), (19659370, 8034682), (404388434, 68475307), (132646210, 318093688), (132646210, 1909219404), (16948477, 132646210), (488417933, 19659370), (972987874613366784, 132646210), (2659265263, 3036907250), (15750573, 72018889), (179571184, 1194928712187289601), (19659370, 2230151202), (132646210, 710755931227824128), (18932422, 326912209), (19659370, 1148895885729947648), (132646210, 758771866500816896), (92344379, 717348489215262724), (45820175, 132646210), (132646210, 48457557), (175011974, 132646210), (132646210, 101013918), (132646210, 137745777), (82312921, 1031837755234549760), (132646210, 51215183), (132646210, 79067151), (2754814433, 15750573), (72781449, 132646210), (178976408, 132646210), (15750573, 85700509), (3482836634, 132646210), (830589635738816512, 103989154), (146116918, 15750573), (961808198, 132646210), (1222116778349821952, 36024756), (132646210, 10277212), (132646210, 879014078932504577), (322711407, 132646210), (109640788, 19659370), (146195370, 132646210), (2798093329, 68475307), (132646210, 966411199649808386), (132646210, 285332715), (275538478, 577243493), (132646210, 202740551), (268262631, 132646210), (132646210, 243082126), (24603962, 132646210), (132646210, 98966111), (1081289442671902720, 132646210), (736667972123512832, 132646210), (22812127, 179571184), (284858667, 15750573), (19659370, 4831430475), (998279534947586048, 132646210), (3235806942, 132646210), (386277982, 848268354980892672), (2910644884, 19659370), (18932422, 146159328), (19659370, 5921452), (15750573, 452570555), (605012771, 132646210), (3036907250, 117079124), (2399290873, 19659370), (199175962, 19659370), (132646210, 303048766), (19659370, 312783905), (1483247714, 905698976), (3091376321, 132646210), (132646210, 52869134), (40030538, 132646210), (132646210, 1149491203), (787338664477134848, 15750573), (1321141181846355971, 824668943285702661), (455428885, 132646210), (9719522, 132646210), (915167646240325632, 132646210), (66369383, 18932422), (2986305078, 132646210), (19659370, 159421391), (2538081673, 19659370), (19659370, 1853174220), (2309104237, 132646210), (916364161415892992, 6457212), (386908329, 18932422), (4928034543, 866238336), (1303571503, 19659370), (132646210, 279084731), (132646210, 166499569), (132646210, 167169119), (10406562, 341000847), (132646210, 299807081), (3270678680, 132646210), (132646210, 984208484328763395), (18059898, 132646210), (132646210, 4702018489), (936713855878787074, 132646210), (290560515, 36024756), (891725802, 19659370), (3430164869, 289284899), (26607837, 19659370), (132646210, 1107254048896548864), (201275909, 27382834), (28312691, 132646210), (14538236, 254218142), (15750573, 3007913925), (132646210, 40389352), (354801923, 19659370), (856955544845811712, 19659370), (1014199723031449600, 19659370), (132646210, 877823703249068032), (15750573, 79128388), (122408887, 99750590), (19659370, 1187226845155999749), (132646210, 21457289), (30878713, 27018274), (3036907250, 910827588), (72018889, 15750573), (833967951447486465, 132646210), (15750573, 4707064313), (132646210, 2604894992), (15750573, 717756832240902144), (62952214, 15750573), (1280838371682779136, 132646210), (2258653962, 27018274), (702513144782950400, 15750573), (19659370, 1441673010), (132646210, 746052642925740033), (19659370, 377983647), (19659370, 47725447), (1095972841, 15750573), (132646210, 16948477), (2279201814, 132646210), (341000847, 10406562), (3036907250, 23818581), (848799224854609920, 132646210), (28401365, 19659370), (4874161629, 132646210), (132646210, 243479125), (111258447, 19659370), (19659370, 145637517), (19659370, 2166763549), (132646210, 2354542969), (6355402, 132646210), (93655722, 132646210), (19659370, 299394773), (1313471202732769283, 179571184), (19659370, 92593701), (2894489961, 1483247714), (3036907250, 73509664), (339654180, 19659370), (19659370, 2842839092), (2882916461, 469631198), (132646210, 1622761998), (19659370, 2895714597), (43961874, 15750573), (19659370, 1153956919), (15750573, 122127763), (132646210, 2165646554), (19659370, 16134540), (3036907250, 19722699), (122408887, 2660795953), (129746032, 19659370), (2190533245, 773146218), (722155990662123520, 19659370), (132646210, 45820175), (3074437553, 19659370), (176870844, 15750573), (43973475, 132646210), (19659370, 115494880), (7295362, 19659370), (108434901, 3036907250), (132646210, 305474242), (46496916, 132646210), (34999723, 19659370), (4347423515, 132646210), (15750573, 1023655925742268426), (2166763549, 19659370), (34641691, 376297519), (19659370, 1190461842922995712), (132646210, 99015174), (19659370, 1551361069), (16044272, 19659370), (132646210, 26711278), (15750573, 487786548), (10627282, 132646210), (15750573, 1401748656), (101711550, 148975904), (2981463028, 132646210), (243082126, 132646210), (132646210, 889657085868298240), (15750573, 720750427147341824), (19411223, 3036907250), (1313558347552096256, 16868154), (85700509, 15750573), (19659370, 553729228), (1110855455696314368, 132646210), (132646210, 25134469), (3147145875, 158663891), (15750573, 130667410), (112202046, 132646210), (3314775459, 891165276), (1412036527, 188644374), (19659370, 281950081), (132646210, 3732176255), (132646210, 606265290), (3036907250, 2877269332), (15750573, 377344523), (19659370, 2190753169), (19659370, 221620566), (3036907250, 22843337), (65423884, 15750573), (19659370, 13284672), (19659370, 1883425892), (132646210, 246713978), (132646210, 45675087), (19739240, 132646210), (178441882, 2924886188), (132646210, 2995188801), (3406278903, 132646210), (18932422, 849649723), (19659370, 17839109), (15750573, 37139722), (19659370, 4901700861), (132646210, 22514268), (19659370, 268025507), (3435577992, 19659370), (50956443, 15750573), (774076183461892096, 132646210), (1020383864, 116655482), (15750573, 897568340075479040), (132646210, 131498466), (4718039356, 2865520015), (40156543, 132646210), (132646210, 30339571), (132646210, 3780315496), (589300441, 132646210), (808051518242979841, 14947339), (1141316975324536832, 132646210), (44973000, 132646210), (33836629, 132646210), (287275780, 19659370), (2606773789, 19659370), (201275909, 972040446), (132646210, 419395379), (1314981763794468864, 3147145875), (43064490, 211457876), (261126954, 19659370), (32856732, 19659370), (15750573, 1620225060), (132646210, 1930184042), (45099415, 19659370), (15750573, 712614852263542784), (132646210, 1306824555420213249), (540985738, 15750573), (848687484, 132646210), (19659370, 512191023), (19659370, 14166306), (19659370, 19203768), (4485809179, 132646210), (3036907250, 2417892751), (3077138539, 3036907250), (18932422, 16689804), (595295193, 3147145875), (1077070220332740608, 19659370), (15750573, 1004615060), (19659370, 22398002), (787780218, 179571184), (19659370, 71905822), (15750573, 828683626372009985), (132646210, 3272004860), (2385273733, 3036907250), (15750573, 65423884), (774575, 19659370), (380426226, 132646210), (3305766383, 132646210), (776732741098467328, 3036907250), (783214, 132646210), (132646210, 333597222), (132646210, 984135577208373249), (10383162, 19659370), (132646210, 12160482), (19659370, 716643191072628736), (266717381, 19659370), (15750573, 73926321), (1144823372158767104, 132646210), (717348489215262724, 4037107874), (132646210, 4897300665), (2334835022, 2190533245), (132646210, 16423883), (19659370, 63735508), (17370058, 1483247714), (132646210, 27104786), (19659370, 19058451), (19659370, 47605273), (132646210, 17268402), (122408887, 44991940), (101764664, 19659370), (705504146808565760, 15750573), (132646210, 14553715), (933679231220850688, 19659370), (132646210, 46131106), (132646210, 1155634482629791746), (19659370, 1211825303388995584), (3036907250, 2208838112), (289284899, 742853712821903360), (14895163, 19659370), (740216334, 19659370), (461578921, 15750573), (132646210, 17157367), (132646210, 29959702), (871687740, 132646210), (13507112, 132646210), (19659370, 39112661), (132646210, 103810205), (2494919384, 201275909), (616564407, 15750573), (31107562, 36024756), (18202677, 132646210), (132646210, 2821616774), (25213966, 19659370), (19659370, 781332157), (57320656, 19659370), (132646210, 885944485615738881), (15750573, 616572834), (159421391, 19659370), (136088911, 132646210), (485447824, 132646210), (122408887, 55419861), (1004448369140551682, 19659370), (15750573, 566703294), (992149651, 68475307), (202740551, 132646210), (132646210, 804701761017671680), (132646210, 337797562), (132646210, 2842688136), (18932422, 48839631), (132646210, 887207711590559745), (3314775459, 761262362900955137), (18932422, 294599794), (1140577345973170177, 19659370), (14538236, 495517322), (132646210, 1562578862), (37105355, 132771664), (15750573, 533315563), (16868154, 1313558347552096256), (15750573, 1377476875), (19659370, 467004982), (3092629269, 3036907250), (117712651, 19659370), (132646210, 22749856), (15750573, 3892691301), (132646210, 792460428005605376), (3036907250, 2798157850), (67383602, 15750573), (15750573, 461578921), (18932422, 70266297), (22960511, 18932422), (132646210, 15068044), (780874432927719424, 15750573), (15750573, 2887723143), (4758119662, 469631198), (36049907, 15750573), (18932422, 386908329), (4718039356, 790469455444836352), (18932422, 405384428), (41098784, 18932422), (15068044, 132646210), (3513346942, 18932422), (132646210, 22129782), (2924886188, 135305838), (58558979, 15750573), (3243155048, 132646210), (1100520274200416256, 44196397), (4928034543, 101070604), (144779689, 132646210), (132646210, 483150865), (132646210, 567383651), (104211492, 132646210), (3036907250, 2347049341), (15750573, 2328843320), (19659370, 569203915), (15926727, 132646210), (1038481676, 3036907250), (3036907250, 325476794), (633, 132646210), (944810996, 19659370), (106856453, 132646210), (331076291, 132646210), (132646210, 126718539), (2427366498, 269301403), (2251623492, 3036907250), (1350732349, 3036907250), (1070321898951753728, 3036907250), (980046830, 132646210), (1195040516318093312, 132646210), (2494212979, 19659370), (3165380261, 15750573), (61187211, 15750573), (1234574559610834948, 1094001009188397057), (3036907250, 3051698888), (452570555, 15750573), (82095610, 19659370), (19659370, 852083180182147072), (59263220, 132646210), (127039292, 577243493), (132646210, 160246849), (132646210, 1379105228), (19659370, 117483950), (22597445, 132646210), (132646210, 562363), (19659370, 2966094221), (3314775459, 471246665), (2587163612, 19659370), (132646210, 20621579), (600067712, 19659370), (1254390807999787010, 3270447613), (19659370, 3018358499), (132646210, 60832858), (2165646554, 132646210), (18932422, 55044770), (19659370, 773280684173463552), (288995692, 19659370), (92071137, 132646210), (19659370, 512785206), (3036907250, 2360762586), (132646210, 467852343), (3003392104, 3036907250), (132646210, 544737616), (8220532, 19659370), (19659370, 1252063705), (15750573, 1497795582), (158789494, 132646210), (709191256392343552, 4718039356), (132646210, 14862794), (549833457, 213831533), (14957053, 15750573), (179571184, 829993981543084032), (132646210, 388144129), (59217922, 132646210), (193935341, 1039070536184213506), (14183423, 15750573), (15750573, 32246103), (26212951, 15750573), (132646210, 1171878193114025987), (132646210, 514189512), (204965245, 1477918760), (1035524448319885312, 132646210), (275686563, 3036907250), (132646210, 455428885), (1883425892, 19659370), (539946626, 132646210), (132646210, 20225119), (19659370, 1855871), (4460137405, 132646210), (19659370, 14254846), (161164522, 386277982), (19659370, 972984764), (132646210, 138840988), (2641476606, 19659370), (549833457, 507824939), (132646210, 747665252), (132646210, 1432662902), (1255799724, 132646210), (19659370, 13982132), (38048603, 132646210), (15750573, 520133735), (19659370, 1004448369140551682), (3988215194, 15750573), (132646210, 14794109), (19659370, 1562518867), (132646210, 297091554), (468827738, 1140163756267192321), (1243171978917416960, 755513278625898496), (846672306378326016, 132646210), (19659370, 843009630812995584), (41314338, 3270447613), (132646210, 1289974182755762176), (132646210, 37162329), (19659370, 63859619), (132646210, 84036295), (406303880, 301178769), (781751446362468353, 132646210), (16739331, 15750573), (132646210, 21308312), (716643191072628736, 19659370), (132646210, 479013038), (73001375, 19659370), (19659370, 40090727), (14763477, 308456550), (15750573, 1218287414965350401), (19659370, 3353136183), (156703987, 37105355), (1242262405, 17922590), (96962998, 132646210), (25073877, 376297519), (2455929786, 19659370), (57246759, 19659370), (3102522680, 132646210), (77469709, 1031837755234549760), (22952866, 132646210), (132646210, 771036399671705600), (19659370, 338526004), (132646210, 154138518), (132646210, 1175299088), (216939636, 132646210), (809193212, 15750573), (15750573, 796368494342316032), (790342394675888128, 15750573), (132646210, 201194687), (2372636521, 19659370), (10759032, 132646210), (591797093, 132646210), (132646210, 1168865024674357248), (132646210, 2786141198), (1617603914, 19659370), (132646210, 2492690671), (2982471489, 19659370), (1094001009188397057, 1234574559610834948), (14538236, 1265761679947771905), (132646210, 632815919), (900040284616114176, 132646210), (18932422, 17076764), (19659370, 32856732), (3036907250, 296459271), (132646210, 2427734180), (132646210, 36515907), (20621579, 132646210), (3025618094, 15750573), (2859456143, 132646210), (15750573, 65587580), (132646210, 238024065), (37139722, 15750573), (132646210, 2882893927), (335829830, 19659370), (923649456981135367, 132646210), (19659370, 45303184), (928760788306878464, 1492787690), (376297519, 442077861), (331080165, 549833457), (2842688136, 132646210), (132646210, 151208743), (26092949, 132646210), (123678691, 15750573), (12353582, 3036907250), (70422392, 18932422), (3036907250, 579133028), (19033910, 211457876), (19659370, 343928585), (118056286, 132646210), (19659370, 5763912), (15750573, 406869976), (93873778, 132646210), (132646210, 1517068255), (4025609913, 132646210), (132646210, 822405576504344576), (132646210, 1556357336), (19659370, 2891809527), (181954043, 24528242), (132646210, 2451712820), (19659370, 2974389209), (19659370, 879077538525396992), (396680992, 132646210), (132646210, 46922123), (2812873512, 19659370), (19203768, 19659370), (731124359117590528, 15750573), (132646210, 2895770934), (1477918760, 2850524162), (1379105228, 132646210), (890413838578966528, 132646210), (33677856, 15750573), (1231189221450403841, 289284899), (3036907250, 2271904531), (546315483, 15750573), (3036907250, 51023058), (3332231, 132646210), (464907377, 15750573), (949642445083459585, 132646210), (132646210, 376725527), (132646210, 1494913634), (18932422, 2354616571), (36024756, 1300410913896439811), (19659370, 21991908), (20605844, 15750573), (822933216206188544, 15750573), (24046380, 19659370), (25134469, 132646210), (19659370, 804563319457660928), (2962250933, 19659370), (132646210, 144947577), (19659370, 2288970024), (19659370, 1168), (1084900963306098689, 15750573), (950377242483343360, 18932422), (17922590, 311334706), (481094172, 18932422), (15750573, 15962096), (19659370, 415798356), (803451483966435328, 193935341), (132646210, 14978945), (15750573, 636089336), (19659370, 114738098), (132646210, 742643587108605952), (25481069, 132646210), (19659370, 82095610), (903217429555359744, 15750573), (1026754771087110144, 19659370), (15750573, 85428593), (132646210, 2575124365), (14553715, 132646210), (132646210, 119512412), (22843337, 3036907250), (19659370, 787149253302812672), (46224994, 53654934), (3065599859, 4928034543), (132646210, 1194379349803319298), (9180262, 132646210), (19659370, 302013973), (4890000754, 132646210), (485865743, 132646210), (969392138076041216, 132646210), (562439654, 3036907250), (2386351941, 36024756), (1371476814, 132646210), (18932422, 265509561), (47681517, 132646210), (132646210, 1214864022572425217), (27131901, 132646210), (54875928, 132646210), (158663891, 3147145875), (114870386, 3036907250), (1441673010, 19659370), (361281600, 18932422), (804701761017671680, 132646210), (1605423500, 15750573), (19659370, 1030464891830902784), (19659370, 2538081673), (1065173952664952837, 19659370), (18932422, 260768625), (1033944831918104576, 132646210), (373974821, 19659370), (3036907250, 87818409), (68701660, 132646210), (132646210, 14968475), (18932422, 1663172653), (132646210, 393675585), (101711550, 1008658832), (1140163756267192321, 1355198894), (4228354103, 132646210), (19659370, 1303427371), (132646210, 374433827), (3197088767, 15750573), (16674284, 19659370), (2190533245, 1097846996), (15089078, 18932422), (15750573, 527454176), (3036907250, 3035211041), (14968475, 132646210), (489677804, 19659370), (801372548940398593, 19659370), (2386023224, 132646210), (270044784, 3036907250), (196476038, 15750573), (3036907250, 117662694), (105318804, 386277982), (1121364987178618880, 132646210), (15750573, 348011201), (39748571, 1412036527), (541117509, 19659370), (3697013177, 3036907250), (132646210, 266028681), (132646210, 9571292), (132646210, 887535601), (84728939, 577243493), (326912209, 18932422), (132646210, 247943231), (132646210, 33474334), (149155812, 14538236), (19659370, 1049203448783278080), (132646210, 2383802810), (132646210, 2890969865), (132646210, 18874262), (17839109, 19659370), (2378438060, 132646210), (1382732563, 132646210), (975496040286531584, 1412036527), (469631198, 945103495748882432), (132646210, 3160109092), (132646210, 783214), (1009310504, 3314775459), (2288970024, 19659370), (132646210, 2461022395), (773146218, 2190533245), (27104786, 132646210), (765548, 132646210), (755513278625898496, 898111785169031169), (19659370, 3309394037), (494187789, 469631198), (132646210, 433873132), (15750573, 3165380261), (132646210, 2239534928), (415798356, 19659370), (132646210, 4890000754), (132646210, 720212700), (132646210, 71306406), (2353222800, 132646210), (269301403, 144580542), (132646210, 11773812), (132646210, 485865743), (919860212, 132646210), (18932422, 337600744), (301939006, 19659370), (132646210, 87473622), (15750573, 132539757), (132646210, 193227076), (132646210, 725639768663576576), (14162048, 18932422), (256879792, 132646210), (561218882, 18932422), (79764713, 15750573), (30144337, 37105355), (19659370, 2214711331), (132646210, 32193354), (15750573, 506166021), (19659370, 204123892), (1851621, 132646210), (20176114, 386277982), (334170116, 15750573), (19659370, 709402060547092481), (18494510, 916364161415892992), (595544862, 19659370), (116655482, 44322834), (132646210, 3091376321), (84508784, 132646210), (880523990883848192, 132646210), (130256377, 132646210), (19659370, 19859014), (41259586, 132646210), (132646210, 260971421), (1582645148, 132646210), (80269062, 19659370), (4827366892, 19659370), (3036907250, 12353582), (3270447613, 1254390807999787010), (19659370, 2813275219), (18932422, 320603385), (1197676868, 17922590), (553729228, 19659370), (217377296, 132646210), (18932422, 344725369), (946028606, 19659370), (406932163, 132646210), (1669374084, 132646210), (15750573, 299659731), (132646210, 467551928), (580335026, 132646210), (106064139, 18932422), (15750573, 959849838212014081), (3036907250, 15254807), (2189885600, 132646210), (3081160595, 3036907250), (2758095800, 19659370), (500704345, 577243493), (15750573, 1037384052), (3036907250, 133790890), (211457876, 795973), (132646210, 2438493248), (19659370, 933679231220850688), (15750573, 1109067043), (308843719, 19659370), (247660554, 2190533245), (19659370, 1162690737516863494), (132646210, 1110855455696314368), (132646210, 1434631356), (822143767, 19659370), (3439304543, 19659370), (166499569, 132646210), (15750573, 184817606), (19659370, 779769), (19659370, 781676758932262912), (132646210, 972494379754688518), (375007888, 132646210), (14947339, 808051518242979841), (19659370, 1196193239713353732), (220378862, 132646210), (1255539999467958272, 132646210), (132646210, 204718713), (3036907250, 487736815), (14492532, 19659370), (19659370, 1365711606), (1494913634, 132646210), (15336340, 19659370), (2854283403, 132646210), (577243493, 436847545), (15750573, 3319270312), (19659370, 115718271), (289284899, 249861513), (132646210, 925565433679298560), (132646210, 940445534556364800), (132646210, 150622632), (456673160, 15750573), (828625466, 132646210), (132646210, 1062729727), (3510179057, 18932422), (132646210, 4485809179), (566703294, 15750573), (47987831, 19659370), (3865043177, 132646210), (19659370, 16674284), (132646210, 175011974), (1974656552, 132646210), (405384428, 18932422), (874632132353826816, 132646210), (15750573, 551653007), (2239194271, 132646210), (15750573, 884047713372975104), (19659370, 26607837), (19659370, 140956562), (132646210, 984363152958685184), (19659370, 143187995), (563947963, 132646210), (132646210, 2289023460), (65468350, 15750573), (19659370, 199175962), (97880420, 132646210), (3036907250, 270044784), (4873684235, 132646210), (14301911, 19659370), (1142819859472048131, 269301403), (1227629352, 116655482), (53654934, 98975049), (2427734180, 132646210), (787149253302812672, 19659370), (1178221893616308224, 132646210), (44196397, 1100520274200416256), (1972411447, 15750573), (37105355, 367840245), (3036907250, 571202103), (2996506102, 132646210), (15750573, 68351679), (831503418376146946, 19659370), (15376357, 19659370), (132646210, 4149032843), (3036907250, 817845968), (2397162947, 19659370), (18932422, 3510179057), (132646210, 2874803443), (115180931, 15750573), (1264027207447371776, 132646210), (1325376128752771073, 14538236), (299858686, 132646210), (15750573, 3237012607), (928760788306878464, 50393960), (19659370, 49438224), (202853969, 132646210), (700999301514686464, 132646210), (2979365176, 3036907250), (3318895763, 132646210), (320603385, 18932422), (153506820, 19659370), (262236415, 19659370), (830589635738816512, 264501255), (132646210, 86754006), (3036907250, 1070321898951753728), (19659370, 7111232), (43926213, 15750573), (19659370, 427218827), (19659370, 582161546), (216299334, 36024756), (132646210, 861246336), (2700931729, 18932422), (406869976, 15750573), (19659370, 14707794), (181954043, 2493328698), (577243493, 173891055), (19659370, 8139122), (132646210, 16136933), (11069462, 132646210), (889461651673690112, 132646210), (19659370, 183575679), (563979425, 15750573), (54682074, 132646210), (132646210, 23055193), (15750573, 824249522389970944), (193935341, 1076782624775884800), (18932422, 91333167), (15750573, 449616976), (132646210, 1195040516318093312), (3270447613, 827699070567280641), (240867778, 132646210), (132646210, 342578839), (19659370, 197362628), (837214523547353089, 132646210), (577243493, 275538478), (3275322876, 132646210), (3892691301, 15750573), (132646210, 7368332), (132646210, 224495471), (19659370, 27171750), (1023096199, 15750573), (884180960, 19659370), (19659370, 1710656606), (19659370, 354801923), (132646210, 8143682), (1297532367591084033, 201275909), (17922590, 1242262405), (19659370, 114773847), (1169945329053130753, 132646210), (132646210, 1064940934528421888), (2827812417, 3036907250), (19659370, 4353971122), (132646210, 3339046197), (706431707885477888, 15750573), (1004615060, 15750573), (132646210, 1685766865), (19659370, 3405424143), (19659370, 265422963), (21573326, 132646210), (19659370, 2320791044), (2301908191, 19659370), (3317585532, 132646210), (91168371, 905903265837182976), (33970089, 132646210), (1251059396991311872, 132646210), (27018274, 30878713), (408986233, 132646210), (19659370, 16042588), (132646210, 167735563), (87818409, 3036907250), (132646210, 591797093), (132646210, 1002193231), (7851812, 132646210), (1140163756267192321, 375829381), (132646210, 772574162), (15750573, 1037864733360226304), (606265290, 132646210), (19659370, 31442869), (414978578, 15750573), (221620566, 19659370), (132646210, 2252260178), (132646210, 250059685), (2549047974, 19659370), (123846556, 132646210), (132646210, 312121622), (19659370, 4883900442), (132646210, 84653850), (2218900633, 132646210), (27018274, 3111344171), (1031837755234549760, 211479919), (5869132, 15750573), (880497679326998530, 4928034543), (59780450, 19659370), (190161488, 3036907250), (4793796869, 132646210), (29951831, 132646210), (19659370, 63935826), (131100302, 14538236), (315707871, 15750573), (1354848524, 19659370), (132646210, 1014561), (19659370, 748315519674048512), (388212968, 15750573), (71306406, 132646210), (2842558252, 19659370), (121492869, 15750573), (15750573, 15657398), (2868140962, 68475307), (18932422, 3095317209), (132646210, 11990112), (1011129121, 53654934), (19659370, 1040124415151726592), (396162704, 469631198), (15750573, 43526978), (32246103, 15750573), (3036907250, 395990396), (2924886188, 1193904402190360576), (132646210, 20314655), (19659370, 133806972), (132646210, 136088911), (312131328, 132646210), (1111871, 19659370), (82364810, 132646210), (3292784453, 132646210), (1578022897, 15750573), (19659370, 68784803), (7368332, 132646210), (193935341, 3145677894), (132646210, 231722071), (517818047, 15750573), (132646210, 1721425735), (18932422, 267249771), (190821474, 132646210), (19659370, 2810375782), (15750573, 107751300), (507824939, 549833457), (19659370, 833597084167122945), (132646210, 92071137), (21133730, 19659370), (1412036527, 1006419421244678144), (132646210, 114045446), (132646210, 53645823), (2601589496, 132646210), (132646210, 24603962), (19659370, 2876226376), (1037384052, 15750573), (19659370, 77200220), (139008774, 132646210), (19659370, 14492532), (761072228028911618, 19659370), (89774258, 132646210), (132646210, 874632132353826816), (15750573, 188233241), (19659370, 49556240), (14254846, 19659370), (221575638, 1412036527), (830589635738816512, 258540979), (241167877, 132646210), (68475307, 2798093329), (73509664, 3036907250), (713395522095210496, 15750573), (61111487, 19659370), (413981727, 17922590), (2924669003, 19659370), (132646210, 195719387), (132646210, 84060395), (132646210, 14614664), (2373145729, 132646210), (19659370, 938473643373481985), (14417382, 132646210), (41974909, 132646210), (132646210, 50706020), (115494880, 19659370), (2475572071, 132646210), (112806109, 19659370), (22585506, 132646210), (132646210, 101818541), (2215006026, 132646210), (1023655925742268426, 15750573), (36347948, 15750573), (341000847, 166978636), (84060395, 132646210), (101264703, 18932422), (272623675, 132646210), (15750573, 234070123), (18466593, 14947339), (132646210, 22597445), (57047586, 3036907250), (19659370, 2382305514), (1154319646780272641, 132646210), (14677919, 3036907250), (19659370, 18485339), (132646210, 597499972), (224495471, 132646210), (132646210, 125792630), (20499721, 132646210), (2813275219, 19659370), (132646210, 281079339), (3147145875, 1078117895207563264), (15750573, 403677666), (132646210, 174072879), (1303427371, 19659370), (14339792, 132646210), (321908821, 19659370), (869188290183917568, 19659370), (132646210, 18843675), (4783690002, 830589635738816512), (132646210, 551951577), (17922590, 253932447), (132646210, 23999540), (254218142, 14538236), (132646210, 47325650), (19659370, 19677123), (446719282, 132646210), (19659370, 771363829556977665), (132646210, 1179011991563915264), (1477918760, 1284897085846953986), (132646210, 1169945329053130753), (815628453613621248, 19659370), (15750573, 17955611), (4728720725, 19659370), (4928034543, 880497679326998530), (132646210, 1094048100564365312), (27018274, 535914042), (19659370, 7905122), (34690221, 15750573), (610026759, 132646210), (1252063705, 19659370), (132646210, 59217922), (873162092819488769, 132646210), (14794109, 132646210), (3084901894, 68475307), (1306824555420213249, 132646210), (17949156, 19659370), (1246201593755660288, 19659370), (311404595, 19659370), (19659370, 158297618), (27018274, 32799259), (4755350878, 53654934), (3270447613, 1299097451811536910), (760799156256382976, 132646210), (77200220, 19659370), (898161154169679873, 15750573), (28077022, 15750573), (19659370, 76336279), (132646210, 393652166), (167169119, 132646210), (15808647, 19659370), (1264438328, 3036907250), (375820392, 15750573), (337886919, 3036907250), (19659370, 637087464), (1479360883, 3036907250), (3036907250, 237670274), (15750573, 2321117354), (27171750, 19659370), (19659370, 20003288), (269930404, 132646210), (154221292, 3036907250), (132646210, 47978543), (1934192923, 15750573), (1962172172, 19659370), (1244079788, 19659370), (15750573, 39721490), (132453147, 132646210), (132646210, 26240101), (313444531, 132646210), (18932422, 604779041), (2924886188, 1240768429285675008), (250055606, 19659370), (16113777, 15750573), (132646210, 515192228), (838464523, 3036907250), (19659370, 114407120), (19659370, 317158835), (46668733, 132646210), (19659370, 941478255789457408), (19659370, 129746032), (32942338, 132646210), (37105355, 14639512), (3309394037, 19659370), (20433031, 37105355), (19659370, 2859068332), (132646210, 54580934), (905698976, 1483247714), (327066310, 132646210), (37715152, 19659370), (2444133930, 3036907250), (1166366776625467393, 132646210), (891193292385288193, 132646210), (15750573, 16611773), (253973566, 15750573), (12151932, 19659370), (1894582058, 19659370), (18932422, 16273541), (15750573, 65184105), (116897811, 19659370), (37105355, 136318851), (71905822, 19659370), (19659370, 4329329968), (194324277, 132646210), (934851466082357249, 132646210), (5894962, 15750573), (19659370, 2717694091), (132646210, 40576466), (1934999587, 19659370), (1120424520773505028, 132646210), (15750573, 436837074), (113125584, 132646210), (427218827, 19659370), (19659370, 117539435), (257544772, 132646210), (1320513201071484928, 132646210), (31422403, 15750573), (103761767, 132646210), (132646210, 16632955), (19659370, 2711212681), (3036907250, 381187236), (15750573, 579115459), (14166306, 19659370), (18075345, 3411494596), (132646210, 17305888), (132646210, 142724647), (279903146, 132646210), (17354555, 132646210), (132646210, 14265641), (1434631356, 132646210), (132646210, 720389270335135745), (2968801294, 132646210), (15750573, 456673160), (18932422, 22072608), (22949587, 376297519), (132646210, 1148595838664552451), (832162842, 68475307), (19659370, 1061582051449557003), (15750573, 119406189), (132646210, 399089660), (15750573, 918798040282091520), (68443905, 132646210), (312809493, 132646210), (132646210, 10868922), (911297187664949248, 132646210), (19659370, 19073790), (132646210, 33284619), (14583400, 15750573), (132646210, 1077734311799984128), (19659370, 197481317), (15750573, 852962413), (132646210, 112415325), (829903626, 3036907250), (19659370, 470416893), (157238371, 19659370), (15750573, 59273937), (190754693, 132646210), (39618125, 15750573), (70478255, 132646210), (2591662868, 3411494596), (51023058, 3036907250), (1111315973125169152, 3036907250), (132646210, 2540678306), (132646210, 158342368), (260768625, 18932422), (240478658, 132646210), (17922590, 1197676868), (156204739, 132646210), (871920132641173504, 132646210), (15750573, 3988215194), (892954139319087104, 308456550), (65587580, 15750573), (301037777, 19659370), (15518172, 19659370), (6979832, 15750573), (132646210, 3107101390), (15750573, 8943), (132646210, 2522143308), (2348513340, 18932422), (15750573, 780874432927719424), (861246336, 132646210), (15750573, 377571301), (23666107, 19659370), (18932422, 452909538), (88673826, 18932422), (59490048, 4928034543), (2960317030, 132646210), (15750573, 25860326), (838131126002728960, 15750573), (19341622, 19659370), (132646210, 774324193928351744), (19659370, 3079899620), (132646210, 17503180), (420316063, 15750573), (34743251, 18932422), (3732176255, 132646210), (1039236870230749185, 376297519), (238024065, 132646210), (15750573, 450594910), (785618379201654784, 132646210), (13533662, 15750573), (43839644, 15750573), (6057982, 132646210), (2461022395, 132646210), (1014561, 132646210), (1214864022572425217, 132646210), (19659370, 2232721860), (79128388, 15750573), (3007913925, 15750573), (19659370, 16925097), (132646210, 142293342), (213248607, 132646210), (905687730843037696, 132646210), (132646210, 147949965), (132646210, 172179385), (8202402, 386277982), (15750573, 16362818), (4883900442, 19659370), (15750573, 334678478), (11017332, 19659370), (928760788306878464, 121402638), (132646210, 3406278903), (3036907250, 3034892963), (15750573, 1043021486), (75392682, 132646210), (20926161, 132646210), (2214711331, 19659370), (269301403, 97436767), (15750573, 277667306), (132646210, 494181406), (126274094, 132646210), (2974389209, 19659370), (132646210, 2475572071), (828064288417779712, 132646210), (15421904, 18932422), (22826489, 19659370), (16689804, 18932422), (1062729727, 132646210), (17157367, 132646210), (15750573, 203866616), (19659370, 2397162947), (15750573, 117652722), (19659370, 17465774), (195658424, 132646210), (132646210, 45123871), (3405424143, 19659370), (19659370, 1174325520294715392), (44652450, 15750573), (132646210, 213248607), (2226776658, 132646210), (2916305152, 19659370), (65494780, 1031837755234549760), (132646210, 1251108504653361152), (19659370, 2460368252), (15750573, 176870844), (469631198, 494187789), (19659370, 1074540169), (188233241, 15750573), (249861513, 289284899), (512191023, 19659370), (132646210, 14339792), (17922590, 3121745324), (151208743, 132646210), (15750573, 394665897), (1734575215, 19659370), (132646210, 372730608), (715306704762761216, 16868154), (19659370, 434236851), (14293310, 3036907250), (372730608, 132646210), (15750573, 20887537), (14103970, 19659370), (132646210, 706980266879946752), (19659370, 14208224), (4928034543, 4165329244), (128213903, 15750573), (16507835, 19659370), (3415205164, 19659370), (132646210, 2512218333), (1582911193, 15750573), (132646210, 223380941), (37622738, 132646210), (158659687, 19659370), (15750573, 537014740), (132646210, 736667972123512832), (3008322017, 19659370), (132646210, 308578864), (7111232, 19659370), (24989839, 132646210), (27493489, 19659370), (19659370, 22826489), (2462926410, 132646210), (3411494596, 18075345), (8034682, 19659370), (44196397, 16736535), (132646210, 873162092819488769), (22072608, 18932422), (406303880, 797863519953764353), (132646210, 761153954809913344), (132646210, 3225904081), (469631198, 1239750608), (348506984, 15750573), (419071399, 132646210), (132646210, 382158989), (114485232, 132646210), (976373610, 132646210), (132646210, 842043337687289856), (3036907250, 20356196), (15750573, 28077022), (439572655, 19659370), (132646210, 1851621), (193309907, 132646210), (132646210, 190006526), (1850752598, 132646210), (755953153, 3036907250), (19659370, 2918846960), (132646210, 12414242), (60884801, 18932422), (751506263792582656, 132646210), (1017373138500378624, 132646210), (19659370, 778607), (132646210, 18059898), (33284619, 132646210), (19659370, 77436536), (117539435, 19659370), (278482863, 132646210), (1080724857552199682, 19659370), (263265080, 3036907250), (909955646895919104, 1140163756267192321), (19659370, 11939852), (3036907250, 57047586), (132646210, 1178221893616308224), (3384319941, 19659370), (15147397, 916364161415892992), (132646210, 829881163472916481), (390324658, 19659370), (15159648, 132646210), (209100025, 132646210), (14614664, 132646210), (3411494596, 128232442), (3036907250, 3053756746), (2310416978, 19659370), (1140163756267192321, 12321952), (19659370, 583637312), (15750573, 20384956), (702932794947694592, 19659370), (2776164847, 132646210), (19659370, 606667727), (132646210, 947311503216066560), (917259707236208640, 19659370), (15750573, 739565869433524225), (27375578, 132646210), (36024756, 137730778), (132646210, 825382759), (132646210, 9180262), (240316759, 19659370), (3036907250, 755953153), (23761309, 132646210), (44196397, 23116280), (60959947, 132646210), (3549187454, 132646210), (53654934, 157981564), (2895307672, 15750573), (1092423527440019456, 755513278625898496), (998681467696885761, 132646210), (3293206151, 3036907250), (2321117354, 15750573), (14511951, 3036907250), (41216797, 19659370), (2178067878, 19659370), (50257296, 132646210), (3128829965, 132646210), (19659370, 122424832), (27990587, 132646210), (1124794277660430341, 341000847), (211479919, 1031837755234549760), (334516778, 15750573), (19659370, 17855686), (15750573, 175529610), (202626872, 15750573), (48235638, 132646210), (106505501, 15750573), (2278288488, 19659370), (19677123, 19659370), (30420908, 19659370), (1211825303388995584, 19659370), (628623778, 15750573), (15750573, 787338664477134848), (1281172664896360449, 406303880), (19659370, 631705640), (299807081, 132646210), (1193904402190360576, 2924886188), (928760788306878464, 222110806), (710492983800569857, 549833457), (19659370, 793483735018504192), (581406453, 19659370), (1367458171, 3036907250), (15750573, 43839644), (16632955, 132646210), (27018274, 931630470399451139), (940901351759994880, 132646210), (924426975330160641, 19659370), (277298681, 19659370), (877108837475655680, 19659370), (4329329968, 19659370), (19659370, 3565816992), (91697719, 18932422), (1187585868493537280, 132646210), (132646210, 44583317), (3239238377, 19659370), (44595708, 15750573), (132646210, 242868086), (52671862, 15750573), (63735508, 19659370), (10587552, 19659370), (15750573, 50956443), (3053756746, 3036907250), (700831074, 19659370), (1376639125, 19659370), (117662694, 3036907250), (132646210, 702309206), (132646210, 422016668), (3036907250, 717768811005526016), (1179011991563915264, 132646210), (19677430, 132646210), (132646210, 327122348), (19659370, 4202417063), (132646210, 2815077014), (2320791044, 19659370), (53654934, 888118103095115780), (966411199649808386, 132646210), (26156309, 116655482), (2615258306, 132646210), (3036907250, 271485168), (36515907, 132646210), (19659370, 918158086858211329), (15750573, 433226744), (15750573, 2328954662), (3036907250, 1479360883), (406303880, 1281172664896360449), (211457876, 43064490), (132646210, 975115762712096768), (132646210, 130671142), (15750573, 752743856941125632), (569203915, 19659370), (132646210, 80979483), (830589635738816512, 775449094739197953), (3780315496, 132646210), (262191481, 19659370), (132646210, 928151539893420032), (49287656, 132646210), (840618056678293504, 19659370), (132646210, 48235638), (1074540169, 19659370), (15750573, 1582911193), (19659370, 1228726773078208512), (163009576, 19659370), (2859068332, 19659370), (138562224, 19659370), (755513278625898496, 1092423527440019456), (19659370, 349172730), (132646210, 812055605510803456), (19659370, 917421341359464450), (139507464, 132646210), (851254609, 15750573), (19659370, 289222668), (132646210, 533584357), (132646210, 12031032), (29735775, 132646210), (19659370, 932582571338321920), (15750573, 142837256), (25860326, 15750573), (132646210, 76937615), (18932422, 18115497), (18932422, 740410382), (132646210, 1894231788), (132646210, 789107706397196288), (19659370, 2989739661), (3621255616, 19659370), (19659370, 1934999587), (17465774, 19659370), (2328954662, 15750573), (15750573, 391015835), (443602279, 132646210), (15750573, 52414554), (1143038206335737856, 132646210), (19659370, 305236970), (179571184, 787780218), (132646210, 1669374084), (19659370, 2209063952), (2540678306, 132646210), (3036907250, 245548093), (132646210, 1037548569467731968), (48457557, 132646210), (1241258612, 19659370), (19659370, 1124623431377543169), (2190533245, 111046352), (19659370, 14103970), (3367685915, 19659370), (19659370, 2322434384), (132646210, 49793), (132646210, 769823624308092928), (269301403, 1605), (158342368, 132646210), (906922846412267521, 132646210), (15750573, 42614814), (15750573, 32338210), (1269448278, 15750573), (132646210, 18384521), (212276623, 132646210), (132646210, 27131901), (20384956, 15750573), (132646210, 124319949), (132646210, 17053944), (18932422, 17554109), (19659370, 13920962), (72386774, 132646210), (142724647, 132646210), (37105355, 30144337), (19659370, 1297170244658552838), (36966461, 132646210), (495430242, 132646210), (2835276183, 3036907250), (427431943, 132646210), (19659370, 553436328), (1355198894, 1140163756267192321), (994886035086761984, 132646210), (19659370, 1205609058), (756380725859975168, 19659370), (3036907250, 688583), (862356144748204032, 132646210), (160246849, 132646210), (19659370, 17600799), (19659370, 2803449260), (93957809, 18932422), (19659370, 808593541840719872), (265509561, 18932422), (15750573, 6107292), (2826508686, 18932422), (132646210, 44973000), (132646210, 226298062), (533149076, 18932422), (132646210, 771681197781053440), (132646210, 48008938), (19659370, 194399316), (15750573, 20460664), (132646210, 2153743237), (3415864408, 132646210), (19659370, 595544862), (705427898749079552, 15750573), (131111665, 132646210), (132646210, 231845623), (132646210, 1184821524534059008), (22289618, 132646210), (15750573, 186404598), (19659370, 868437872), (3036907250, 3083042302), (132646210, 325755342), (263247974, 132646210), (3233792564, 19659370), (179797676, 19659370), (245907225, 132646210), (2271904531, 3036907250), (3036907250, 190161488), (132646210, 277516046), (15750573, 110509537), (712614852263542784, 15750573), (15750573, 29716049), (939091, 19659370), (817845968, 3036907250), (2838403462, 2924886188), (467004982, 19659370), (2502662672, 19659370), (19659370, 123093566), (19659370, 1296322367053082624), (39112661, 19659370), (274134534, 132646210), (33168385, 15750573), (386277982, 105318804), (37105355, 269731175), (46131106, 132646210), (15750573, 744114034660773888), (132646210, 807261497500069888), (132646210, 159240329), (11939852, 19659370), (132646210, 2226776658), (132646210, 43641631), (132646210, 2273201773), (755513278625898496, 556738016), (15750573, 3226059106), (132539757, 15750573), (296459271, 3036907250), (187655958, 91168371), (15750573, 85813091), (132646210, 251614179), (887207711590559745, 132646210), (114782375, 15750573), (549833457, 82541893), (33505544, 132646210), (423567471, 132646210), (19659370, 84351228), (15750573, 1079473267), (15750573, 197623145), (50607971, 15750573), (132646210, 950072183031771136), (132646210, 257618993), (18932422, 828489290), (557553364, 19659370), (132646210, 3482836634), (132646210, 4025609913), (1233080567727521792, 132646210), (108334890, 19659370), (132646210, 5734242), (19659370, 273921060), (1609328383, 1477918760), (15750573, 61187211), (19659370, 138562224), (1031837755234549760, 77469709), (813286, 916364161415892992), (1640671358, 19659370), (15750573, 482995387), (48677032, 132646210), (3411494596, 2591662868), (132646210, 14761223), (132646210, 2960317030), (132646210, 140093780), (385339360, 15750573), (1320653768346816512, 15750573), (81737577, 824668943285702661), (132646210, 284099686), (132646210, 1265795638551212032), (920563781616496641, 15750573), (66322723, 132646210), (19659370, 248064213), (132646210, 837214523547353089), (91168371, 91688695), (132646210, 1060157776477982721), (1579778748, 308456550), (19659370, 2527017636), (1194745704, 289284899), (3036907250, 720605133483208705), (19659370, 3257676018), (132646210, 618193431), (930340722, 18932422), (19659370, 22752868), (132646210, 1310568144742895619), (544360896, 15750573), (19659370, 1246201593755660288), (734735999029383168, 19659370), (132646210, 160741955), (18932422, 794790254), (132646210, 108207407), (1155634482629791746, 132646210), (34642043, 132646210), (15750573, 294119630), (126718539, 132646210), (1084212657761148928, 132646210), (898111785169031169, 755513278625898496), (3107101390, 132646210), (132646210, 709476815090413568), (253932447, 17922590), (1636590253, 3036907250), (153004670, 19659370), (200466843, 132646210), (477554560, 3036907250), (19659370, 310741473), (19659370, 2962250933), (19659370, 179797676), (127894322, 132646210), (870362407, 3036907250), (197313522, 132646210), (211457876, 1882331364), (867297019160707072, 19659370), (951844723, 132646210), (2422189058, 132646210), (19659370, 403274895), (65605637, 132646210), (132646210, 272065025), (224209816, 132646210), (132646210, 955599008), (487736815, 3036907250), (19659370, 1865461842), (19659370, 76966092), (19659370, 52206988), (1218287414965350401, 15750573), (2209729028, 132646210), (15750573, 95267165), (305431714, 132646210), (19659370, 352650313), (435727485, 132646210), (19659370, 2249121151), (101711550, 515563051), (18932422, 3513474256), (132646210, 1932160213), (4713059201, 2190533245), (132646210, 135508015), (824668943285702661, 193755075), (53654934, 1011129121), (1124623431377543169, 19659370), (16705752, 17922590), (135508015, 132646210), (132646210, 2190723061), (95196023, 19659370), (337797562, 132646210), (193935341, 803451483966435328), (4786709654, 19659370), (18932422, 55858928), (132646210, 2847332414), (132646210, 2183611873), (132646210, 330917707), (289284899, 1056456062520492032), (132646210, 36659063), (132646210, 313444531), (132646210, 839149376643686401), (22026924, 132646210), (15750573, 40903402), (25268217, 132646210), (18932422, 1527461), (386277982, 695480624870633472), (19659370, 26976778), (436609034, 3036907250), (15519766, 3314775459), (19659370, 2916305152), (15750573, 136142062), (15750573, 948483885209477121), (132646210, 1212987379692081153), (2315608478, 19659370), (498895063, 14947339), (259403751, 18932422), (249695469, 132646210), (44196397, 1024391197), (15750573, 2735046987), (564663512, 132646210), (132646210, 17076940), (132646210, 1168926603855958017), (91367103, 132646210), (311334706, 17922590), (132646210, 4188048952), (19659370, 17455229), (781332157, 19659370), (3270447613, 1319307998), (4188048952, 132646210), (132646210, 22026924), (1909219404, 132646210), (1432662902, 132646210), (132646210, 2166992210), (231845623, 132646210), (1483247714, 16905485), (132646210, 308799838), (15750573, 146116918), (40576466, 132646210), (159342110, 132646210), (137730778, 36024756), (132646210, 200083348), (15750573, 334170116), (132646210, 909404434723213312), (15750573, 228130177), (132646210, 370597692), (132646210, 605012771), (18932422, 14488805), (475026877, 132646210), (91440853, 19659370), (289284899, 3430164869), (132646210, 114485232), (132646210, 256644046), (22129782, 132646210), (469631198, 893484744725467137), (16868154, 715306704762761216), (19659370, 1014199723031449600), (19659370, 126323494), (2653043425, 132646210), (1313137113454579717, 132646210), (19659370, 1891806212), (24888653, 15750573), (132646210, 158789494), (132646210, 475026877), (3036907250, 1111315973125169152), (204718713, 132646210), (132646210, 887159288), (1108685535088771073, 132646210), (132646210, 20926161), (15750573, 476514758), (15750573, 436122215), (19659370, 911454651417088000), (4353971122, 19659370), (132646210, 1911204626), (85243046, 116655482), (19659370, 488417933), (132646210, 15926727), (1930184042, 132646210), (955599008, 132646210), (18932422, 19380829), (132646210, 608052226), (2895770934, 132646210), (132646210, 15045590), (1267637312, 132646210), (132646210, 391867472), (132646210, 85307840), (2900424513, 15750573), (3036907250, 230815459), (289284899, 3587827899), (3147145875, 1314981763794468864), (19659370, 2932027868), (617400195, 132646210), (19659370, 849729477533892612), (3036907250, 3077138539), (19659370, 335829830), (132646210, 1014974716359081988), (19659370, 982276165992935426), (19659370, 78807415), (3150832239, 19659370), (15750573, 43926213), (15750573, 316386106), (14341416, 19659370), (107171037, 18932422), (3314775459, 860893823668498433), (2186834214, 132646210), (17305888, 132646210), (19659370, 821769650211930112), (19659370, 2317814702), (132646210, 11649702), (15750573, 44652450), (2183611873, 132646210), (3272004860, 132646210), (45123871, 132646210), (858519894, 132646210), (3036907250, 17043428), (1617382039, 132646210), (19659370, 15056816), (442245081, 132646210), (2706892358, 19659370), (79703784, 19659370), (16611773, 15750573), (887627169765130241, 132646210), (989428140433866752, 132646210), (15750573, 220020080), (1039052508193284096, 132646210), (19659370, 2315608478), (132646210, 197608061), (5848122, 19659370), (469631198, 396162704), (132646210, 1204339794471538688), (84560252, 132646210), (3036907250, 854719703545253888), (214272214, 132646210), (15750573, 52671862), (18932422, 460544873), (132646210, 897060827316072448), (706980266879946752, 132646210), (408717162, 3036907250), (39321347, 132646210), (709493676121042945, 132646210), (15750573, 55612967), (534290225, 19659370), (780174132, 15750573), (784824594, 132646210), (1087030452, 91168371), (19659370, 2641476606), (122408887, 19244292), (143319983, 132646210), (14749606, 15750573), (398500188, 19659370), (1936953062, 19659370), (20003288, 19659370), (19659370, 250055606), (856509174473248768, 132646210), (15750573, 375820392), (132646210, 739854925560156160), (1351611290, 15750573), (2579832252, 132646210), (2475224005, 132646210), (15169938, 19659370), (19659370, 1617603914), (132646210, 4196200462), (984769730983682048, 18932422), (3270447613, 856391422974468101), (132646210, 829115622), (1911204626, 132646210), (23116280, 44196397), (132646210, 126132953), (19659370, 761072228028911618), (3036907250, 2196922086), (2924886188, 881840360997232640), (19659370, 4531194259), (15750573, 2607919231), (918943909811769344, 132646210), (311340284, 19659370), (18033550, 19659370), (2515540081, 132646210), (860893823668498433, 3314775459), (47562075, 19659370), (3232640646, 132646210), (132646210, 3186534415), (132646210, 380426226), (15750573, 1725341478), (3442793834, 19659370), (915895342532583424, 1031837755234549760), (19659370, 47319664), (1690763647, 132646210), (384978819, 549833457), (849729477533892612, 19659370), (3225904081, 132646210), (399361313, 4928034543), (84036295, 132646210), (132646210, 7466492), (1426135280, 132646210), (132646210, 3341697257), (132646210, 16549460), (1116622891, 132646210), (281079339, 132646210), (1053724531, 3036907250), (15750573, 474233138), (19659370, 137394430), (72474729, 132646210), (18932422, 2346714074), (15750573, 714783310954774529), (264501255, 830589635738816512), (2926840635, 1031837755234549760), (6778812, 132646210), (877823703249068032, 132646210), (138840988, 132646210), (1287104705185939456, 132646210), (1527461, 18932422), (132646210, 47681517), (15578992, 15750573), (2926864059, 18932422), (15750573, 38277726), (132646210, 271909348), (43526978, 15750573), (430570985, 132646210), (496430086, 132646210), (99023044, 132646210), (75525450, 132646210), (40090727, 19659370), (132646210, 11595422), (18675332, 132646210), (16102444, 132646210), (1251182739035795463, 406303880), (93494670, 132646210), (904533569749508097, 132646210), (4531194259, 19659370), (132646210, 1065937815022837760), (19659370, 50095170), (376297519, 443505905), (1019673422, 3036907250), (466894113, 132646210), (1008658832, 101711550), (2413882279, 3036907250), (338989477, 132646210), (132646210, 856684314), (132646210, 38140504), (922354202088759296, 132646210), (132646210, 4770618972), (1053292116, 132646210), (1603439773, 3036907250), (19659370, 13235832), (384759698, 15750573), (15750573, 16113777), (8943, 15750573), (824668943285702661, 81143606), (507704346, 19659370), (132646210, 2218900633), (137745777, 132646210), (1148895885729947648, 19659370), (12414242, 132646210), (1237020498422198273, 101711550), (132646210, 1081076050061213697), (1149491203, 132646210), (817382, 19659370), (132646210, 201854523), (19659370, 774575), (15750573, 780174132), (18932422, 3513346942), (19659370, 16621479), (3036907250, 2969887354), (132646210, 2685989162), (132646210, 27990587), (19659370, 350164545), (831393481465556992, 132646210), (789736108896751616, 15750573), (132646210, 47602120), (55044770, 18932422), (775449094739197953, 830589635738816512), (19659370, 5943622), (1477918760, 710583925), (743856512, 19659370), (132646210, 2279201814), (996170598056263683, 132646210), (23973296, 132646210), (54817041, 132646210), (2815077014, 132646210), (132646210, 220145170), (1322931373, 132646210), (132646210, 81381560), (151490538, 132646210), (132646210, 264132382)}\n",
      "Num coppie: 6099\n",
      "Num coppie: {(132646210, 18869136), (21782750, 132646210), (15750573, 1023096199), (132646210, 40030538), (19659370, 37788263), (132646210, 1081289442671902720), (19659370, 469405173), (132646210, 72474729), (1323903942951112705, 91168371), (40380303, 15750573), (3036907250, 52059998), (19659370, 2606773789), (132646210, 809848752), (436847545, 577243493), (257618993, 132646210), (3081585501, 19659370), (132646210, 2854283403), (132646210, 1313137113454579717), (17383073, 19659370), (132646210, 364593753), (132646210, 4833032980), (17076940, 132646210), (19486877, 19659370), (2450416195, 19659370), (45598113, 132646210), (2190533245, 232832623), (18932422, 11164692), (15637569, 15750573), (82541893, 549833457), (132646210, 18506971), (1265761679947771905, 14538236), (269301403, 22346932), (399089660, 132646210), (1412036527, 221575638), (85428593, 15750573), (2810375782, 19659370), (374433827, 132646210), (179571184, 1057019486530887680), (2438493248, 132646210), (15750573, 106505501), (1040575154424893441, 132646210), (20660258, 2190533245), (19659370, 920382882413244417), (126323494, 19659370), (2998896042, 132646210), (1410981890, 36024756), (16362818, 15750573), (349172730, 19659370), (19659370, 831503418376146946), (132646210, 3243155048), (19659370, 61111487), (15750573, 62952214), (2147987488, 15750573), (37105355, 156703987), (896036165350019073, 132646210), (3186534415, 132646210), (2924886188, 954540122904584192), (1050753707518910464, 376297519), (1246312797799100416, 1140163756267192321), (3302556875, 1094001009188397057), (10868922, 132646210), (2272376472, 132646210), (15750573, 586366163), (19659370, 2812873512), (14947339, 18466593), (114773847, 19659370), (167735563, 132646210), (14538236, 619607966), (1284897085846953986, 1477918760), (132646210, 19739240), (409922330, 132646210), (3300677471, 19659370), (964581642290393088, 91168371), (15750573, 2572511777), (15750573, 67383602), (12321952, 1140163756267192321), (175529610, 15750573), (3841067114, 19659370), (1094001009188397057, 3302556875), (14468951, 27018274), (15750573, 2636910597), (17455229, 19659370), (547871798, 19659370), (19659370, 55247494), (226298062, 132646210), (441676899, 15750573), (15750573, 1084900963306098689), (1467961898, 3270447613), (132646210, 17078917), (2209063952, 19659370), (17053944, 132646210), (1168, 19659370), (104892871, 18932422), (18932422, 134765219), (15573348, 19659370), (3036907250, 1978351027), (115718271, 19659370), (3339046197, 132646210), (386277982, 22983937), (87473622, 132646210), (19659370, 2924669003), (132646210, 173431194), (14947339, 1311701627913420800), (909404434723213312, 132646210), (15750573, 14359747), (284099686, 132646210), (19659370, 3577056016), (19659370, 1077070220332740608), (174072879, 132646210), (132646210, 131111665), (841854020058677252, 19659370), (15750573, 806101991109890048), (19659370, 1728795440), (948669952843595776, 132646210), (19659370, 1206594224537448449), (777648349, 132646210), (832361946154401792, 15750573), (2459299508, 132646210), (19659370, 112806109), (125483940, 132646210), (15750573, 36049907), (131526573, 15750573), (18932422, 189495871), (3026571023, 3036907250), (132646210, 32872183), (19659370, 262191481), (59273937, 15750573), (1265795638551212032, 132646210), (15750573, 1280804221), (19659370, 67815277), (3036907250, 2097571), (824668943285702661, 2272178100), (19659370, 3081585501), (4718039356, 2654456020), (538213674, 37105355), (19659370, 3107826244), (19659370, 2274780686), (14538236, 131100302), (9430302, 132646210), (3036907250, 180463340), (132646210, 1114432920121376768), (1891806212, 19659370), (132646210, 4829277184), (132646210, 2859456143), (144580542, 269301403), (59481357, 19659370), (535914042, 27018274), (56741675, 132646210), (19659370, 383365753), (132646210, 1251232344947613701), (902940396849946625, 91168371), (132646210, 1187585868493537280), (132646210, 1019194066855006208), (972984764, 19659370), (464868829, 19659370), (711001600567828481, 1094001009188397057), (1090911182591086592, 132646210), (87242603, 132646210), (132646210, 22994885), (771363829556977665, 19659370), (822183485523841025, 3036907250), (537014740, 15750573), (132646210, 423567471), (1276832114856656896, 132646210), (86754006, 132646210), (15750573, 791230655367700480), (132646210, 2981463028), (122424832, 19659370), (19659370, 756380725859975168), (132646210, 507185539), (15750573, 899166691652972544), (946591233954033664, 132646210), (2730017576, 19659370), (266028681, 132646210), (748176824, 132646210), (132646210, 14784786), (47725447, 19659370), (132646210, 331076291), (37048037, 15750573), (132646210, 162124540), (19659370, 17383073), (307755344, 19659370), (524561395, 18932422), (19659370, 118748199), (632815919, 132646210), (132646210, 810893744593584128), (132646210, 872544691442466816), (132646210, 41974909), (132646210, 46496916), (132646210, 3275322876), (15750573, 3242397351), (19659370, 266717381), (755513278625898496, 2541189847), (132646210, 112202046), (15750573, 66815732), (132646210, 429259920), (928760788306878464, 96123433), (132646210, 451148485), (132646210, 2805421915), (19659370, 2864356347), (1284042607, 19659370), (132646210, 17118060), (256644046, 132646210), (1187226845155999749, 19659370), (294652384, 132646210), (755513278625898496, 1224549145865859072), (132646210, 2378438060), (132646210, 195525587), (95267165, 15750573), (15750573, 96127287), (398537509, 15750573), (19659370, 1222193343737794560), (19659370, 16318928), (84854764, 15750573), (19659370, 762501458), (16946380, 132646210), (619607966, 14538236), (10752242, 19659370), (132646210, 18855622), (250344120, 132646210), (17865904, 116655482), (62513246, 3036907250), (132646210, 874530424575336449), (16318928, 19659370), (577243493, 127039292), (579115459, 15750573), (61143806, 132646210), (91168371, 1087030452), (132646210, 56318966), (18932422, 561218882), (19659370, 33993797), (15750573, 1048018930785083392), (132646210, 97880420), (132646210, 269930404), (19659370, 2910644884), (19659370, 342137485), (938473643373481985, 19659370), (132646210, 82573938), (3036907250, 50414506), (44583317, 132646210), (567360618, 18932422), (19659370, 94642927), (3130548765, 18932422), (4037107874, 717348489215262724), (3036907250, 319135326), (1031837755234549760, 804283950), (3314775459, 258082407), (132646210, 45794386), (2354616571, 18932422), (386277982, 161164522), (13982132, 19659370), (1365711606, 19659370), (2360762586, 3036907250), (15750573, 388212968), (132646210, 93494670), (132646210, 70478255), (132646210, 126062970), (296312612, 132646210), (145637517, 19659370), (28822067, 18932422), (8123222, 18932422), (42399260, 132646210), (996566689037795328, 27018274), (3036907250, 3092629269), (132646210, 920700510306529280), (52206988, 19659370), (132646210, 3041372326), (41694589, 132646210), (2832694608, 19659370), (18932422, 2826508686), (14451127, 132646210), (623575404, 132646210), (19659370, 12044602), (1077863989202247681, 132646210), (2306579816, 101711550), (887159288, 132646210), (39547749, 132646210), (15378449, 3036907250), (251149608, 15750573), (182799181, 15750573), (132646210, 2309104237), (132646210, 8077952), (15750573, 95745203), (132646210, 178976408), (163363440, 19659370), (1770311, 132646210), (132646210, 2839825685), (793483735018504192, 19659370), (132646210, 78269397), (556738016, 755513278625898496), (704185699415695360, 132646210), (132646210, 133550954), (101711550, 3551532493), (1517068255, 132646210), (11164692, 18932422), (132646210, 721931072), (8719472, 19659370), (132646210, 1567085737), (11649702, 132646210), (74419325, 19659370), (586366163, 15750573), (72284089, 91168371), (132646210, 16319797), (19659370, 572279177), (940445534556364800, 132646210), (132646210, 1237393394), (1166221754, 132646210), (15247794, 18932422), (2714310207, 15750573), (2735046987, 15750573), (562363, 132646210), (114045446, 132646210), (3775401076, 132646210), (132646210, 1251034648492138498), (1031837755234549760, 1005041152242970629), (132646210, 190778398), (20747847, 15750573), (3036907250, 73147282), (132646210, 68701660), (132646210, 1382732563), (403731744, 132646210), (15750573, 16953723), (19659370, 4042462396), (132646210, 1251073078211178496), (18932422, 2568478126), (717348489215262724, 863480903481401345), (1094001009188397057, 1015069938472501249), (132646210, 272376633), (19659370, 121881387), (116655482, 16319888), (277667306, 15750573), (15750573, 838141984053284864), (797863519953764353, 406303880), (1145584490594443264, 19659370), (839149376643686401, 132646210), (1300410913896439811, 36024756), (2345372593, 3147145875), (132646210, 249695469), (2786141198, 132646210), (132646210, 915167646240325632), (15750573, 555461978), (132646210, 75525450), (755513278625898496, 14616323), (132646210, 1039052508193284096), (132646210, 831290691712004096), (1932160213, 132646210), (15750573, 14749606), (1260526934678740993, 16868154), (132646210, 10627282), (763432576375779328, 132646210), (132646210, 1582645148), (561642136, 15750573), (19659370, 15169938), (849649723, 18932422), (4663308149, 3036907250), (15750573, 372843212), (68475307, 223827175), (3036907250, 838464523), (19659370, 769507902897856512), (18932422, 14266044), (132646210, 20499721), (16514335, 132646210), (19659370, 14622066), (549833457, 384978819), (16319797, 132646210), (132646210, 263247974), (2318099514, 18932422), (101711550, 2306579816), (6365342, 19659370), (15750573, 33105342), (15750573, 78577226), (132646210, 1016764586228412421), (15750573, 1148229403), (616572834, 15750573), (2587811778, 18932422), (896688971186667520, 1094001009188397057), (132646210, 396680992), (18932422, 3236533841), (132646210, 354009660), (132646210, 946591233954033664), (11669522, 132646210), (132646210, 181348220), (15750573, 390380093), (19659370, 3435577992), (132646210, 3318895763), (15750573, 59913797), (19659370, 16976682), (19659370, 16579738), (132646210, 81875677), (18932422, 14874480), (15750573, 414978578), (15750573, 115512512), (68351679, 15750573), (132646210, 99473901), (3240349167, 3036907250), (132646210, 46668733), (19659370, 15333148), (54959293, 132646210), (19659370, 2903681001), (44991940, 122408887), (1140163756267192321, 468827738), (2424428378, 386277982), (53654934, 297884272), (201275909, 1158718834322395137), (1190682302977859584, 19659370), (11010332, 19659370), (19659370, 917259707236208640), (132646210, 249661913), (15750573, 409166947), (19659370, 15225375), (2821616774, 132646210), (358026989, 15750573), (743340014214352896, 132646210), (19659370, 877108837475655680), (824886467721703425, 132646210), (16976496, 19659370), (2196922086, 3036907250), (1254150528986120192, 469631198), (115512512, 15750573), (4928034543, 399361313), (132646210, 2776164847), (6459362, 132646210), (19659370, 14757518), (17002009, 132646210), (1097846996, 2190533245), (19659370, 796877583455555584), (132646210, 848687484), (132646210, 30981656), (132646210, 596203049), (15750573, 16310134), (15750573, 839446682819563520), (19659370, 8746072), (3036907250, 707112185076391936), (59913797, 15750573), (1168926603855958017, 132646210), (19659370, 3075691), (150732625, 15750573), (192931240, 15750573), (19659370, 1023751696697028608), (827392886, 132646210), (223380941, 132646210), (16895951, 19659370), (512785206, 19659370), (769507902897856512, 19659370), (122127763, 15750573), (19659370, 24046380), (30339571, 132646210), (538326631, 132646210), (132646210, 976373610), (15750573, 8762122), (303048766, 132646210), (709476815090413568, 132646210), (372830899, 132646210), (19659370, 48354997), (19659370, 163009576), (19659370, 224379103), (77436536, 19659370), (18932422, 15468474), (882605036, 15750573), (132646210, 153439378), (15254807, 3036907250), (144947577, 132646210), (15750573, 623111545), (19659370, 134061959), (16110508, 132646210), (15750573, 304540433), (2371689380, 132646210), (15750573, 789736108896751616), (101353399, 132646210), (19659370, 836189288572325888), (15750573, 293483941), (1028693496, 132646210), (338526004, 19659370), (19659370, 3384319941), (518957746, 132646210), (19659370, 2982471489), (132646210, 1166221754), (150622632, 132646210), (2887723143, 15750573), (19659370, 3367685915), (598232506, 19659370), (19659370, 28401365), (755397390, 132646210), (2493328698, 181954043), (2240601558, 3147145875), (132646210, 268262631), (132646210, 47456957), (2723963928, 14538236), (1279678049458499584, 14947339), (132646210, 1070352023449669632), (220987646, 16868154), (713164296604090368, 132646210), (132646210, 13360372), (76966092, 19659370), (132646210, 13507112), (96127287, 15750573), (320568816, 132646210), (2769983813, 132646210), (273921060, 19659370), (302013973, 19659370), (19659370, 153506820), (15750573, 24888653), (3147145875, 731289266), (132646210, 1290762290224984064), (59900894, 19659370), (263483174, 19659370), (2851178794, 132646210), (15750573, 13533662), (19659370, 80269062), (13920962, 19659370), (132646210, 1232460508160094209), (1111730640762875907, 132646210), (249255635, 19659370), (14639512, 37105355), (18932422, 1530894998), (132646210, 402143587), (3356531254, 3036907250), (15750573, 202626872), (1412036527, 327347231), (1376401838, 19659370), (32338210, 15750573), (19659370, 19659141), (2206179206, 18932422), (132646210, 4027105402), (1040124415151726592, 19659370), (19659370, 11017332), (4149032843, 132646210), (27007409, 15750573), (527454176, 15750573), (132646210, 2996506102), (58880930, 132646210), (106023728, 19659370), (2230151202, 19659370), (3036907250, 1264438328), (132646210, 564663512), (151303125, 132646210), (15750573, 866900373302378503), (19659370, 359622624), (2903217440, 19659370), (1412036527, 96034010), (884047713372975104, 15750573), (19659370, 14998112), (53340169, 19659370), (15750573, 2872651869), (132646210, 430570985), (344956335, 132646210), (132646210, 763432576375779328), (225110274, 19659370), (15750573, 772871943577931776), (20356196, 3036907250), (18932422, 2926864059), (2025101, 132646210), (3036907250, 1734817550), (314430404, 15750573), (4901700861, 19659370), (3036907250, 49043059), (132646210, 1264027207447371776), (876083623711174657, 19659370), (132646210, 41694589), (9507112, 15750573), (132646210, 352053266), (15750573, 3512256616), (132646210, 229601276), (850107536, 18932422), (2986084527, 19659370), (132646210, 101353399), (15750573, 404376053), (18485339, 19659370), (301178769, 406303880), (132646210, 294652384), (436122215, 15750573), (15750573, 624208322), (132646210, 33861957), (132646210, 5765972), (132646210, 2209729028), (109613064, 19659370), (132646210, 514667085), (1156797119149121541, 3036907250), (132646210, 93655722), (2797567802, 132646210), (1369078711, 132646210), (370102769, 15750573), (19659370, 1308409993213943809), (2451712820, 132646210), (14538236, 106791368), (31311757, 3036907250), (19659370, 977585064), (2317814702, 19659370), (132646210, 2462926410), (15750573, 1193486898), (132646210, 1245923843119575041), (709543955126333440, 19659370), (1189525564715089920, 19659370), (720605133483208705, 3036907250), (16868154, 1190521464815902720), (132646210, 132453147), (16868154, 1079750954868588545), (356803122, 193935341), (2890854807, 308456550), (18932422, 569790116), (132646210, 904533569749508097), (132646210, 217377296), (3034892963, 3036907250), (5763912, 19659370), (182486010, 15750573), (132646210, 9316452), (132646210, 822659), (390380093, 15750573), (568542838, 19659370), (391867472, 132646210), (15657398, 15750573), (19659370, 3300677471), (116655482, 2753364997), (821769650211930112, 19659370), (53096678, 122408887), (51215183, 132646210), (15750573, 546315483), (132646210, 53250831), (19659370, 722242009), (393956778, 132646210), (18932422, 41098784), (133790890, 3036907250), (132646210, 45412709), (19659370, 2394417954), (482995387, 15750573), (3331252607, 18932422), (185263153, 132646210), (19659370, 1848037524), (135047672, 132646210), (341000847, 1124794277660430341), (132646210, 188029486), (843009630812995584, 19659370), (619585396, 132646210), (23055193, 132646210), (132646210, 118056286), (19659370, 615595875), (731289266, 3147145875), (28165790, 19659370), (132646210, 28312691), (2839825685, 132646210), (51934480, 19659370), (132646210, 139008774), (1301154075434606598, 19659370), (27366114, 19659370), (132646210, 3230093066), (3036907250, 776732741098467328), (22398002, 19659370), (15750573, 1074807847), (917421341359464450, 19659370), (19722699, 3036907250), (46394850, 15750573), (132646210, 10759032), (18932422, 3130548765), (1556357336, 132646210), (19659370, 1106015165969924096), (3036907250, 56510427), (9541832, 19659370), (19659370, 3761306416), (132646210, 563947963), (132646210, 11892372), (19659370, 1303571503), (204123892, 19659370), (2986013849, 132646210), (132646210, 127894322), (561226226, 132646210), (269731175, 37105355), (2821170946, 132646210), (96123433, 928760788306878464), (2987533553, 15750573), (1056456062520492032, 289284899), (132646210, 2734776646), (3279064394, 19659370), (19659370, 834609484781723648), (1017171853914333185, 132646210), (132646210, 961808198), (132646210, 1099250750155354114), (294119630, 15750573), (483150865, 132646210), (19659370, 841854020058677252), (1929876336, 132646210), (132646210, 1320513201071484928), (14862794, 132646210), (18932422, 70422392), (132646210, 2341772972), (132646210, 17730501), (838930153665363968, 132646210), (294599794, 18932422), (281950081, 19659370), (132646210, 799830497065050112), (132646210, 139507464), (132646210, 561277962), (75071601, 19659370), (19659370, 19341622), (916364161415892992, 1117836660), (15750573, 46092394), (19659370, 211916935), (17743823, 132646210), (2864356347, 19659370), (1205609058, 19659370), (4165329244, 4928034543), (248135933, 18932422), (15750573, 790342394675888128), (2877993331, 19659370), (132646210, 24989839), (3317549893, 132646210), (14294701, 132646210), (18869136, 132646210), (3036907250, 1038481676), (19659370, 16507835), (577430083, 15750573), (868437872, 19659370), (17292623, 830589635738816512), (132646210, 821666958680719361), (119406189, 15750573), (19659370, 557553364), (9533042, 19659370), (132646210, 539946626), (18932422, 59208209), (1551361069, 19659370), (1477918760, 484733763), (228130177, 15750573), (1535439446, 132646210), (11235202, 132646210), (898565245484105732, 132646210), (89489054, 122408887), (19659370, 1080724857552199682), (1140163756267192321, 909955646895919104), (3036907250, 1131186925212241920), (348011201, 15750573), (15750573, 314430404), (376297519, 1039236870230749185), (3635929397, 101711550), (436837074, 15750573), (132646210, 54959293), (81875677, 132646210), (19659370, 439572655), (132646210, 36966461), (939946139029090304, 19659370), (15750573, 2544647385), (485018563, 15750573), (934228950, 15750573), (132646210, 2867784412), (85648537, 3036907250), (132646210, 33836629), (20314655, 132646210), (132646210, 2310390416), (784083274805248000, 132646210), (1102341617371963392, 132646210), (19659370, 188756842), (3988959013, 132646210), (17707080, 132646210), (19659370, 327032058), (132646210, 3221752726), (45321027, 19659370), (132646210, 833967951447486465), (15750573, 485140375), (18318677, 132646210), (19659370, 262236415), (132646210, 762093631), (19659370, 75071601), (55858928, 18932422), (3036907250, 2898184305), (146734981, 132646210), (695480624870633472, 386277982), (872274950, 132646210), (1571112116, 2190533245), (4898086443, 19659370), (3036907250, 1195044761322823680), (19659370, 1241258612), (2754412213, 15750573), (15750573, 385339360), (132646210, 78912282), (19659370, 19888273), (18932422, 3331252607), (65591085, 341000847), (49556240, 19659370), (833624768800817152, 132646210), (19659370, 2278288488), (469631198, 4758119662), (45101319, 15750573), (19659370, 2676313880), (2607616422, 132646210), (132646210, 889461651673690112), (15521075, 3036907250), (874530424575336449, 132646210), (2717694091, 19659370), (3036907250, 3036851230), (19659370, 45827605), (434835815, 132646210), (856391422974468101, 3270447613), (3551532493, 101711550), (36024756, 2386351941), (19659370, 20058825), (790451965, 132646210), (762501458, 19659370), (3036907250, 19411223), (1030464891830902784, 19659370), (132646210, 271243941), (1477918760, 204965245), (132646210, 344956335), (406260699, 15750573), (15750573, 7170002), (132646210, 27897414), (19659370, 200630242), (15750573, 399935607), (577243493, 769113642), (1311701627913420800, 14947339), (65184105, 15750573), (6107292, 15750573), (133550954, 132646210), (361288906, 19659370), (859698369765179392, 15750573), (2877269332, 3036907250), (386277982, 2424428378), (18932422, 2700931729), (1173370158, 132646210), (49043059, 3036907250), (3036907250, 822183485523841025), (7990062, 19659370), (15750573, 39889364), (19659370, 468825579), (15750573, 31422403), (132646210, 278482863), (173891055, 577243493), (132646210, 279903146), (2636910597, 15750573), (3033312071, 132646210), (2272178100, 824668943285702661), (1081076050061213697, 132646210), (3036907250, 2645602164), (1935675295, 15750573), (1014722412, 132646210), (15750573, 737882640), (771427581992185856, 132646210), (2409117643, 19659370), (1339637532, 132646210), (132646210, 20644989), (16868154, 1546634102), (36024756, 216299334), (132646210, 1287104705185939456), (3036907250, 3201975988), (3246646347, 132646210), (824668943285702661, 248792951), (3036907250, 21769127), (92116069, 830589635738816512), (825382759, 132646210), (3353136183, 19659370), (132646210, 900040284616114176), (132646210, 2188930908), (132646210, 253587073), (15455450, 132646210), (142293342, 132646210), (132646210, 3099020035), (19659370, 4794104842), (954540122904584192, 2924886188), (132646210, 301709965), (166739404, 3036907250), (173431194, 132646210), (43641631, 132646210), (3036907250, 3037264899), (81381560, 132646210), (132646210, 3902819477), (132646210, 361115646), (101711550, 1237020498422198273), (136142062, 15750573), (153764165, 18932422), (392531560, 1477918760), (132646210, 2186834214), (132646210, 877886035), (132646210, 93781753), (132646210, 862356144748204032), (838141984053284864, 15750573), (374400342, 211457876), (469631198, 1169586428533190656), (3036907250, 192854350), (132646210, 1850752598), (19659370, 740216334), (15750573, 39781270), (132646210, 2215006026), (1055893919597133824, 132646210), (132646210, 18675332), (108207407, 132646210), (109399833, 132646210), (917284226269052928, 19659370), (132646210, 409922330), (15750573, 517818047), (132646210, 14451127), (1061582051449557003, 19659370), (19659370, 49719781), (876479404985249792, 1527607790), (15750573, 114782375), (1907881, 132646210), (1280804221, 15750573), (19659370, 20436576), (22983937, 386277982), (755733488851189760, 19659370), (133806972, 19659370), (19659370, 17514022), (714365137365426176, 15750573), (257691637, 132646210), (132646210, 2189994866), (19659370, 116897811), (132646210, 994886035086761984), (3038714572, 3036907250), (3036907250, 742143), (579842788, 15750573), (771681197781053440, 132646210), (132646210, 784824594), (1136467769199910912, 19659370), (289222668, 19659370), (46350079, 19659370), (1229540217595387904, 132646210), (18932422, 259403751), (2209003450, 132646210), (3036907250, 3356531254), (19204539, 132646210), (132646210, 17707080), (19811190, 19659370), (68475307, 2512767432), (3587827899, 289284899), (460544873, 18932422), (28776166, 132646210), (19659370, 2502662672), (150346051, 15750573), (269301403, 388729560), (19659370, 109613064), (19659370, 3239238377), (508906511, 19659370), (2153743237, 132646210), (1060157776477982721, 132646210), (19659370, 822143767), (2240528131, 19659370), (16310134, 15750573), (3036907250, 14511951), (19659370, 313140358), (20640711, 132646210), (257111136, 1094001009188397057), (404376053, 15750573), (19659370, 869188290183917568), (79067151, 132646210), (3036907250, 839139788846411777), (15750573, 2714310207), (15750573, 2900424513), (132646210, 29639366), (1077734311799984128, 132646210), (1290762290224984064, 132646210), (193755075, 824668943285702661), (1710656606, 19659370), (18932422, 36448779), (18932422, 3035143127), (3147145875, 108076200), (1320785984816963585, 755513278625898496), (972651, 3036907250), (735818445749690368, 4718039356), (132646210, 156322219), (952300568961220609, 4928034543), (194989299, 15750573), (429259920, 132646210), (342578839, 132646210), (2882893927, 132646210), (132646210, 99023044), (577243493, 84728939), (18932422, 153764165), (2176025565, 15750573), (19659370, 59900894), (132646210, 626282563), (36448779, 18932422), (132646210, 412155441), (11867332, 132646210), (3577056016, 19659370), (15750573, 960887748), (451148485, 132646210), (19659370, 307912317), (894723591446687745, 3036907250), (308226281, 132646210), (310741473, 19659370), (15750573, 2381066016), (158751132, 19659370), (73719913, 132646210), (132646210, 9632312), (434236851, 19659370), (852083180182147072, 19659370), (1284213415410651136, 101711550), (131498466, 132646210), (117483950, 19659370), (3243283713, 19659370), (1557796237, 132646210), (3036907250, 3003392104), (132646210, 2797567802), (2576448008, 19659370), (1622761998, 132646210), (19659370, 53340169), (15750573, 490382218), (458399248, 19659370), (18932422, 369440364), (2523642978, 19659370), (132646210, 850170113504325632), (132646210, 1081241209622822913), (95013770, 18932422), (1894231788, 132646210), (19659370, 311404595), (15750573, 420316063), (36024756, 31107562), (19659370, 464868829), (107751300, 15750573), (1081241209622822913, 132646210), (897060827316072448, 132646210), (132646210, 39321347), (822367881547550720, 132646210), (15750573, 24160034), (891731882, 132646210), (3120886937, 19659370), (3036907250, 200163448), (458079606, 19659370), (18932422, 126352685), (267249771, 18932422), (15750573, 15578992), (132646210, 3892710581), (15750573, 2147987488), (49310901, 44196397), (132646210, 59263220), (188221066, 132646210), (132646210, 49911968), (1094001009188397057, 257111136), (15750573, 346742249), (722242009, 19659370), (19659370, 20304025), (22749856, 132646210), (744114034660773888, 15750573), (18932422, 91697719), (3036907250, 1156797119149121541), (2190533245, 20660258), (132646210, 964589615230337024), (132646210, 126274094), (251614179, 132646210), (36927290, 132646210), (4645255754, 3036907250), (108441778, 18932422), (132646210, 253734620), (485140375, 15750573), (246713978, 132646210), (533315563, 15750573), (73909361, 15750573), (27018274, 25086234), (16925097, 19659370), (959849838212014081, 15750573), (132646210, 200466843), (553436328, 19659370), (3036907250, 62513246), (19659370, 2450416195), (15750573, 115180931), (41667342, 3036907250), (337600744, 18932422), (111046352, 2190533245), (747665252, 132646210), (955493794669121537, 132646210), (10695152, 132646210), (91523851, 19659370), (928151539893420032, 132646210), (15750573, 315707871), (132646210, 50269516), (19659370, 207770279), (210917295, 101711550), (1112711079552053250, 830589635738816512), (19659370, 3005431923), (19690273, 19659370), (412270831, 132646210), (18932422, 15247794), (15750573, 182799181), (3761306416, 19659370), (132646210, 18033313), (549833457, 710492983800569857), (154138518, 132646210), (2274780686, 19659370), (19659370, 2877993331), (132646210, 2353222800), (342569184, 18932422), (1202308734, 15750573), (333410580, 15750573), (19659370, 1376401838), (1477918760, 1609328383), (19659370, 2814432614), (1131186925212241920, 3036907250), (19659370, 177751401), (319135326, 3036907250), (59504716, 132646210), (15750573, 83566575), (19659370, 946028606), (19626509, 132646210), (101711550, 115681495), (132646210, 356775978), (33993797, 19659370), (19659370, 12035282), (16387111, 132646210), (211457876, 321951166), (3036907250, 3293206151), (132646210, 17580853), (1009253378, 15750573), (97436767, 269301403), (18932422, 984769730983682048), (810173876466515968, 132646210), (431210487, 19659370), (305236970, 19659370), (755513278625898496, 1243171978917416960), (17514022, 19659370), (132646210, 1054280867512705025), (359622624, 19659370), (37105355, 538213674), (377571301, 15750573), (54541583, 15750573), (2166992210, 132646210), (2575124365, 132646210), (19659370, 48649222), (15750573, 151581782), (18932422, 524561395), (19659370, 301037777), (47319664, 19659370), (19659370, 508906511), (116655482, 85243046), (132646210, 1426135280), (15750573, 36347948), (39697728, 132646210), (14998112, 19659370), (19659370, 64245814), (271485168, 3036907250), (222110806, 928760788306878464), (891186338, 132646210), (19659370, 719967950527205376), (1031837755234549760, 2441568883), (570072860, 3036907250), (98966111, 132646210), (19659370, 252988497), (799830497065050112, 132646210), (132646210, 15166546), (132646210, 23973296), (10277212, 132646210), (41572443, 19659370), (2988561009, 18932422), (132646210, 103761767), (19659370, 19486877), (717348489215262724, 961561664222097408), (15750573, 150346051), (776585502606721024, 44196397), (14947339, 182273161), (824668943285702661, 1321141181846355971), (891165276, 3314775459), (132646210, 1441677282), (19659370, 21324520), (18932422, 112829445), (19659370, 940441783), (132646210, 2613410444), (49793, 132646210), (19659370, 28245224), (19659370, 803909558431313920), (132646210, 1033944831918104576), (19659370, 339654180), (132646210, 372830899), (132646210, 1141316975324536832), (1408239470, 19659370), (19659370, 9533042), (1209013666311356416, 824668943285702661), (211916935, 19659370), (1021864596548681728, 341000847), (19659370, 3233792564), (78969930, 132646210), (19659370, 17949156), (19659370, 867297019160707072), (17018894, 132646210), (101711550, 210917295), (773280684173463552, 19659370), (866238336, 4928034543), (132646210, 1991321), (132646210, 1035524448319885312), (132646210, 197313522), (688583, 3036907250), (737700306637594624, 717348489215262724), (2329921, 19659370), (132646210, 25037133), (116655482, 26156309), (132646210, 234058792), (714783310954774529, 15750573), (19659370, 49976458), (160741955, 132646210), (132646210, 434835815), (132646210, 54875928), (16687314, 132646210), (19659370, 15090415), (29959702, 132646210), (449616976, 15750573), (15750573, 832361946154401792), (1281284403864403970, 179571184), (19659370, 2176358690), (1016764586228412421, 132646210), (132771664, 37105355), (17922590, 413981727), (725639768663576576, 132646210), (132646210, 13568892), (1245061044847947777, 132646210), (52059998, 3036907250), (492216731, 132646210), (19659370, 19811190), (2797743527, 15750573), (132646210, 54682074), (3275071813, 4928034543), (44860754, 19659370), (19659370, 45321027), (15750573, 1089302341), (79721713, 19659370), (132646210, 607311335), (3145677894, 193935341), (146159328, 18932422), (172179385, 132646210), (289560192, 132646210), (1527607790, 453048459), (132646210, 44217911), (248721193, 19659370), (68475307, 3084901894), (323616054, 19659370), (19659370, 450842550), (204297410, 132646210), (200083348, 132646210), (19659370, 112882940), (132646210, 245907225), (19659370, 44860754), (132646210, 21782750), (19659370, 288995692), (1127358323051749378, 132646210), (132646210, 427330274), (19659370, 46342393), (52869134, 132646210), (932582571338321920, 19659370), (27897414, 132646210), (68784803, 19659370), (132646210, 258722513), (230815459, 3036907250), (132646210, 619585396), (248064213, 19659370), (132646210, 6057982), (911514942335012864, 132646210), (573918122, 3036907250), (870968012, 19659370), (301709965, 132646210), (3035211041, 3036907250), (20225119, 132646210), (132646210, 18052550), (1055867231060537344, 1140163756267192321), (27382834, 201275909), (73343, 15750573), (82337208, 19659370), (35749835, 19659370), (19659370, 870968012), (1219230275198058497, 132646210), (372843212, 15750573), (19659370, 4484681), (48062712, 132646210), (3036907250, 114870386), (20460664, 15750573), (533584357, 132646210), (3036907250, 85648537), (1014974716359081988, 132646210), (132646210, 3775401076), (893484744725467137, 469631198), (15750573, 14146389), (1031837755234549760, 915895342532583424), (132646210, 984275749824638976), (427330274, 132646210), (798144986491551745, 289284899), (490382218, 15750573), (453048459, 1527607790), (16868154, 220987646), (19659370, 414130557), (16684149, 15750573), (18843675, 132646210), (11990112, 132646210), (132646210, 105925630), (1174325520294715392, 19659370), (984135577208373249, 132646210), (344725369, 18932422), (132646210, 934087003), (132646210, 3292784453), (7905122, 19659370), (19659370, 57320656), (12035282, 19659370), (19659370, 2587163612), (17712257, 19659370), (153327232, 19659370), (3036907250, 436609034), (19659370, 458399248), (132646210, 446719282), (132646210, 28776166), (781676758932262912, 19659370), (95630269, 132646210), (132646210, 2998896042), (18932422, 95013770), (994300581291282432, 132646210), (19659370, 598232506), (132646210, 15159648), (19659370, 2253247064), (15750573, 128213903), (132646210, 16387111), (132646210, 1077633912), (258722513, 132646210), (132646210, 2986305078), (19659370, 119459238), (15750573, 93618186), (480575573, 4718039356), (3036907250, 2251623492), (132646210, 17743823), (22752868, 19659370), (14761223, 132646210), (272376633, 132646210), (476514758, 15750573), (132646210, 11867332), (4208606734, 19659370), (50393960, 928760788306878464), (2221607978, 19659370), (1086604922, 132646210), (132646210, 969392138076041216), (132646210, 778856886), (132646210, 1409748306), (469631198, 2882916461), (132646210, 922354202088759296), (1289974182755762176, 132646210), (15750573, 419946721), (132646210, 271370579), (4157611, 132646210), (19659370, 2758095800), (85813091, 15750573), (19659370, 801934486023782400), (15750573, 6979832), (132646210, 305431714), (16976682, 19659370), (318093688, 132646210), (47605273, 19659370), (1079473267, 15750573), (132646210, 37069005), (709828900, 19659370), (403677666, 15750573), (14285650, 19659370), (289284899, 268075557), (626282563, 132646210), (376297519, 34641691), (2310390416, 132646210), (99750590, 122408887), (1848037524, 19659370), (15750573, 71502653), (19659370, 790899349471498240), (132646210, 2329817887), (821666958680719361, 132646210), (80979483, 132646210), (19659370, 800707492346925056), (320170952, 4718039356), (19659370, 4742002531), (14265641, 132646210), (2685989162, 132646210), (20536157, 132646210), (19659370, 755733488851189760), (848152044137574401, 15750573), (735809541456027648, 3036907250), (834609484781723648, 19659370), (15750573, 38190507), (14757518, 19659370), (308456550, 892954139319087104), (132646210, 1245061044847947777), (207534677, 19659370), (3511430425, 3036907250), (19659370, 91440853), (19659370, 1246421), (15750573, 194989299), (19659370, 72102865), (897568340075479040, 15750573), (19659370, 1894582058), (19659370, 7990062), (824668943285702661, 1225090677597442048), (132646210, 296312612), (1904734980, 15750573), (39048846, 18932422), (19659370, 17712257), (132646210, 1072910977), (1877046548, 15750573), (132646210, 216939636), (450594910, 15750573), (17705769, 19659370), (3036907250, 29866761), (1442906958, 132646210), (19659370, 373580725), (1978351027, 3036907250), (1014471, 132646210), (14622066, 19659370), (941478255789457408, 19659370), (382158989, 132646210), (790899349471498240, 19659370), (623111545, 15750573), (15750573, 102609059), (132646210, 438301250), (19659370, 20131383), (216919545, 132646210), (18052550, 132646210), (479013038, 132646210), (2891809527, 19659370), (132646210, 2653043425), (19659370, 2455929786), (4202417063, 19659370), (972494379754688518, 132646210), (779769, 19659370), (180092401, 37105355), (2427769760, 19659370), (15750573, 2754814433), (201854523, 132646210), (45675087, 132646210), (2213823000, 132646210), (435462176, 132646210), (3036907250, 20581429), (1107254048896548864, 132646210), (1175299088, 132646210), (352650313, 19659370), (19659370, 917284226269052928), (39237580, 19659370), (15750573, 253973566), (21457289, 132646210), (2164350602, 2924886188), (561277962, 132646210), (384127183, 132646210), (1057019486530887680, 179571184), (48649222, 19659370), (1308409993213943809, 19659370), (19659370, 21133730), (132646210, 4863093417), (4083688114, 132646210), (132646210, 838601156737654784), (761153954809913344, 132646210), (824812182114164736, 132646210), (15750573, 2244880545), (19659370, 3243283713), (549833457, 29843511), (15750573, 469115517), (837051215339008000, 19659370), (1031837755234549760, 1009126632450351104), (132646210, 911297187664949248), (95745203, 15750573), (1037864733360226304, 15750573), (132646210, 3549187454), (132646210, 151303125), (179571184, 1272598826067640326), (622716896, 132646210), (469115517, 15750573), (61302699, 19659370), (207770279, 19659370), (191723833, 132646210), (21991908, 19659370), (3036907250, 14293310), (15750573, 3025618094), (529771925, 19659370), (479798490, 15750573), (132646210, 273561140), (717768811005526016, 3036907250), (132646210, 1357389505), (1140163756267192321, 1196347778525384705), (989251872107085824, 19659370), (93618186, 15750573), (3036907250, 3038714572), (164233384, 19659370), (132646210, 408986233), (32872183, 132646210), (125721127, 132646210), (132646210, 1123336792021897216), (132646210, 972987874613366784), (121709074, 132646210), (796368494342316032, 15750573), (71167669, 132646210), (132646210, 2213823000), (268025507, 19659370), (15750573, 90830802), (417189950, 15750573), (19659370, 2577967370), (19659370, 1043211642182328320), (19659370, 18033550), (409890910, 132646210), (206743057, 132646210), (132646210, 716947512154853376), (99473901, 132646210), (3257676018, 19659370), (132646210, 2615258306), (3036851230, 3036907250), (132646210, 538326631), (15750573, 851254609), (132646210, 308226281), (409166947, 15750573), (132646210, 823957466), (15750573, 384759698), (19659370, 541117509), (19659370, 12151932), (5943622, 19659370), (195525587, 132646210), (15750573, 16684149), (243479125, 132646210), (350152586, 18932422), (134765219, 18932422), (4718039356, 2907713807), (3036907250, 14677919), (2245759994, 132646210), (111801456, 19659370), (2253247064, 19659370), (122468228, 122408887), (838601156737654784, 132646210), (421253339, 53654934), (38277726, 15750573), (132646210, 1276832114856656896), (406303880, 1251182739035795463), (132646210, 617400195), (132646210, 22289618), (743917727820058626, 19659370), (1101500498564313090, 132646210), (15750573, 16739331), (778607, 19659370), (761245260, 916364161415892992), (132646210, 111373125), (132646210, 919860212), (15750573, 19710651), (91168371, 964581642290393088), (386277982, 14820511), (863480903481401345, 717348489215262724), (4053818032, 3036907250), (132646210, 1231314888), (398785862, 19659370), (3304471, 132646210), (19659370, 3150832239), (132646210, 1077863989202247681), (147949965, 132646210), (19659370, 2494212979), (19659370, 111801456), (132646210, 496430086), (48839631, 18932422), (132646210, 101045085), (4694535756, 132646210), (273561140, 132646210), (32193354, 132646210), (1018200198886109185, 1094001009188397057), (3710428289, 14947339), (842043337687289856, 132646210), (520133735, 15750573), (71502653, 15750573), (92593701, 19659370), (26329801, 15750573), (14494523, 132646210), (717756832240902144, 15750573), (132646210, 2424680826), (16868154, 197957154), (132646210, 949642445083459585), (132646210, 20167623), (940441783, 19659370), (143187995, 19659370), (132646210, 427431943), (19659370, 398785862), (96034010, 1412036527), (794790254, 18932422), (334678478, 15750573), (1620225060, 15750573), (806101991109890048, 15750573), (857570979022876672, 15750573), (14266044, 18932422), (1094001009188397057, 711001600567828481), (15750573, 341258707), (18932422, 34227622), (33864359, 19659370), (1076782624775884800, 193935341), (2424680826, 132646210), (824668943285702661, 81737577), (13056322, 3036907250), (132646210, 3128829965), (132646210, 824886467721703425), (1148229403, 15750573), (132646210, 241167877), (68475307, 3124307007), (132646210, 561226226), (132646210, 6778812), (3036907250, 735809541456027648), (2907713807, 4718039356), (132646210, 934851466082357249), (18932422, 3085799703), (3036907250, 1019673422), (15750573, 561642136), (3015605477, 3036907250), (19659370, 2730017576), (5637652, 19659370), (132646210, 66322723), (19659370, 36417099), (15750573, 45101319), (15750573, 479798490), (2874803443, 132646210), (802182440, 132646210), (10313732, 132646210), (132646210, 143319983), (16905485, 1483247714), (132646210, 997784960), (12755532, 132646210), (2544647385, 15750573), (132646210, 4793796869), (237670274, 3036907250), (1483247714, 69384456), (19659370, 263044687), (116655482, 1020383864), (19659370, 17581976), (132646210, 80446199), (132646210, 485447824), (61449317, 132646210), (22346932, 269301403), (19659370, 79721713), (126352685, 18932422), (132646210, 212276623), (22132438, 132646210), (250059685, 132646210), (177751401, 19659370), (1072910977, 132646210), (18932422, 9910992), (245548093, 3036907250), (188723124, 15750573), (43583452, 19659370), (1048018930785083392, 15750573), (132646210, 73705954), (18932422, 127489643), (132646210, 1154319646780272641), (1118909833942577153, 15750573), (916364161415892992, 486530534), (966024156574662656, 19659370), (456156498, 824668943285702661), (132646210, 1256240551118200835), (1064203950717583360, 15750573), (135801478, 132646210), (15750573, 456853606), (132646210, 827392886), (132646210, 1690763647), (15750573, 192931240), (18932422, 22960511), (5921452, 19659370), (139377848, 132646210), (132646210, 1014722412), (19659370, 797823007997722624), (721931072, 132646210), (19659370, 27818124), (376297519, 25073877), (140093780, 132646210), (19659370, 240316759), (132646210, 16110508), (2711212681, 19659370), (279084731, 132646210), (76336279, 19659370), (115091858, 132646210), (15750573, 1972411447), (15750573, 1202308734), (1011316249274540033, 132646210), (1204339794471538688, 132646210), (252411935, 19659370), (132646210, 1219230275198058497), (1068486102930112514, 19659370), (132646210, 18202677), (19659370, 1002096110), (1231314888, 132646210), (118412527, 3036907250), (19659370, 1145584490594443264), (1617314359, 132646210), (18932422, 500950174), (954235769618538496, 3036907250), (46342393, 19659370), (604779041, 18932422), (17917382, 15750573), (1262176362913136641, 201275909), (19659370, 15376357), (132646210, 2272376472), (3036907250, 562439654), (19659370, 221460294), (132646210, 1014471), (369440364, 18932422), (15750573, 544360896), (132646210, 72781449), (201275909, 1000886101), (4928034543, 3275071813), (91168371, 1323903942951112705), (19659370, 1026754771087110144), (19659370, 53079180), (1043021486, 15750573), (433226744, 15750573), (148975904, 101711550), (15750573, 2525616956), (78577226, 15750573), (132646210, 2269512362), (142837256, 15750573), (822405576504344576, 132646210), (110509537, 15750573), (5765972, 132646210), (103810205, 132646210), (870764041660190720, 132646210), (33423759, 19659370), (132646210, 3248357604), (242868086, 132646210), (162124540, 132646210), (19244292, 122408887), (181954043, 16067035), (2660795953, 122408887), (916364161415892992, 15147397), (19659370, 1708743114), (1235459244192862208, 3270447613), (281448138, 3036907250), (4230101712, 44196397), (19659370, 2240528131), (132646210, 518957746), (220020080, 15750573), (256353770, 15750573), (1553685114, 132646210), (19659370, 41572443), (132646210, 113339417), (132646210, 980046830), (132646210, 146195370), (15750573, 706431707885477888), (245345590, 132646210), (780788089966829568, 15750573), (132646210, 320568816), (297091554, 132646210), (406303880, 90109488), (1140163756267192321, 1299448831843524609), (31442869, 19659370), (2821866374, 68475307), (132646210, 996170598056263683), (3036907250, 15492359), (341000847, 1021864596548681728), (1094048100564365312, 132646210), (19659370, 856955544845811712), (1071412460, 19659370), (132646210, 191723833), (132646210, 216919545), (774324193928351744, 132646210), (839139788846411777, 3036907250), (132646210, 880523990883848192), (18932422, 104892871), (18932422, 2318099514), (19659370, 600067712), (246318475, 15750573), (16596200, 19659370), (788839271239184385, 3036907250), (19659370, 69870134), (1186828039, 577243493), (19659370, 5637652), (19659370, 497181885), (8762122, 15750573), (14947339, 285021127), (2492690671, 132646210), (15750573, 441676899), (19659370, 547871798), (140956562, 19659370), (19659370, 2807461219), (456853606, 15750573), (772574162, 132646210), (19659370, 743917727820058626), (2895714597, 19659370), (53654934, 701882787821973506), (506166021, 15750573), (199298537, 132646210), (132646210, 790451965), (19659370, 332134740), (132646210, 2422189058), (1290862877897682945, 193935341), (2753364997, 116655482), (972040446, 201275909), (19659370, 3207393315), (18932422, 60884801), (1107588341124337666, 132646210), (15750573, 131526573), (157981564, 53654934), (68475307, 2821866374), (737882640, 15750573), (19659370, 1190682302977859584), (3036907250, 1053724531), (21308312, 132646210), (210501383, 376297519), (376297519, 416476798), (19659370, 2831695553), (3036907250, 2413882279), (14048484, 19659370), (132646210, 274609987), (132646210, 4652730673), (831114368435748864, 3036907250), (19659370, 186764685), (1019194066855006208, 132646210), (132646210, 17002009), (386277982, 20176114), (19659370, 307755344), (139811295, 19659370), (3107826244, 19659370), (15750573, 705504146808565760), (1195044761322823680, 3036907250), (17922590, 420368902), (1043211642182328320, 19659370), (1299448831843524609, 1140163756267192321), (18932422, 66369383), (1169586428533190656, 469631198), (132646210, 135801478), (191728278, 132646210), (132646210, 234321271), (477030336, 19659370), (15750573, 1284129738), (19659370, 15518172), (2199531518, 132646210), (132646210, 2601589496), (308456550, 2890854807), (132646210, 848799224854609920), (11892372, 132646210), (19659370, 1580058000), (19659370, 1071412460), (1677808003, 15750573), (132646210, 2713275441), (373951619, 132646210), (18932422, 831922344), (9271782, 19659370), (132646210, 290705256), (2807461219, 19659370), (25864331, 19659370), (19659370, 2520999920), (132646210, 6844292), (132646210, 6459362), (616219267, 19659370), (132646210, 393956778), (19659370, 7295362), (8077952, 132646210), (15750573, 343998886), (15750573, 1629889939), (19659370, 16976496), (73147282, 3036907250), (9571292, 132646210), (132646210, 4083688114), (19659370, 534255106), (395990396, 3036907250), (16249403, 132646210), (15750573, 50607971), (15750573, 860098587287588864), (13360372, 132646210), (132646210, 743908703863083008), (108076200, 3147145875), (15750573, 251149608), (271909348, 132646210), (260971421, 132646210), (549833457, 331080165), (15750573, 628623778), (2989739661, 19659370), (2876226376, 19659370), (36417099, 19659370), (1189744336415723520, 132646210), (132646210, 174083824), (12031032, 132646210), (19659370, 111258447), (72102865, 19659370), (2208838112, 3036907250), (26000689, 18932422), (15750573, 20747847), (3036907250, 2835276183), (1002193231, 132646210), (19659370, 3074437553), (1734817550, 3036907250), (132646210, 2025101), (93781753, 132646210), (132646210, 2209003450), (742143, 3036907250), (19659370, 93903085), (18932422, 2206179206), (119711344, 3036907250), (887535601, 132646210), (132646210, 3304471), (17260513, 3314775459), (37069005, 132646210), (4042462396, 19659370), (443505905, 376297519), (298982411, 19659370), (3095317209, 18932422), (132646210, 871687740), (19659370, 219728708), (1297170244658552838, 19659370), (377983647, 19659370), (264132382, 132646210), (19659370, 2444229696), (132646210, 10695152), (19659370, 1344951), (19380829, 18932422), (132646210, 898565245484105732), (19659370, 585390634), (93903085, 19659370), (1193486898, 15750573), (615595875, 19659370), (132646210, 156204739), (822659, 132646210), (132646210, 1267637312), (234070123, 15750573), (132646210, 313348339), (1184821524534059008, 132646210), (3364147025, 132646210), (204387286, 15750573), (15750573, 882605036), (132646210, 1166366776625467393), (19659370, 308843719), (15750573, 16079826), (1228726773078208512, 19659370), (942684527754989568, 132646210), (960887748, 15750573), (132646210, 492216731), (1251108504653361152, 132646210), (19659370, 158751132), (132646210, 135047672), (192854350, 3036907250), (15750573, 39618125), (19659370, 14285650), (4833032980, 132646210), (3036907250, 166739404), (132646210, 1617314359), (132646210, 44106240), (3036907250, 3015605477), (132646210, 191728278), (132646210, 606214834), (80422885, 3036907250), (19859014, 19659370), (14874480, 18932422), (317727341, 132646210), (174083824, 132646210), (361115646, 132646210), (924822883800453120, 193935341), (15750573, 1653261366), (132646210, 33113669), (53645823, 132646210), (19659370, 74419325), (321951166, 211457876), (15750573, 1009253378), (1015930135, 132646210), (342137485, 19659370), (1194379349803319298, 132646210), (289284899, 798144986491551745), (2252260178, 132646210), (19659370, 25213966), (190778398, 132646210), (98975049, 53654934), (289284899, 75587044), (3036907250, 1579422614), (916364161415892992, 1085427626716491776), (132646210, 66722583), (2228576226, 19659370), (2803495736, 15750573), (2894562264, 1094001009188397057), (132646210, 39547749), (2347049341, 3036907250), (19659370, 249255635), (199597043, 19659370), (132646210, 32942338), (725387616, 19659370), (158297618, 19659370), (305474242, 132646210), (1898912480, 19659370), (2460368252, 19659370), (431192409, 132646210), (404100683, 19659370), (943676329, 15750573), (549833457, 3916694415), (2924886188, 2838403462), (132646210, 1617382039), (15750573, 216744325), (132646210, 2280952807), (132646210, 495430242), (132646210, 103835763), (3075691, 19659370), (272065025, 132646210), (1109067043, 15750573), (14065835, 132646210), (132646210, 822367881547550720), (78912282, 132646210), (132646210, 60959947), (269301403, 2427366498), (470847338, 386277982), (4739335047, 15750573), (132646210, 16102444), (812055605510803456, 132646210), (19659370, 8719472), (3111344171, 27018274), (132646210, 1084212657761148928), (814980524200566784, 132646210), (25058013, 53654934), (618193431, 132646210), (2190723061, 132646210), (515563051, 101711550), (2969887354, 3036907250), (2654456020, 4718039356), (19659370, 117712651), (132646210, 8260242), (18932422, 28822067), (330917707, 132646210), (598112617, 3314775459), (1196193239713353732, 19659370), (132646210, 22585506), (2188930908, 132646210), (132646210, 33838201), (73926321, 15750573), (132646210, 435727485), (132646210, 785618379201654784), (3226059106, 15750573), (15750573, 2785709353), (904174368, 15750573), (916364161415892992, 18494510), (18932422, 16867526), (132646210, 245345590), (139355216, 132646210), (383365753, 19659370), (115681495, 101711550), (147299961, 15750573), (44196397, 17664709), (19659370, 79703784), (132646210, 748525684578914304), (122408887, 2322897703), (836189288572325888, 19659370), (5108051, 132646210), (1284129738, 15750573), (14199378, 3036907250), (1299097451811536910, 3270447613), (11348282, 3036907250), (19659370, 15808647), (354009660, 132646210), (203250712, 19659370), (808593541840719872, 19659370), (132646210, 1371476814), (2280952807, 132646210), (258465487, 15750573), (19659370, 261126954), (755513278625898496, 70380871), (2803449260, 19659370), (15750573, 803003521), (19659370, 1065173952664952837), (567383651, 132646210), (130667410, 15750573), (469119337, 18932422), (195719387, 132646210), (15750573, 1035807940719112192), (132646210, 870764041660190720), (109598348, 132646210), (701026341500690432, 3036907250), (132646210, 3332231), (132646210, 272623675), (2544161559, 15750573), (132646210, 14494523), (872544691442466816, 132646210), (3237012607, 15750573), (2329817887, 132646210), (132646210, 84508784), (19659370, 616219267), (5734242, 132646210), (132646210, 4347423515), (19659370, 207534677), (469631198, 1253272850691129347), (19659370, 1354848524), (2922679556, 19659370), (132646210, 22952866), (18932422, 101264703), (19659370, 2372636521), (132646210, 1907881), (1074807847, 15750573), (26014256, 19659370), (3751854082, 15750573), (17581976, 19659370), (132646210, 709493676121042945), (1598324696, 132646210), (1725341478, 15750573), (122408887, 122468228), (3565816992, 19659370), (216703645, 18932422), (15750573, 2176025565), (36024756, 1410981890), (16953723, 15750573), (18932422, 469119337), (19659370, 837051215339008000), (132646210, 14667411), (50374439, 19659370), (19659370, 311340284), (200163448, 3036907250), (797823007997722624, 19659370), (758175168, 19659370), (19659370, 2221607978), (132646210, 3310895591), (918798040282091520, 15750573), (75587044, 289284899), (82573938, 132646210), (52414554, 15750573), (2312790332, 19659370), (3036907250, 184125091), (830589635738816512, 4783690002), (285332715, 132646210), (119459238, 19659370), (15750573, 2560958309), (916364161415892992, 761245260), (132646210, 65915718), (153439378, 132646210), (19659370, 398500188), (19659370, 702932794947694592), (132646210, 317727341), (15750573, 28316908), (2903681001, 19659370), (132646210, 1040575154424893441), (910827588, 3036907250), (1168762828607508480, 132646210), (3130629970, 19659370), (203070657, 18932422), (132646210, 278359534), (778856886, 132646210), (132646210, 181720081), (15750573, 616564407), (18932422, 93957809), (132646210, 2475224005), (132646210, 2607616422), (132646210, 1108108225), (19659370, 301939006), (1006419421244678144, 1412036527), (1099250750155354114, 132646210), (2176358690, 19659370), (1605951265, 132646210), (132646210, 1259983955408744449), (831922344, 18932422), (915721853833900032, 19659370), (132646210, 37622738), (789107706397196288, 132646210), (19659370, 108334890), (54580934, 132646210), (19659370, 2236856634), (132646210, 807251568961744896), (19659370, 1136467769199910912), (597499972, 132646210), (33113669, 132646210), (112829445, 18932422), (132646210, 391247062), (114146587, 132646210), (18932422, 567360618), (15750573, 417189950), (132646210, 2579832252), (132646210, 87985586), (132646210, 41828876), (132646210, 322711407), (27018274, 724150434567446529), (582161546, 19659370), (1037548569467731968, 132646210), (19659370, 16596200), (1089302341, 15750573), (3036907250, 118412527), (16279554, 132646210), (112415325, 132646210), (1044869316288696320, 132646210), (56510427, 3036907250), (1094001009188397057, 896688971186667520), (1054280867512705025, 132646210), (831290691712004096, 132646210), (19659370, 277298681), (82388703, 179571184), (132646210, 1182908622113660929), (325755342, 132646210), (132646210, 3395161438), (132646210, 3235806942), (132646210, 4460137405), (273003435, 19659370), (18855622, 132646210), (1663172653, 18932422), (15750573, 925220088), (19659370, 33423759), (132646210, 20536157), (44196397, 776585502606721024), (717348489215262724, 336557932), (18932422, 342569184), (717348489215262724, 183036543), (354847710, 15750573), (15675384, 132646210), (15750573, 258465487), (332134740, 19659370), (14146389, 15750573), (15750573, 4854858064), (132646210, 3077144869), (19659370, 6365342), (15750573, 15637569), (132646210, 1770311), (2790017707, 1094001009188397057), (2232721860, 19659370), (4398626122, 132646210), (3036907250, 477554560), (3036907250, 788839271239184385), (203866616, 15750573), (46508246, 15750573), (17078917, 132646210), (132646210, 3865043177), (44322834, 116655482), (49945724, 18932422), (1225090677597442048, 824668943285702661), (19659370, 3621255616), (2182249315, 3411494596), (12044602, 19659370), (509162767, 15750573), (3145021135, 18932422), (2441568883, 1031837755234549760), (132646210, 14065835), (539296619, 19659370), (118263124, 132646210), (132646210, 136756365), (136756365, 132646210), (14208224, 19659370), (1238826270, 132646210), (19659370, 4728720725), (132646210, 299858686), (3036907250, 870362407), (1685766865, 132646210), (29277960, 132646210), (19659370, 1140577345973170177), (132646210, 1605951265), (327301533, 132646210), (3270447613, 3386560983), (2785709353, 15750573), (18932422, 45389867), (132646210, 11235202), (18932422, 3145021135), (1140163756267192321, 1055867231060537344), (105925630, 132646210), (33105342, 15750573), (20304025, 19659370), (1023751696697028608, 19659370), (3036907250, 569382995), (572279177, 19659370), (132646210, 17354555), (18932422, 2348513340), (132646210, 891186338), (132646210, 185263153), (18932422, 19540483), (159240329, 132646210), (52352322, 15750573), (1314432997375062016, 755513278625898496), (19659370, 47987831), (132646210, 771427581992185856), (3036907250, 2659265263), (1240768429285675008, 2924886188), (17278474, 132646210), (132646210, 936713855878787074), (132646210, 1369078711), (908589103737950208, 19659370), (15750573, 204387286), (271243941, 132646210), (76679840, 132646210), (748179418397421568, 15750573), (1171878193114025987, 132646210), (157920406, 19659370), (19659370, 1425336134), (562222972, 132646210), (327382506, 14947339), (132646210, 1052291485901697024), (15750573, 182486010), (19659370, 1227698863), (155505157, 19659370), (19659370, 11010332), (193227076, 132646210), (497181885, 19659370), (977250301, 19659370), (219728708, 19659370), (775803709997670401, 17922590), (2608840453, 132646210), (132646210, 2550133394), (123093566, 19659370), (132646210, 890413838578966528), (45412709, 132646210), (11595422, 132646210), (6844292, 132646210), (289284899, 1231189221450403841), (377344523, 15750573), (992149270399725568, 1140163756267192321), (90830802, 15750573), (78269677, 132646210), (1304717864, 18932422), (3121745324, 17922590), (132646210, 7851812), (132646210, 403731744), (950778219724230657, 36024756), (467852343, 132646210), (15750573, 2544161559), (132646210, 25481069), (15962096, 15750573), (15750573, 24932781), (19659370, 2986084527), (17922590, 16705752), (132646210, 3943475233), (4194417913, 132646210), (885944485615738881, 132646210), (17955611, 15750573), (19659370, 359831209), (19659370, 16895951), (607311335, 132646210), (172260408, 18932422), (606214834, 132646210), (4897300665, 132646210), (19659370, 34999723), (186404598, 15750573), (1230692054092529664, 19659370), (46092394, 15750573), (920700510306529280, 132646210), (1412036527, 1460313109), (19659370, 944810996), (132646210, 44871098), (132646210, 4873684235), (132646210, 42399260), (274609987, 132646210), (56077211, 1412036527), (382393, 132646210), (1031837755234549760, 2926840635), (3158689771, 19659370), (234058792, 132646210), (15750573, 369085369), (29843511, 549833457), (132646210, 2199531518), (132646210, 2251030016), (19659370, 2576448008), (3036907250, 2424287186), (1728795440, 19659370), (394665897, 15750573), (132646210, 15675384), (1052291485901697024, 132646210), (15750573, 464907377), (132646210, 1233080567727521792), (132646210, 202853969), (17580853, 132646210), (579133028, 3036907250), (370597692, 132646210), (53654934, 46224994), (15192127, 19659370), (18932422, 15421904), (132646210, 1974656552), (116655482, 1227629352), (132646210, 3415864408), (15750573, 19395637), (877886035, 132646210), (132646210, 206743057), (132646210, 17773969), (471246665, 3314775459), (15750573, 84854764), (132646210, 375007888), (1183933523129970689, 132646210), (312121622, 132646210), (132646210, 317169230), (132646210, 822431809), (132646210, 580335026), (132646210, 96962998), (1530894998, 18932422), (830589635738816512, 1112711079552053250), (918158086858211329, 19659370), (179571184, 22812127), (19659370, 402875257), (132646210, 551776311), (2550133394, 132646210), (15750573, 705427898749079552), (3099020035, 132646210), (132646210, 54817041), (3036907250, 281448138), (132646210, 1168762828607508480), (2525616956, 15750573), (369085369, 15750573), (19659370, 27366114), (19659370, 1936953062), (15862919, 15750573), (122408887, 89489054), (15750573, 188723124), (888118103095115780, 53654934), (132646210, 16687314), (132646210, 115091858), (132646210, 125483940), (316386106, 15750573), (21192987, 132646210), (19659370, 529771925), (19659370, 14301911), (1148595838664552451, 132646210), (17730501, 132646210), (132646210, 940901351759994880), (15750573, 848152044137574401), (1409748306, 132646210), (19659370, 458079606), (18932422, 400831970), (829993981543084032, 179571184), (716947512154853376, 132646210), (3361359683, 19659370), (114407120, 19659370), (132646210, 240478658), (22048217, 2924886188), (132646210, 3375552377), (19659370, 709543955126333440), (15750573, 4385501957), (132646210, 2851178794), (132646210, 46932973), (85891683, 44196397), (132646210, 2515540081), (63801028, 18932422), (376725527, 132646210), (2924886188, 22048217), (132646210, 61143806), (26280712, 15750573), (9320372, 132646210), (803909558431313920, 19659370), (7170942, 132646210), (3036907250, 124087958), (2924886188, 2164350602), (1217315090, 132646210), (3036907250, 58160853), (393675585, 132646210), (2890969865, 132646210), (15750573, 1677808003), (2568478126, 18932422), (132646210, 313207740), (26976778, 19659370), (1643302016, 19659370), (193935341, 924822883800453120), (47456957, 132646210), (15750573, 58324434), (132646210, 1183933523129970689), (19659370, 43006345), (18932422, 107171037), (1708488139, 132646210), (19659370, 512594470), (19659370, 106023728), (2805421915, 132646210), (132646210, 114146587), (2244880545, 15750573), (94335911, 376297519), (181720081, 132646210), (944443345, 15750573), (15750573, 748179418397421568), (787735106546827265, 19659370), (132646210, 113125584), (771036399671705600, 132646210), (23999540, 132646210), (376297519, 94335911), (2239534928, 132646210), (70819203, 132646210), (19659370, 323616054), (3035143127, 18932422), (132646210, 810173876466515968), (132646210, 953752657), (2155233830, 132646210), (132646210, 15455450), (2190533245, 1571112116), (211457876, 19033910), (132646210, 918943909811769344), (181348220, 132646210), (15750573, 27007409), (719967950527205376, 19659370), (23818581, 3036907250), (15750573, 577430083), (132646210, 45598113), (132646210, 216016685), (388729560, 269301403), (810893744593584128, 132646210), (15750573, 896676717603028992), (18932422, 2816046521), (19659370, 966024156574662656), (73705954, 132646210), (19659370, 225110274), (193640022, 19659370), (132646210, 14697496), (20887537, 15750573), (132646210, 2869101210), (792460428005605376, 132646210), (30030112, 15750573), (1490398796, 19659370), (388752038, 19659370), (19659370, 2842558252), (15750573, 73343), (132646210, 728354894), (1245923843119575041, 132646210), (16273541, 18932422), (325476794, 3036907250), (132646210, 1144823372158767104), (19659370, 41216797), (15750573, 196476038), (19659370, 1284042607), (1882331364, 211457876), (132646210, 2459299508), (631705640, 19659370), (400831970, 18932422), (132646210, 10313732), (360783415, 132646210), (1239750608, 469631198), (132646210, 289560192), (19659370, 2329921), (263044687, 19659370), (19659370, 3361359683), (19659370, 1244079788), (388187461, 577243493), (197362628, 19659370), (112882940, 19659370), (103546343, 132646210), (132646210, 887627169765130241), (2390705126, 830589635738816512), (4863093417, 132646210), (18417153, 132646210), (1002096110, 19659370), (2190533245, 87889325), (19659370, 949493208702099456), (15750573, 540259669), (108989193, 132646210), (30755419, 3314775459), (791230655367700480, 15750573), (132646210, 3317549893), (3124307007, 68475307), (15750573, 104633187), (2381066016, 15750573), (132646210, 78269677), (3036907250, 2385273733), (132646210, 4398626122), (15750573, 904174368), (132646210, 103546343), (132646210, 777648349), (15750573, 406260699), (68475307, 992149651), (132646210, 1322931373), (2512767432, 68475307), (19659370, 157238371), (19659370, 2301908191), (269301403, 1142819859472048131), (19659370, 164233384), (19659370, 5894872), (58324434, 15750573), (916364161415892992, 87359651), (18932422, 248135933), (26240101, 132646210), (1070352023449669632, 132646210), (68084193, 132646210), (16067035, 181954043), (33838201, 132646210), (132646210, 123846556), (132646210, 562222972), (16736535, 44196397), (24160034, 15750573), (19659370, 157920406), (2394417954, 19659370), (15750573, 509162767), (132646210, 48677032), (15750573, 30030112), (64245814, 19659370), (500950174, 18932422), (15750573, 2881046435), (56318966, 132646210), (228313429, 19659370), (44196397, 85891683), (132646210, 955493794669121537), (15750573, 33677856), (1065937815022837760, 132646210), (400804254, 132646210), (30981656, 132646210), (824668943285702661, 3261620311), (19659370, 908589103737950208), (879077538525396992, 19659370), (327347231, 1412036527), (1605, 269301403), (19659370, 10587552), (852962413, 15750573), (850170113504325632, 132646210), (14947339, 3710428289), (15750573, 284858667), (19659370, 2312790332), (132646210, 1107588341124337666), (132646210, 240867778), (132646210, 21192987), (3036907250, 15378449), (16851370, 132646210), (132646210, 104211492), (15750573, 5894962), (132646210, 16946380), (19659370, 388752038), (15750573, 79764713), (132646210, 1301869598481014787), (91168371, 187655958), (951237270044069888, 3036907250), (2831695553, 19659370), (19659370, 248721193), (442077861, 376297519), (343928585, 19659370), (132646210, 70900164), (399935607, 15750573), (2713275441, 132646210), (7466492, 132646210), (132646210, 29735775), (132646210, 4228354103), (132646210, 2769983813), (132646210, 108989193), (1196347778525384705, 1140163756267192321), (1123336792021897216, 132646210), (718108213078568960, 3036907250), (1483247714, 17370058), (17076764, 18932422), (47602120, 132646210), (15750573, 838131126002728960), (3298523377, 132646210), (101045085, 132646210), (132646210, 312131328), (132646210, 917738789233217536), (19659370, 15336340), (1117836660, 916364161415892992), (19659370, 64732883), (18932422, 850107536), (132646210, 1067977726118682625), (307912317, 19659370), (91168371, 902940396849946625), (193935341, 23574715), (19659370, 109640788), (15750573, 920563781616496641), (19659370, 876083623711174657), (69218199, 132646210), (1546634102, 16868154), (132646210, 3317585532), (19659370, 581406453), (197957154, 16868154), (104633187, 15750573), (295344317, 132646210), (132646210, 2608840453), (896676717603028992, 15750573), (1301869598481014787, 132646210), (132646210, 14294701), (2382305514, 19659370), (197608061, 132646210), (197623145, 15750573), (19659370, 2310416978), (19659370, 33864359), (18932422, 108441778), (44196397, 4230101712), (124319949, 132646210), (132646210, 1108685535088771073), (19659370, 199597043), (234321271, 132646210), (15750573, 1269448278), (188029486, 132646210), (211457876, 273489885), (132646210, 75392682), (132646210, 400804254), (132646210, 29951831), (132646210, 1189744336415723520), (19659370, 770233588721868802), (8260242, 132646210), (33861957, 132646210), (19659370, 1898912480), (4829277184, 132646210), (608052226, 132646210), (132646210, 257544772), (19659370, 743856512), (14978945, 132646210), (132646210, 3364147025), (278359534, 132646210), (43652382, 132646210), (122408887, 53096678), (14947339, 327382506), (19659370, 16710690), (19659370, 489677804), (18238570, 15750573), (132646210, 250344120), (99015174, 132646210), (132646210, 1090911182591086592), (17855686, 19659370), (132646210, 3232640646), (403274895, 19659370), (15750573, 46508246), (1031837755234549760, 82312921), (1477918760, 781805906), (116655482, 17865904), (514667085, 132646210), (94732055, 132646210), (18932422, 26000689), (132646210, 125721127), (132646210, 220139885), (2734776646, 132646210), (2867784412, 132646210), (19659370, 361288906), (835810382509928450, 19659370), (1167604898, 132646210), (2343425496, 132646210), (3916694415, 549833457), (4794104842, 19659370), (49719781, 19659370), (16621479, 19659370), (19659370, 404100683), (18728897, 19659370), (15750573, 714365137365426176), (3036907250, 570072860), (830589635738816512, 2390705126), (829115622, 132646210), (48008938, 132646210), (4707064313, 15750573), (15750573, 174991185), (11773812, 132646210), (132646210, 872274950), (916364161415892992, 813286), (132646210, 1708488139), (106418930, 132646210), (435615524, 179571184), (636089336, 15750573), (253587073, 132646210), (132646210, 1535439446), (18932422, 75585288), (36024756, 17249208), (132646210, 633), (15750573, 1578022897), (2527017636, 19659370), (58160853, 3036907250), (47325650, 132646210), (4742002531, 19659370), (19659370, 50374439), (193935341, 356803122), (414130557, 19659370), (77987143, 211457876), (15750573, 26549850), (3036907250, 207450631), (3036907250, 31311757), (19659370, 10383162), (132646210, 33970089), (19659370, 801372548940398593), (132646210, 942684527754989568), (1253984770083692544, 132646210), (132646210, 838930153665363968), (1049203448783278080, 19659370), (796877583455555584, 19659370), (19659370, 840618056678293504), (132646210, 989428140433866752), (761262362900955137, 3314775459), (720212700, 132646210), (391247062, 132646210), (19888273, 19659370), (132646210, 151490538), (1094001009188397057, 1018200198886109185), (259906731, 19659370), (19659370, 1301154075434606598), (3261620311, 824668943285702661), (3036907250, 573918122), (15156540, 19659370), (2189994866, 132646210), (830589635738816512, 17292623), (487786548, 15750573), (2435317801, 19659370), (3036907250, 41667342), (132646210, 814980524200566784), (728354894, 132646210), (3036907250, 14199378), (19659370, 3158689771), (132646210, 858519894), (361719507, 19659370), (200630242, 19659370), (1064940934528421888, 132646210), (84653850, 132646210), (433873132, 132646210), (19659370, 605027292), (19659370, 9271782), (19659370, 330151669), (132646210, 1053292116), (19659370, 539296619), (19659370, 273003435), (1523858262, 15750573), (132646210, 419071399), (19659370, 2523642978), (3902819477, 132646210), (606667727, 19659370), (414292607, 916364161415892992), (2541189847, 755513278625898496), (116655482, 22354381), (132646210, 891193292385288193), (132646210, 40156543), (534255106, 19659370), (19659370, 23666107), (717348489215262724, 737700306637594624), (19659370, 27493489), (201194687, 132646210), (44196397, 49310901), (346742249, 15750573), (19659370, 2435317801), (2604894992, 132646210), (22994885, 132646210), (19659370, 2908007650), (132646210, 159342110), (15750573, 224466293), (20436576, 19659370), (132646210, 139377848), (64732883, 19659370), (132646210, 781751446362468353), (265422963, 19659370), (132646210, 214272214), (201275909, 1297532367591084033), (6763242, 18932422), (3270447613, 3277718617), (1035807940719112192, 15750573), (18932422, 2880905121), (19659370, 48448084), (132646210, 849902720827875330), (132646210, 19204539), (12486432, 15750573), (94642927, 19659370), (2898184305, 3036907250), (1005041152242970629, 1031837755234549760), (41828876, 132646210), (248916795, 15750573), (809848752, 132646210), (1212987379692081153, 132646210), (4718039356, 717381135077138434), (130671142, 132646210), (117652722, 15750573), (470416893, 19659370), (336557932, 717348489215262724), (905903265837182976, 91168371), (2203092098, 132646210), (20131383, 19659370), (743908703863083008, 132646210), (36024756, 950778219724230657), (2869101210, 132646210), (15750573, 123678691), (376297519, 210501383), (3036907250, 831114368435748864), (126062970, 132646210), (55419861, 122408887), (388144129, 132646210), (132646210, 338989477), (15750573, 2803495736), (174959656, 19659370), (90109488, 406303880), (132646210, 4194417913), (106791368, 14538236), (19659370, 264103867), (2190533245, 247660554), (132646210, 121709074), (19659370, 25864331), (1652541, 3036907250), (769113642, 577243493), (8746072, 19659370), (45389867, 18932422), (132646210, 61449317), (132646210, 2343425496), (827699070567280641, 3270447613), (953752657, 132646210), (1251034648492138498, 132646210), (402875257, 19659370), (132646210, 748176824), (132646210, 1017171853914333185), (84351228, 19659370), (247943231, 132646210), (18932422, 350152586), (132646210, 622716896), (37162329, 132646210), (132646210, 384127183), (5894872, 19659370), (115763683, 830589635738816512), (132646210, 34642043), (253734620, 132646210), (474233138, 15750573), (87985586, 132646210), (132646210, 1238826270), (19659370, 47562075), (132646210, 948669952843595776), (132646210, 824812182114164736), (15750573, 18238570), (132646210, 11069462), (15002894, 19659370), (258082407, 3314775459), (2676313880, 19659370), (19659370, 884180960), (101070604, 4928034543), (762093631, 132646210), (18932422, 6763242), (4196200462, 132646210), (44106240, 132646210), (3270447613, 41314338), (2190533245, 2334835022), (132646210, 4874161629), (69384456, 1483247714), (19659370, 476700973), (14359747, 15750573), (15750573, 52352322), (132646210, 337745478), (879014078932504577, 132646210), (22514268, 132646210), (14049302, 19659370), (1319272146963673089, 132646210), (1256240551118200835, 132646210), (132646210, 618551148), (2273201773, 132646210), (3036907250, 4645255754), (20058825, 19659370), (54163837, 132646210), (2512218333, 132646210), (14947339, 1230803040980082694), (569382995, 3036907250), (132646210, 2203092098), (19659370, 14369971), (1721425735, 132646210), (4652730673, 132646210), (117079124, 3036907250), (1344951, 19659370), (132646210, 1086604922), (15750573, 700064764), (3036907250, 972651), (1108108225, 132646210), (132646210, 435462176), (166978636, 341000847), (2236856634, 19659370), (635986661, 132646210), (13284672, 19659370), (189495871, 18932422), (931630470399451139, 27018274), (19659370, 36588310), (132646210, 704185699415695360), (376297519, 22949587), (132646210, 190821474), (132646210, 11669522), (15750573, 150732625), (19659370, 73001375), (132646210, 195658424), (3036907250, 2979365176), (132646210, 17018894), (132646210, 38048603), (17043428, 3036907250), (19659370, 95196023), (69870134, 19659370), (132646210, 951844723), (876785354, 132646210), (15750573, 483172916), (2816046521, 18932422), (78807415, 19659370), (103989154, 830589635738816512), (19659370, 2903217440), (438301250, 132646210), (132646210, 36927290), (1325403832575266816, 16868154), (132646210, 352248891), (132646210, 72386774), (252988497, 19659370), (16549460, 132646210), (15750573, 943676329), (984275749824638976, 132646210), (317169230, 132646210), (15750573, 354847710), (15750573, 780788089966829568), (1158718834322395137, 201275909), (19659370, 15192127), (184125091, 3036907250), (19659370, 10752242), (88727377, 132646210), (132646210, 90626911), (803003521, 15750573), (8143682, 132646210), (2577967370, 19659370), (832267168276475904, 132646210), (15750573, 857570979022876672), (3036907250, 718108213078568960), (317158835, 19659370), (132646210, 68084193), (101711550, 1284213415410651136), (19659370, 1057715900), (132646210, 1598324696), (19659370, 2492618120), (856684314, 132646210), (34227622, 18932422), (132646210, 3033312071), (221460294, 19659370), (132646210, 78969930), (15750573, 370102769), (15750573, 20605844), (132646210, 22132438), (450842550, 19659370), (132646210, 3298523377), (44953355, 19659370), (3083042302, 3036907250), (15750573, 58558979), (17773969, 132646210), (19659370, 915721853833900032), (102609059, 15750573), (48448084, 19659370), (19659370, 139811295), (1000886101, 201275909), (3036907250, 108434901), (984363152958685184, 132646210), (740410382, 18932422), (19659370, 1643302016), (3314775459, 30755419), (494181406, 132646210), (313140358, 19659370), (571202103, 3036907250), (15750573, 1118909833942577153), (132646210, 2245759994), (343998886, 15750573), (1468634743, 132646210), (15750573, 398537509), (132646210, 384747822), (132646210, 700999301514686464), (179571184, 82388703), (748525684578914304, 132646210), (132646210, 76679840), (132646210, 89774258), (19659370, 3841067114), (2383802810, 132646210), (19659370, 2706892358), (132646210, 194324277), (549833457, 476582730), (1653261366, 15750573), (40903402, 15750573), (19659370, 787735106546827265), (21324520, 19659370), (132646210, 589300441), (384747822, 132646210), (132646210, 94732055), (3036907250, 3511430425), (341000847, 65591085), (234017215, 132646210), (248792951, 824668943285702661), (132646210, 93873778), (128232442, 3411494596), (45303184, 19659370), (19058451, 19659370), (19659370, 3620548396), (132646210, 1111730640762875907), (19659370, 3415205164), (132646210, 1120424520773505028), (925565433679298560, 132646210), (249661913, 132646210), (281945877, 132646210), (1441677282, 132646210), (15750573, 3030560968), (3147145875, 2345372593), (132646210, 1255799724), (132646210, 891731882), (132646210, 442245081), (132646210, 26092949), (19659370, 91523851), (42614814, 15750573), (19659370, 321908821), (19659370, 16044272), (132646210, 281945877), (188756842, 19659370), (14667411, 132646210), (14616323, 755513278625898496), (132646210, 623575404), (15750573, 563979425), (132646210, 832267168276475904), (132646210, 346400805), (1153956919, 19659370), (1007669261261778944, 4928034543), (1483247714, 2894489961), (800707492346925056, 19659370), (131947210, 132646210), (4831430475, 19659370), (18932422, 172260408), (132646210, 106418930), (20644989, 132646210), (80446199, 132646210), (19659370, 3439304543), (132646210, 234017215), (3036907250, 1367458171), (15750573, 59414975), (15750573, 944443345), (18932422, 533149076), (15750573, 256353770), (14488805, 18932422), (7170002, 15750573), (2249121151, 19659370), (24897144, 132646210), (19659370, 507704346), (847472324324413440, 4718039356), (43006345, 19659370), (4928034543, 59490048), (19659370, 3120886937), (1562578862, 132646210), (823957466, 132646210), (14784786, 132646210), (15750573, 43961874), (132646210, 50257296), (132646210, 257691637), (19659370, 1640671358), (469405173, 19659370), (17657107, 132646210), (752743856941125632, 15750573), (2322897703, 122408887), (419946721, 15750573), (949493208702099456, 19659370), (2572511777, 15750573), (27018274, 14468951), (746052642925740033, 132646210), (2893424886, 132646210), (15750573, 47567281), (132646210, 131947210), (3036907250, 13056322), (132646210, 9320372), (3242397351, 15750573), (132646210, 87476034), (132646210, 838701223113068544), (156322219, 132646210), (15750573, 12486432), (3037264899, 3036907250), (15750573, 26212951), (132646210, 109399833), (75585288, 18932422), (15750573, 731124359117590528), (1460313109, 1412036527), (19659370, 465693357), (132646210, 49977240), (15750573, 36094947), (19659370, 1376639125), (70266297, 18932422), (17554109, 18932422), (19081001, 15750573), (15750573, 2987533553), (19659370, 1490398796), (134061959, 19659370), (132646210, 58880930), (465693357, 19659370), (375829381, 1140163756267192321), (90626911, 132646210), (132646210, 635986661), (12160482, 132646210), (132646210, 4694535756), (23574715, 193935341), (15750573, 147299961), (132646210, 751506263792582656), (1246421, 19659370), (19659370, 26014256), (15750573, 859698369765179392), (19659370, 253609062), (19659370, 4827366892), (2457267950, 18932422), (1562518867, 19659370), (132646210, 2189885600), (950072183031771136, 132646210), (717348489215262724, 215622410), (19659370, 700831074), (420368902, 17922590), (15750573, 63051202), (13235832, 19659370), (4854858064, 15750573), (15750573, 898161154169679873), (59414975, 15750573), (19659370, 252411935), (29866761, 3036907250), (132646210, 774076183461892096), (4385501957, 15750573), (1492787690, 928760788306878464), (920382882413244417, 19659370), (132646210, 43652382), (1078117895207563264, 3147145875), (341258707, 15750573), (132646210, 406932163), (19659370, 709828900), (551653007, 15750573), (555461978, 15750573), (4702018489, 132646210), (897923075060006912, 308456550), (179571184, 1281284403864403970), (237738266, 18932422), (367840245, 37105355), (132646210, 1167604898), (39781270, 15750573), (308578864, 132646210), (2097571, 3036907250), (14538236, 149155812), (29716049, 15750573), (132646210, 4712272236), (1227698863, 19659370), (512594470, 19659370), (583637312, 19659370), (997784960, 132646210), (1296322367053082624, 19659370), (15750573, 34690221), (132646210, 25268217), (132646210, 274134534), (32799259, 27018274), (19073790, 19659370), (197481317, 19659370), (132646210, 899783769854320640), (132646210, 327301533), (132646210, 6015842), (132646210, 6355402), (1046614848, 132646210), (824249522389970944, 15750573), (132646210, 2373145729), (65915718, 132646210), (15750573, 1877046548), (48354997, 19659370), (15090415, 19659370), (151581782, 15750573), (39889364, 15750573), (486530534, 916364161415892992), (53654934, 4755350878), (132646210, 18417153), (19659370, 3008322017), (36659063, 132646210), (14947339, 1279678049458499584), (215622410, 717348489215262724), (700064764, 15750573), (132646210, 828625466), (15750573, 54541583), (28316908, 15750573), (19659370, 431210487), (1019221160742014976, 132646210), (49911968, 132646210), (19659370, 46350079), (19659370, 228313429), (55612967, 15750573), (19659370, 59481357), (132646210, 1253984770083692544), (569790116, 18932422), (2341772972, 132646210), (132646210, 70819203), (1114432920121376768, 132646210), (4928034543, 952300568961220609), (1141689200099639296, 16868154), (132646210, 1127358323051749378), (398092540, 19659370), (4718039356, 320170952), (1067977726118682625, 132646210), (201275909, 2494919384), (132646210, 2303160649), (19659370, 361719507), (16423883, 132646210), (2918846960, 19659370), (8139122, 19659370), (15750573, 822933216206188544), (483172916, 15750573), (15750573, 42909798), (16868154, 1260526934678740993), (3892710581, 132646210), (352248891, 132646210), (551951577, 132646210), (830589635738816512, 115763683), (67815277, 19659370), (19659370, 477030336), (17503180, 132646210), (945103495748882432, 469631198), (826837132325027841, 19659370), (19659370, 826837132325027841), (45827605, 19659370), (2865520015, 4718039356), (19659370, 203250712), (495517322, 14538236), (431764698, 19659370), (132646210, 2155233830), (544737616, 132646210), (3036907250, 3240349167), (13568892, 132646210), (822431809, 132646210), (47567281, 15750573), (18932422, 2457267950), (406303880, 178502172), (132646210, 743340014214352896), (213831533, 549833457), (824668943285702661, 456156498), (18932422, 14162048), (15750573, 1351611290), (37105355, 180092401), (132646210, 88727377), (15750573, 540985738), (81143606, 824668943285702661), (47978543, 132646210), (132646210, 106856453), (515192228, 132646210), (16710690, 19659370), (19659370, 2549047974), (1224549145865859072, 755513278625898496), (15750573, 1935675295), (3036907250, 1652541), (111373125, 132646210), (15750573, 44595708), (1580058000, 19659370), (1232460508160094209, 132646210), (125792630, 132646210), (19659370, 1408239470), (132646210, 327066310), (132646210, 998279534947586048), (1015069938472501249, 1094001009188397057), (87476034, 132646210), (15581480, 132646210), (9910992, 18932422), (2328843320, 15750573), (1162690737516863494, 19659370), (18932422, 481094172), (724150434567446529, 27018274), (19659370, 153004670), (232832623, 2190533245), (132646210, 48062712), (118748199, 19659370), (15750573, 485018563), (3051698888, 3036907250), (132646210, 760799156256382976), (304540433, 15750573), (19659370, 35749835), (132646210, 109598348), (1728885823, 15750573), (15750573, 26280712), (15750573, 579842788), (15750573, 248916795), (36094947, 15750573), (1251232344947613701, 132646210), (132646210, 443602279), (132646210, 804683646), (211457876, 374400342), (476700973, 19659370), (19659370, 1068486102930112514), (132646210, 43973475), (772871943577931776, 15750573), (132646210, 2575365842), (18932422, 49945724), (3270447613, 1467961898), (132646210, 905687730843037696), (19659370, 82337208), (132646210, 7170942), (132646210, 95630269), (1319307998, 3270447613), (2966094221, 19659370), (19659370, 15739506), (132646210, 1929876336), (132646210, 256879792), (53079180, 19659370), (24528242, 181954043), (1206594224537448449, 19659370), (19659370, 15002894), (391015835, 15750573), (18932422, 15089078), (132646210, 21003382), (68475307, 404388434), (833597084167122945, 19659370), (301941645, 3036907250), (132646210, 373951619), (3036907250, 119711344), (25624456, 132646210), (402143587, 132646210), (1197369638, 19659370), (422016668, 132646210), (193935341, 846563012634787841), (132646210, 1471694196), (19659370, 110420616), (696907754275930112, 3036907250), (132646210, 2371689380), (132646210, 68443905), (416476798, 376297519), (3036907250, 911963260005552128), (132646210, 19626509), (132646210, 1116622891), (104435358, 132646210), (19659370, 30420908), (1357389505, 132646210), (1121934716, 19659370), (16319888, 116655482), (3036907250, 15521075), (132646210, 1557796237), (828489290, 18932422), (132646210, 802182440), (3036907250, 2827812417), (132646210, 2986013849), (53250831, 132646210), (1251073078211178496, 132646210), (290705256, 132646210), (132646210, 3946229836), (132646210, 2821170946), (132646210, 994300581291282432), (132646210, 56741675), (709402060547092481, 19659370), (87889325, 2190533245), (42909798, 15750573), (229601276, 132646210), (4027105402, 132646210), (3375552377, 132646210), (373580725, 19659370), (412155441, 132646210), (830589635738816512, 92116069), (982276165992935426, 19659370), (46922123, 132646210), (19659370, 57246759), (132646210, 1255539999467958272), (132646210, 1015930135), (3277718617, 3270447613), (19659370, 44953355), (18932422, 39048846), (15750573, 1320653768346816512), (132646210, 193309907), (19659370, 298982411), (132646210, 1229540217595387904), (717381135077138434, 4718039356), (19540483, 18932422), (735447938214678529, 132646210), (15739506, 19659370), (4928034543, 3065599859), (19659370, 193640022), (507185539, 132646210), (1477918760, 964072678020837377), (838701223113068544, 132646210), (854719703545253888, 3036907250), (132646210, 360783415), (1237393394, 132646210), (19659370, 219293337), (2908007650, 19659370), (19659370, 14895163), (132646210, 3305766383), (2190753169, 19659370), (132646210, 14417382), (15225375, 19659370), (1106015165969924096, 19659370), (132646210, 130256377), (83566575, 15750573), (39721490, 15750573), (1031837755234549760, 65494780), (132646210, 2968801294), (38190507, 15750573), (3310895591, 132646210), (3201975988, 3036907250), (19659370, 9541832), (132646210, 17657107), (220145170, 132646210), (352053266, 132646210), (24932781, 15750573), (132646210, 1468634743), (19659370, 854581958), (132646210, 54163837), (828683626372009985, 15750573), (19659370, 2752564758), (132646210, 544875915), (19659370, 59780450), (3036907250, 4663308149), (852054291049316352, 15750573), (2492618120, 19659370), (18115497, 18932422), (19659370, 725387616), (132646210, 876785354), (50414506, 3036907250), (19659370, 2228576226), (101818541, 132646210), (742643587108605952, 132646210), (899783769854320640, 132646210), (15750573, 246318475), (839446682819563520, 15750573), (2354542969, 132646210), (216744325, 15750573), (132646210, 828064288417779712), (113339417, 132646210), (76937615, 132646210), (308799838, 132646210), (1259983955408744449, 132646210), (14707794, 19659370), (739854925560156160, 132646210), (15750573, 1605423500), (19659370, 17705769), (132646210, 220378862), (19659370, 1734575215), (132646210, 1546005282), (1094001009188397057, 2790017707), (299394773, 19659370), (132646210, 14657345), (132646210, 118263124), (15750573, 26329801), (19659370, 431764698), (220139885, 132646210), (19659370, 722155990662123520), (132646210, 765548), (46932973, 132646210), (2924886188, 534107522), (2388819163, 15750573), (19659370, 19690273), (899166691652972544, 15750573), (19659370, 534290225), (3036907250, 701026341500690432), (346400805, 132646210), (15750573, 809193212), (945020688, 15750573), (132646210, 4157611), (2522143308, 132646210), (770233588721868802, 19659370), (66821479, 15750573), (179571184, 435615524), (91688695, 91168371), (19659370, 287275780), (15468474, 18932422), (15750573, 334516778), (3036907250, 894723591446687745), (63859619, 19659370), (781805906, 1477918760), (3036907250, 1350732349), (19659370, 734735999029383168), (1497795582, 15750573), (132646210, 9719522), (132646210, 5108051), (19659370, 14049302), (14538236, 1325376128752771073), (1038834447540531202, 132646210), (804563319457660928, 19659370), (19659370, 14048484), (3395161438, 132646210), (132646210, 911514942335012864), (224379103, 19659370), (37105355, 20433031), (829881163472916481, 132646210), (327122348, 132646210), (18932422, 8123222), (3943475233, 132646210), (21003382, 132646210), (15750573, 19081001), (3147145875, 2240601558), (132646210, 1044869316288696320), (3036907250, 11348282), (748315519674048512, 19659370), (4893681, 549833457), (186764685, 19659370), (110420616, 19659370), (452909538, 18932422), (313207740, 132646210), (577243493, 500704345), (961561664222097408, 717348489215262724), (4484681, 19659370), (15750573, 5869132), (132646210, 1442906958), (19659370, 944905694), (947311503216066560, 132646210), (4712272236, 132646210), (3036907250, 5893702), (3018358499, 19659370), (3036907250, 3081160595), (15333148, 19659370), (132646210, 2336440088), (132646210, 39697728), (63051202, 15750573), (16867526, 18932422), (70380871, 755513278625898496), (132646210, 295344317), (15750573, 852054291049316352), (977585064, 19659370), (848268354980892672, 386277982), (19659370, 134072288), (132646210, 24897144), (4770618972, 132646210), (313348339, 132646210), (19659370, 3234931837), (2645602164, 3036907250), (15056816, 19659370), (2607919231, 15750573), (15750573, 1728885823), (132646210, 831393481465556992), (3036907250, 343587148), (17268402, 132646210), (846563012634787841, 193935341), (637087464, 19659370), (103835763, 132646210), (801934486023782400, 19659370), (19659370, 1076178992036790272), (15750573, 903217429555359744), (15750573, 3197088767), (19659370, 39237580), (19659370, 758175168), (1546005282, 132646210), (1009126632450351104, 1031837755234549760), (119512412, 132646210), (3234931837, 19659370), (180637280, 116655482), (132646210, 998681467696885761), (19659370, 163363440), (36024756, 290560515), (19659370, 568542838), (308456550, 14763477), (19659370, 2922679556), (710755931227824128, 132646210), (934087003, 132646210), (206292087, 132646210), (16136933, 132646210), (514189512, 132646210), (132646210, 224209816), (16134540, 19659370), (14575354, 19659370), (132646210, 16249403), (19659370, 977250301), (18932422, 106064139), (132646210, 906922846412267521), (1708743114, 19659370), (1190461842922995712, 19659370), (1865461842, 19659370), (327032058, 19659370), (3005431923, 19659370), (132646210, 1011316249274540033), (2251030016, 132646210), (19659370, 2409117643), (15750573, 4739335047), (3513474256, 18932422), (3221752726, 132646210), (15750573, 333410580), (132646210, 409890910), (2289023460, 132646210), (18932422, 237738266), (19659370, 3442793834), (132646210, 755397390), (19659370, 793688995918024704), (132646210, 1046614848), (19659370, 155505157), (132646210, 1143038206335737856), (50706020, 132646210), (18932422, 1304717864), (2444229696, 19659370), (3207393315, 19659370), (15750573, 14957053), (2322434384, 19659370), (132646210, 312809493), (132646210, 17278474), (190006526, 132646210), (277516046, 132646210), (19659370, 815628453613621248), (2303160649, 132646210), (3386560983, 3270447613), (3036907250, 954235769618538496), (33474334, 132646210), (6457212, 916364161415892992), (132646210, 1339637532), (19659370, 3130629970), (132646210, 1038834447540531202), (605027292, 19659370), (19659370, 1230692054092529664), (2880905121, 18932422), (132646210, 1101500498564313090), (183575679, 19659370), (1471694196, 132646210), (720389270335135745, 132646210), (132646210, 923649456981135367), (231722071, 132646210), (132646210, 1102341617371963392), (1853174220, 19659370), (182273161, 14947339), (19710651, 15750573), (84404991, 132646210), (49977240, 132646210), (707112185076391936, 3036907250), (381187236, 3036907250), (132646210, 1173370158), (1412036527, 56077211), (624208322, 15750573), (2613410444, 132646210), (19659370, 924426975330160641), (540259669, 15750573), (26711278, 132646210), (15750573, 33168385), (132646210, 610026759), (2752564758, 19659370), (180463340, 3036907250), (3036907250, 951237270044069888), (132646210, 33505544), (3030560968, 15750573), (132646210, 2386023224), (16579738, 19659370), (132646210, 104435358), (337745478, 132646210), (273489885, 211457876), (132646210, 3102522680), (3036907250, 154221292), (132646210, 199298537), (3160109092, 132646210), (15045590, 132646210), (132646210, 65605637), (3036907250, 2444133930), (1412036527, 39748571), (769823624308092928, 132646210), (15750573, 73909361), (1228678952, 132646210), (964589615230337024, 132646210), (1425336134, 19659370), (132646210, 1017373138500378624), (121881387, 19659370), (2520999920, 19659370), (1629889939, 15750573), (2850524162, 1477918760), (132646210, 1280838371682779136), (135305838, 2924886188), (19659370, 259906731), (114738098, 19659370), (15750573, 37048037), (1094001009188397057, 2894562264), (341000847, 726686304), (701882787821973506, 53654934), (132646210, 20640711), (866900373302378503, 15750573), (3041372326, 132646210), (19659370, 989251872107085824), (132646210, 71167669), (19659370, 373974821), (19659370, 4786709654), (860098587287588864, 15750573), (37788263, 19659370), (1168865024674357248, 132646210), (132646210, 188221066), (19659370, 18728897), (19659370, 101764664), (350164545, 19659370), (132646210, 16851370), (132646210, 382393), (82774113, 132646210), (132646210, 2893424886), (50095170, 19659370), (18506971, 132646210), (1310568144742895619, 132646210), (3314775459, 1009310504), (211457876, 77987143), (22354381, 116655482), (132646210, 146734981), (1138704090106646528, 19659370), (2417892751, 3036907250), (2269512362, 132646210), (19659370, 17015268), (2881046435, 15750573), (38140504, 132646210), (19659370, 8220532), (16042588, 19659370), (50269516, 132646210), (25086234, 27018274), (916364161415892992, 414292607), (18932422, 63801028), (2932027868, 19659370), (216016685, 132646210), (955910820642344960, 269301403), (132646210, 84560252), (343587148, 3036907250), (4718039356, 847472324324413440), (63935826, 19659370), (219293337, 19659370), (19659370, 817382), (2842839092, 19659370), (19659370, 158659687), (15750573, 1064203950717583360), (55517828, 132646210), (132646210, 69218199), (18932422, 203070657), (1079750954868588545, 16868154), (975115762712096768, 132646210), (585390634, 19659370), (174991185, 15750573), (19659370, 1962172172), (12243, 15750573), (393652166, 132646210), (253609062, 19659370), (132646210, 21573326), (19659370, 3279064394), (15750573, 934228950), (739565869433524225, 15750573), (2346714074, 18932422), (15750573, 14583400), (132646210, 206292087), (844218954088435712, 15750573), (4718039356, 480575573), (132646210, 1228678952), (17922590, 2899907903), (15750573, 14183423), (19659370, 14341416), (19659370, 43583452), (19659370, 174959656), (2872651869, 15750573), (2424287186, 3036907250), (132646210, 49287656), (15750573, 2754412213), (911454651417088000, 19659370), (14820511, 386277982), (1057715900, 19659370), (132646210, 55517828), (2983902143, 132646210), (66815732, 15750573), (308456550, 1579778748), (807261497500069888, 132646210), (3319270312, 15750573), (18932422, 216703645), (9316452, 132646210), (364593753, 132646210), (778982023415291904, 132646210), (849902720827875330, 132646210), (132646210, 3246646347), (15750573, 17917382), (3036907250, 80422885), (19659370, 51934480), (17118060, 132646210), (436038865, 15750573), (132646210, 25624456), (755513278625898496, 1320785984816963585), (15750573, 1095972841), (1039070536184213506, 193935341), (1579422614, 3036907250), (15750573, 1934192923), (66722583, 132646210), (18932422, 950377242483343360), (26549850, 15750573), (577243493, 585988043), (386277982, 470847338), (15750573, 945020688), (392248167, 132646210), (19659370, 2427769760), (1076178992036790272, 19659370), (18384521, 132646210), (15750573, 1523858262), (16868154, 1325403832575266816), (881840360997232640, 2924886188), (132646210, 431192409), (1194928712187289601, 179571184), (1182908622113660929, 132646210), (19659370, 15573348), (2798157850, 3036907250), (14697496, 132646210), (790469455444836352, 4718039356), (984208484328763395, 132646210), (14369971, 19659370), (717348489215262724, 92344379), (19659370, 45099415), (15750573, 2895307672), (132646210, 82774113), (19659370, 390324658), (1253272850691129347, 469631198), (702883523221446656, 341000847), (179571184, 1313471202732769283), (19659370, 4898086443), (18874262, 132646210), (2995188801, 132646210), (534107522, 2924886188), (271310204, 15750573), (801059640951836672, 132646210), (312783905, 19659370), (3036907250, 3697013177), (132646210, 16514335), (9632312, 132646210), (15750573, 702513144782950400), (132646210, 23761309), (3036907250, 275686563), (59208209, 18932422), (3341697257, 132646210), (137394430, 19659370), (19659370, 835810382509928450), (911963260005552128, 3036907250), (132646210, 784083274805248000), (15750573, 16136478), (16136478, 15750573), (70900164, 132646210), (132646210, 1019221160742014976), (20581429, 3036907250), (702309206, 132646210), (804683646, 132646210), (194399316, 19659370), (758771866500816896, 132646210), (618551148, 132646210), (3314775459, 15519766), (132646210, 59504716), (132646210, 713164296604090368), (289284899, 1194745704), (17600799, 19659370), (18932422, 88673826), (132646210, 87242603), (132646210, 3270678680), (124087958, 3036907250), (1085427626716491776, 916364161415892992), (126132953, 132646210), (36588310, 19659370), (19659370, 61302699), (1045554831530889216, 1094001009188397057), (1567085737, 132646210), (6015842, 132646210), (2814432614, 19659370), (3077144869, 132646210), (468825579, 19659370), (85307840, 132646210), (1991321, 132646210), (132646210, 2239194271), (132646210, 41259586), (132646210, 16279554), (19659370, 2399290873), (2411276060, 19659370), (285021127, 14947339), (3036907250, 829903626), (19659141, 19659370), (2847332414, 132646210), (3230093066, 132646210), (132646210, 204297410), (948483885209477121, 15750573), (356775978, 132646210), (15750573, 713395522095210496), (15750573, 271310204), (544875915, 132646210), (78269397, 132646210), (91333167, 18932422), (14657345, 132646210), (1855871, 19659370), (3079899620, 19659370), (2575365842, 132646210), (16079826, 15750573), (132646210, 91367103), (297884272, 53654934), (19659370, 1138704090106646528), (253046215, 15750573), (19659370, 1189525564715089920), (1024391197, 44196397), (19659370, 939946139029090304), (15750573, 220017829), (223827175, 68475307), (19659370, 4208606734), (19659370, 17395999), (220017829, 15750573), (132646210, 84404991), (45794386, 132646210), (184817606, 15750573), (1190521464815902720, 16868154), (132646210, 846672306378326016), (4718039356, 735818445749690368), (889657085868298240, 132646210), (467551928, 132646210), (3620548396, 19659370), (18932422, 2988561009), (132646210, 466894113), (44217911, 132646210), (132646210, 3988959013), (1140163756267192321, 992149270399725568), (19659370, 28165790), (710583925, 1477918760), (807251568961744896, 132646210), (15750573, 12243), (944905694, 19659370), (19659370, 2178067878), (132646210, 833624768800817152), (49438224, 19659370), (15750573, 358026989), (3248357604, 132646210), (132646210, 1217315090), (132646210, 18318677), (18033313, 132646210), (17249208, 36024756), (132646210, 73719913), (17015268, 19659370), (854581958, 19659370), (19659370, 153327232), (28245224, 19659370), (19659370, 15156540), (44869056, 122408887), (3946229836, 132646210), (15750573, 2797743527), (1377476875, 15750573), (720750427147341824, 15750573), (132646210, 15581480), (15750573, 40380303), (132646210, 1028693496), (20167623, 132646210), (19659370, 2832694608), (19659370, 1121934716), (3036907250, 4053818032), (15750573, 65468350), (359831209, 19659370), (132646210, 1251059396991311872), (330151669, 19659370), (15492359, 3036907250), (44871098, 132646210), (742853712821903360, 289284899), (3236533841, 18932422), (793688995918024704, 19659370), (15750573, 253046215), (224466293, 15750573), (21769127, 3036907250), (419395379, 132646210), (3036907250, 337886919), (40389352, 132646210), (596203049, 132646210), (19659370, 398092540), (132646210, 144779689), (178502172, 406303880), (1477918760, 392531560), (132646210, 9430302), (132646210, 412270831), (25037133, 132646210), (3036907250, 3026571023), (15750573, 844218954088435712), (264103867, 19659370), (101013918, 132646210), (15750573, 1904734980), (134072288, 19659370), (68475307, 832162842), (19659370, 1197369638), (549833457, 4893681), (2560958309, 15750573), (17395999, 19659370), (15750573, 348506984), (2899907903, 17922590), (15750573, 15862919), (18932422, 361281600), (1483247714, 293176269), (19659370, 2411276060), (188644374, 1412036527), (19659370, 5848122), (19659370, 37715152), (15750573, 436038865), (132646210, 1121364987178618880), (132646210, 12755532), (1077633912, 132646210), (484733763, 1477918760), (333597222, 132646210), (19659370, 939091), (53654934, 25058013), (60832858, 132646210), (132646210, 139355216), (19659370, 263483174), (132646210, 735447938214678529), (132646210, 778982023415291904), (132646210, 856509174473248768), (132646210, 1055893919597133824), (551776311, 132646210), (1284176128534409216, 406303880), (132646210, 896036165350019073), (132646210, 209100025), (1222193343737794560, 19659370), (14947339, 498895063), (15166546, 132646210), (293483941, 15750573), (577243493, 1186828039), (3036907250, 1636590253), (15750573, 3751854082), (15750573, 66821479), (3036907250, 1603439773), (19395637, 15750573), (49976458, 19659370), (132646210, 27224166), (117553058, 181954043), (3085799703, 18932422), (132646210, 190754693), (3036907250, 696907754275930112), (132646210, 2983902143), (132646210, 801059640951836672), (18932422, 34743251), (132646210, 82364810), (27818124, 19659370), (1401748656, 15750573), (27018274, 996566689037795328), (3036907250, 301941645), (271370579, 132646210), (132646210, 1553685114), (3314775459, 598112617), (15750573, 2388819163), (15750573, 121492869), (207450631, 3036907250), (2336440088, 132646210), (132646210, 871920132641173504), (3036907250, 263265080), (917738789233217536, 132646210), (18932422, 2587811778), (132646210, 27375578), (132646210, 19677430), (18464317, 132646210), (299659731, 15750573), (3036907250, 408717162), (19659370, 1111871), (132646210, 18464317), (726686304, 341000847), (19659370, 14575354), (29639366, 132646210), (27224166, 132646210), (132646210, 29277960), (55247494, 19659370), (925220088, 15750573), (585988043, 577243493), (15750573, 46394850), (132646210, 392248167), (127489643, 18932422), (3512256616, 15750573), (19659370, 8034682), (404388434, 68475307), (132646210, 318093688), (132646210, 1909219404), (16948477, 132646210), (488417933, 19659370), (972987874613366784, 132646210), (2659265263, 3036907250), (15750573, 72018889), (179571184, 1194928712187289601), (19659370, 2230151202), (132646210, 710755931227824128), (18932422, 326912209), (19659370, 1148895885729947648), (132646210, 758771866500816896), (92344379, 717348489215262724), (45820175, 132646210), (132646210, 48457557), (175011974, 132646210), (132646210, 101013918), (132646210, 137745777), (82312921, 1031837755234549760), (132646210, 51215183), (132646210, 79067151), (2754814433, 15750573), (72781449, 132646210), (178976408, 132646210), (15750573, 85700509), (3482836634, 132646210), (830589635738816512, 103989154), (146116918, 15750573), (961808198, 132646210), (1222116778349821952, 36024756), (132646210, 10277212), (132646210, 879014078932504577), (322711407, 132646210), (109640788, 19659370), (146195370, 132646210), (2798093329, 68475307), (132646210, 966411199649808386), (132646210, 285332715), (275538478, 577243493), (132646210, 202740551), (268262631, 132646210), (132646210, 243082126), (24603962, 132646210), (132646210, 98966111), (1081289442671902720, 132646210), (736667972123512832, 132646210), (22812127, 179571184), (284858667, 15750573), (19659370, 4831430475), (998279534947586048, 132646210), (3235806942, 132646210), (386277982, 848268354980892672), (2910644884, 19659370), (18932422, 146159328), (19659370, 5921452), (15750573, 452570555), (605012771, 132646210), (3036907250, 117079124), (2399290873, 19659370), (199175962, 19659370), (132646210, 303048766), (19659370, 312783905), (1483247714, 905698976), (3091376321, 132646210), (132646210, 52869134), (40030538, 132646210), (132646210, 1149491203), (787338664477134848, 15750573), (1321141181846355971, 824668943285702661), (455428885, 132646210), (9719522, 132646210), (915167646240325632, 132646210), (66369383, 18932422), (2986305078, 132646210), (19659370, 159421391), (2538081673, 19659370), (19659370, 1853174220), (2309104237, 132646210), (916364161415892992, 6457212), (386908329, 18932422), (4928034543, 866238336), (1303571503, 19659370), (132646210, 279084731), (132646210, 166499569), (132646210, 167169119), (10406562, 341000847), (132646210, 299807081), (3270678680, 132646210), (132646210, 984208484328763395), (18059898, 132646210), (132646210, 4702018489), (936713855878787074, 132646210), (290560515, 36024756), (891725802, 19659370), (3430164869, 289284899), (26607837, 19659370), (132646210, 1107254048896548864), (201275909, 27382834), (28312691, 132646210), (14538236, 254218142), (15750573, 3007913925), (132646210, 40389352), (354801923, 19659370), (856955544845811712, 19659370), (1014199723031449600, 19659370), (132646210, 877823703249068032), (15750573, 79128388), (122408887, 99750590), (19659370, 1187226845155999749), (132646210, 21457289), (30878713, 27018274), (3036907250, 910827588), (72018889, 15750573), (833967951447486465, 132646210), (15750573, 4707064313), (132646210, 2604894992), (15750573, 717756832240902144), (62952214, 15750573), (1280838371682779136, 132646210), (2258653962, 27018274), (702513144782950400, 15750573), (19659370, 1441673010), (132646210, 746052642925740033), (19659370, 377983647), (19659370, 47725447), (1095972841, 15750573), (132646210, 16948477), (2279201814, 132646210), (341000847, 10406562), (3036907250, 23818581), (848799224854609920, 132646210), (28401365, 19659370), (4874161629, 132646210), (132646210, 243479125), (111258447, 19659370), (19659370, 145637517), (19659370, 2166763549), (132646210, 2354542969), (6355402, 132646210), (93655722, 132646210), (19659370, 299394773), (1313471202732769283, 179571184), (19659370, 92593701), (2894489961, 1483247714), (3036907250, 73509664), (339654180, 19659370), (19659370, 2842839092), (2882916461, 469631198), (132646210, 1622761998), (19659370, 2895714597), (43961874, 15750573), (19659370, 1153956919), (15750573, 122127763), (132646210, 2165646554), (19659370, 16134540), (3036907250, 19722699), (122408887, 2660795953), (129746032, 19659370), (2190533245, 773146218), (722155990662123520, 19659370), (132646210, 45820175), (3074437553, 19659370), (176870844, 15750573), (43973475, 132646210), (19659370, 115494880), (7295362, 19659370), (108434901, 3036907250), (132646210, 305474242), (46496916, 132646210), (34999723, 19659370), (4347423515, 132646210), (15750573, 1023655925742268426), (2166763549, 19659370), (34641691, 376297519), (19659370, 1190461842922995712), (132646210, 99015174), (19659370, 1551361069), (16044272, 19659370), (132646210, 26711278), (15750573, 487786548), (10627282, 132646210), (15750573, 1401748656), (101711550, 148975904), (2981463028, 132646210), (243082126, 132646210), (132646210, 889657085868298240), (15750573, 720750427147341824), (19411223, 3036907250), (1313558347552096256, 16868154), (85700509, 15750573), (19659370, 553729228), (1110855455696314368, 132646210), (132646210, 25134469), (3147145875, 158663891), (15750573, 130667410), (112202046, 132646210), (3314775459, 891165276), (1412036527, 188644374), (19659370, 281950081), (132646210, 3732176255), (132646210, 606265290), (3036907250, 2877269332), (15750573, 377344523), (19659370, 2190753169), (19659370, 221620566), (3036907250, 22843337), (65423884, 15750573), (19659370, 13284672), (19659370, 1883425892), (132646210, 246713978), (132646210, 45675087), (19739240, 132646210), (178441882, 2924886188), (132646210, 2995188801), (3406278903, 132646210), (18932422, 849649723), (19659370, 17839109), (15750573, 37139722), (19659370, 4901700861), (132646210, 22514268), (19659370, 268025507), (3435577992, 19659370), (50956443, 15750573), (774076183461892096, 132646210), (1020383864, 116655482), (15750573, 897568340075479040), (132646210, 131498466), (4718039356, 2865520015), (40156543, 132646210), (132646210, 30339571), (132646210, 3780315496), (589300441, 132646210), (808051518242979841, 14947339), (1141316975324536832, 132646210), (44973000, 132646210), (33836629, 132646210), (287275780, 19659370), (2606773789, 19659370), (201275909, 972040446), (132646210, 419395379), (1314981763794468864, 3147145875), (43064490, 211457876), (261126954, 19659370), (32856732, 19659370), (15750573, 1620225060), (132646210, 1930184042), (45099415, 19659370), (15750573, 712614852263542784), (132646210, 1306824555420213249), (540985738, 15750573), (848687484, 132646210), (19659370, 512191023), (19659370, 14166306), (19659370, 19203768), (4485809179, 132646210), (3036907250, 2417892751), (3077138539, 3036907250), (18932422, 16689804), (595295193, 3147145875), (1077070220332740608, 19659370), (15750573, 1004615060), (19659370, 22398002), (787780218, 179571184), (19659370, 71905822), (15750573, 828683626372009985), (132646210, 3272004860), (2385273733, 3036907250), (15750573, 65423884), (774575, 19659370), (380426226, 132646210), (3305766383, 132646210), (776732741098467328, 3036907250), (783214, 132646210), (132646210, 333597222), (132646210, 984135577208373249), (10383162, 19659370), (132646210, 12160482), (19659370, 716643191072628736), (266717381, 19659370), (15750573, 73926321), (1144823372158767104, 132646210), (717348489215262724, 4037107874), (132646210, 4897300665), (2334835022, 2190533245), (132646210, 16423883), (19659370, 63735508), (17370058, 1483247714), (132646210, 27104786), (19659370, 19058451), (19659370, 47605273), (132646210, 17268402), (122408887, 44991940), (101764664, 19659370), (705504146808565760, 15750573), (132646210, 14553715), (933679231220850688, 19659370), (132646210, 46131106), (132646210, 1155634482629791746), (19659370, 1211825303388995584), (3036907250, 2208838112), (289284899, 742853712821903360), (14895163, 19659370), (740216334, 19659370), (461578921, 15750573), (132646210, 17157367), (132646210, 29959702), (871687740, 132646210), (13507112, 132646210), (19659370, 39112661), (132646210, 103810205), (2494919384, 201275909), (616564407, 15750573), (31107562, 36024756), (18202677, 132646210), (132646210, 2821616774), (25213966, 19659370), (19659370, 781332157), (57320656, 19659370), (132646210, 885944485615738881), (15750573, 616572834), (159421391, 19659370), (136088911, 132646210), (485447824, 132646210), (122408887, 55419861), (1004448369140551682, 19659370), (15750573, 566703294), (992149651, 68475307), (202740551, 132646210), (132646210, 804701761017671680), (132646210, 337797562), (132646210, 2842688136), (18932422, 48839631), (132646210, 887207711590559745), (3314775459, 761262362900955137), (18932422, 294599794), (1140577345973170177, 19659370), (14538236, 495517322), (132646210, 1562578862), (37105355, 132771664), (15750573, 533315563), (16868154, 1313558347552096256), (15750573, 1377476875), (19659370, 467004982), (3092629269, 3036907250), (117712651, 19659370), (132646210, 22749856), (15750573, 3892691301), (132646210, 792460428005605376), (3036907250, 2798157850), (67383602, 15750573), (15750573, 461578921), (18932422, 70266297), (22960511, 18932422), (132646210, 15068044), (780874432927719424, 15750573), (15750573, 2887723143), (4758119662, 469631198), (36049907, 15750573), (18932422, 386908329), (4718039356, 790469455444836352), (18932422, 405384428), (41098784, 18932422), (15068044, 132646210), (3513346942, 18932422), (132646210, 22129782), (2924886188, 135305838), (58558979, 15750573), (3243155048, 132646210), (1100520274200416256, 44196397), (4928034543, 101070604), (144779689, 132646210), (132646210, 483150865), (132646210, 567383651), (104211492, 132646210), (3036907250, 2347049341), (15750573, 2328843320), (19659370, 569203915), (15926727, 132646210), (1038481676, 3036907250), (3036907250, 325476794), (633, 132646210), (944810996, 19659370), (106856453, 132646210), (331076291, 132646210), (132646210, 126718539), (2427366498, 269301403), (2251623492, 3036907250), (1350732349, 3036907250), (1070321898951753728, 3036907250), (980046830, 132646210), (1195040516318093312, 132646210), (2494212979, 19659370), (3165380261, 15750573), (61187211, 15750573), (1234574559610834948, 1094001009188397057), (3036907250, 3051698888), (452570555, 15750573), (82095610, 19659370), (19659370, 852083180182147072), (59263220, 132646210), (127039292, 577243493), (132646210, 160246849), (132646210, 1379105228), (19659370, 117483950), (22597445, 132646210), (132646210, 562363), (19659370, 2966094221), (3314775459, 471246665), (2587163612, 19659370), (132646210, 20621579), (600067712, 19659370), (1254390807999787010, 3270447613), (19659370, 3018358499), (132646210, 60832858), (2165646554, 132646210), (18932422, 55044770), (19659370, 773280684173463552), (288995692, 19659370), (92071137, 132646210), (19659370, 512785206), (3036907250, 2360762586), (132646210, 467852343), (3003392104, 3036907250), (132646210, 544737616), (8220532, 19659370), (19659370, 1252063705), (15750573, 1497795582), (158789494, 132646210), (709191256392343552, 4718039356), (132646210, 14862794), (549833457, 213831533), (14957053, 15750573), (179571184, 829993981543084032), (132646210, 388144129), (59217922, 132646210), (193935341, 1039070536184213506), (14183423, 15750573), (15750573, 32246103), (26212951, 15750573), (132646210, 1171878193114025987), (132646210, 514189512), (204965245, 1477918760), (1035524448319885312, 132646210), (275686563, 3036907250), (132646210, 455428885), (1883425892, 19659370), (539946626, 132646210), (132646210, 20225119), (19659370, 1855871), (4460137405, 132646210), (19659370, 14254846), (161164522, 386277982), (19659370, 972984764), (132646210, 138840988), (2641476606, 19659370), (549833457, 507824939), (132646210, 747665252), (132646210, 1432662902), (1255799724, 132646210), (19659370, 13982132), (38048603, 132646210), (15750573, 520133735), (19659370, 1004448369140551682), (3988215194, 15750573), (132646210, 14794109), (19659370, 1562518867), (132646210, 297091554), (468827738, 1140163756267192321), (1243171978917416960, 755513278625898496), (846672306378326016, 132646210), (19659370, 843009630812995584), (41314338, 3270447613), (132646210, 1289974182755762176), (132646210, 37162329), (19659370, 63859619), (132646210, 84036295), (406303880, 301178769), (781751446362468353, 132646210), (16739331, 15750573), (132646210, 21308312), (716643191072628736, 19659370), (132646210, 479013038), (73001375, 19659370), (19659370, 40090727), (14763477, 308456550), (15750573, 1218287414965350401), (19659370, 3353136183), (156703987, 37105355), (1242262405, 17922590), (96962998, 132646210), (25073877, 376297519), (2455929786, 19659370), (57246759, 19659370), (3102522680, 132646210), (77469709, 1031837755234549760), (22952866, 132646210), (132646210, 771036399671705600), (19659370, 338526004), (132646210, 154138518), (132646210, 1175299088), (216939636, 132646210), (809193212, 15750573), (15750573, 796368494342316032), (790342394675888128, 15750573), (132646210, 201194687), (2372636521, 19659370), (10759032, 132646210), (591797093, 132646210), (132646210, 1168865024674357248), (132646210, 2786141198), (1617603914, 19659370), (132646210, 2492690671), (2982471489, 19659370), (1094001009188397057, 1234574559610834948), (14538236, 1265761679947771905), (132646210, 632815919), (900040284616114176, 132646210), (18932422, 17076764), (19659370, 32856732), (3036907250, 296459271), (132646210, 2427734180), (132646210, 36515907), (20621579, 132646210), (3025618094, 15750573), (2859456143, 132646210), (15750573, 65587580), (132646210, 238024065), (37139722, 15750573), (132646210, 2882893927), (335829830, 19659370), (923649456981135367, 132646210), (19659370, 45303184), (928760788306878464, 1492787690), (376297519, 442077861), (331080165, 549833457), (2842688136, 132646210), (132646210, 151208743), (26092949, 132646210), (123678691, 15750573), (12353582, 3036907250), (70422392, 18932422), (3036907250, 579133028), (19033910, 211457876), (19659370, 343928585), (118056286, 132646210), (19659370, 5763912), (15750573, 406869976), (93873778, 132646210), (132646210, 1517068255), (4025609913, 132646210), (132646210, 822405576504344576), (132646210, 1556357336), (19659370, 2891809527), (181954043, 24528242), (132646210, 2451712820), (19659370, 2974389209), (19659370, 879077538525396992), (396680992, 132646210), (132646210, 46922123), (2812873512, 19659370), (19203768, 19659370), (731124359117590528, 15750573), (132646210, 2895770934), (1477918760, 2850524162), (1379105228, 132646210), (890413838578966528, 132646210), (33677856, 15750573), (1231189221450403841, 289284899), (3036907250, 2271904531), (546315483, 15750573), (3036907250, 51023058), (3332231, 132646210), (464907377, 15750573), (949642445083459585, 132646210), (132646210, 376725527), (132646210, 1494913634), (18932422, 2354616571), (36024756, 1300410913896439811), (19659370, 21991908), (20605844, 15750573), (822933216206188544, 15750573), (24046380, 19659370), (25134469, 132646210), (19659370, 804563319457660928), (2962250933, 19659370), (132646210, 144947577), (19659370, 2288970024), (19659370, 1168), (1084900963306098689, 15750573), (950377242483343360, 18932422), (17922590, 311334706), (481094172, 18932422), (15750573, 15962096), (19659370, 415798356), (803451483966435328, 193935341), (132646210, 14978945), (15750573, 636089336), (19659370, 114738098), (132646210, 742643587108605952), (25481069, 132646210), (19659370, 82095610), (903217429555359744, 15750573), (1026754771087110144, 19659370), (15750573, 85428593), (132646210, 2575124365), (14553715, 132646210), (132646210, 119512412), (22843337, 3036907250), (19659370, 787149253302812672), (46224994, 53654934), (3065599859, 4928034543), (132646210, 1194379349803319298), (9180262, 132646210), (19659370, 302013973), (4890000754, 132646210), (485865743, 132646210), (969392138076041216, 132646210), (562439654, 3036907250), (2386351941, 36024756), (1371476814, 132646210), (18932422, 265509561), (47681517, 132646210), (132646210, 1214864022572425217), (27131901, 132646210), (54875928, 132646210), (158663891, 3147145875), (114870386, 3036907250), (1441673010, 19659370), (361281600, 18932422), (804701761017671680, 132646210), (1605423500, 15750573), (19659370, 1030464891830902784), (19659370, 2538081673), (1065173952664952837, 19659370), (18932422, 260768625), (1033944831918104576, 132646210), (373974821, 19659370), (3036907250, 87818409), (68701660, 132646210), (132646210, 14968475), (18932422, 1663172653), (132646210, 393675585), (101711550, 1008658832), (1140163756267192321, 1355198894), (4228354103, 132646210), (19659370, 1303427371), (132646210, 374433827), (3197088767, 15750573), (16674284, 19659370), (2190533245, 1097846996), (15089078, 18932422), (15750573, 527454176), (3036907250, 3035211041), (14968475, 132646210), (489677804, 19659370), (801372548940398593, 19659370), (2386023224, 132646210), (270044784, 3036907250), (196476038, 15750573), (3036907250, 117662694), (105318804, 386277982), (1121364987178618880, 132646210), (15750573, 348011201), (39748571, 1412036527), (541117509, 19659370), (3697013177, 3036907250), (132646210, 266028681), (132646210, 9571292), (132646210, 887535601), (84728939, 577243493), (326912209, 18932422), (132646210, 247943231), (132646210, 33474334), (149155812, 14538236), (19659370, 1049203448783278080), (132646210, 2383802810), (132646210, 2890969865), (132646210, 18874262), (17839109, 19659370), (2378438060, 132646210), (1382732563, 132646210), (975496040286531584, 1412036527), (469631198, 945103495748882432), (132646210, 3160109092), (132646210, 783214), (1009310504, 3314775459), (2288970024, 19659370), (132646210, 2461022395), (773146218, 2190533245), (27104786, 132646210), (765548, 132646210), (755513278625898496, 898111785169031169), (19659370, 3309394037), (494187789, 469631198), (132646210, 433873132), (15750573, 3165380261), (132646210, 2239534928), (415798356, 19659370), (132646210, 4890000754), (132646210, 720212700), (132646210, 71306406), (2353222800, 132646210), (269301403, 144580542), (132646210, 11773812), (132646210, 485865743), (919860212, 132646210), (18932422, 337600744), (301939006, 19659370), (132646210, 87473622), (15750573, 132539757), (132646210, 193227076), (132646210, 725639768663576576), (14162048, 18932422), (256879792, 132646210), (561218882, 18932422), (79764713, 15750573), (30144337, 37105355), (19659370, 2214711331), (132646210, 32193354), (15750573, 506166021), (19659370, 204123892), (1851621, 132646210), (20176114, 386277982), (334170116, 15750573), (19659370, 709402060547092481), (18494510, 916364161415892992), (595544862, 19659370), (116655482, 44322834), (132646210, 3091376321), (84508784, 132646210), (880523990883848192, 132646210), (130256377, 132646210), (19659370, 19859014), (41259586, 132646210), (132646210, 260971421), (1582645148, 132646210), (80269062, 19659370), (4827366892, 19659370), (3036907250, 12353582), (3270447613, 1254390807999787010), (19659370, 2813275219), (18932422, 320603385), (1197676868, 17922590), (553729228, 19659370), (217377296, 132646210), (18932422, 344725369), (946028606, 19659370), (406932163, 132646210), (1669374084, 132646210), (15750573, 299659731), (132646210, 467551928), (580335026, 132646210), (106064139, 18932422), (15750573, 959849838212014081), (3036907250, 15254807), (2189885600, 132646210), (3081160595, 3036907250), (2758095800, 19659370), (500704345, 577243493), (15750573, 1037384052), (3036907250, 133790890), (211457876, 795973), (132646210, 2438493248), (19659370, 933679231220850688), (15750573, 1109067043), (308843719, 19659370), (247660554, 2190533245), (19659370, 1162690737516863494), (132646210, 1110855455696314368), (132646210, 1434631356), (822143767, 19659370), (3439304543, 19659370), (166499569, 132646210), (15750573, 184817606), (19659370, 779769), (19659370, 781676758932262912), (132646210, 972494379754688518), (375007888, 132646210), (14947339, 808051518242979841), (19659370, 1196193239713353732), (220378862, 132646210), (1255539999467958272, 132646210), (132646210, 204718713), (3036907250, 487736815), (14492532, 19659370), (19659370, 1365711606), (1494913634, 132646210), (15336340, 19659370), (2854283403, 132646210), (577243493, 436847545), (15750573, 3319270312), (19659370, 115718271), (289284899, 249861513), (132646210, 925565433679298560), (132646210, 940445534556364800), (132646210, 150622632), (456673160, 15750573), (828625466, 132646210), (132646210, 1062729727), (3510179057, 18932422), (132646210, 4485809179), (566703294, 15750573), (47987831, 19659370), (3865043177, 132646210), (19659370, 16674284), (132646210, 175011974), (1974656552, 132646210), (405384428, 18932422), (874632132353826816, 132646210), (15750573, 551653007), (2239194271, 132646210), (15750573, 884047713372975104), (19659370, 26607837), (19659370, 140956562), (132646210, 984363152958685184), (19659370, 143187995), (563947963, 132646210), (132646210, 2289023460), (65468350, 15750573), (19659370, 199175962), (97880420, 132646210), (3036907250, 270044784), (4873684235, 132646210), (14301911, 19659370), (1142819859472048131, 269301403), (1227629352, 116655482), (53654934, 98975049), (2427734180, 132646210), (787149253302812672, 19659370), (1178221893616308224, 132646210), (44196397, 1100520274200416256), (1972411447, 15750573), (37105355, 367840245), (3036907250, 571202103), (2996506102, 132646210), (15750573, 68351679), (831503418376146946, 19659370), (15376357, 19659370), (132646210, 4149032843), (3036907250, 817845968), (2397162947, 19659370), (18932422, 3510179057), (132646210, 2874803443), (115180931, 15750573), (1264027207447371776, 132646210), (1325376128752771073, 14538236), (299858686, 132646210), (15750573, 3237012607), (928760788306878464, 50393960), (19659370, 49438224), (202853969, 132646210), (700999301514686464, 132646210), (2979365176, 3036907250), (3318895763, 132646210), (320603385, 18932422), (153506820, 19659370), (262236415, 19659370), (830589635738816512, 264501255), (132646210, 86754006), (3036907250, 1070321898951753728), (19659370, 7111232), (43926213, 15750573), (19659370, 427218827), (19659370, 582161546), (216299334, 36024756), (132646210, 861246336), (2700931729, 18932422), (406869976, 15750573), (19659370, 14707794), (181954043, 2493328698), (577243493, 173891055), (19659370, 8139122), (132646210, 16136933), (11069462, 132646210), (889461651673690112, 132646210), (19659370, 183575679), (563979425, 15750573), (54682074, 132646210), (132646210, 23055193), (15750573, 824249522389970944), (193935341, 1076782624775884800), (18932422, 91333167), (15750573, 449616976), (132646210, 1195040516318093312), (3270447613, 827699070567280641), (240867778, 132646210), (132646210, 342578839), (19659370, 197362628), (837214523547353089, 132646210), (577243493, 275538478), (3275322876, 132646210), (3892691301, 15750573), (132646210, 7368332), (132646210, 224495471), (19659370, 27171750), (1023096199, 15750573), (884180960, 19659370), (19659370, 1710656606), (19659370, 354801923), (132646210, 8143682), (1297532367591084033, 201275909), (17922590, 1242262405), (19659370, 114773847), (1169945329053130753, 132646210), (132646210, 1064940934528421888), (2827812417, 3036907250), (19659370, 4353971122), (132646210, 3339046197), (706431707885477888, 15750573), (1004615060, 15750573), (132646210, 1685766865), (19659370, 3405424143), (19659370, 265422963), (21573326, 132646210), (19659370, 2320791044), (2301908191, 19659370), (3317585532, 132646210), (91168371, 905903265837182976), (33970089, 132646210), (1251059396991311872, 132646210), (27018274, 30878713), (408986233, 132646210), (19659370, 16042588), (132646210, 167735563), (87818409, 3036907250), (132646210, 591797093), (132646210, 1002193231), (7851812, 132646210), (1140163756267192321, 375829381), (132646210, 772574162), (15750573, 1037864733360226304), (606265290, 132646210), (19659370, 31442869), (414978578, 15750573), (221620566, 19659370), (132646210, 2252260178), (132646210, 250059685), (2549047974, 19659370), (123846556, 132646210), (132646210, 312121622), (19659370, 4883900442), (132646210, 84653850), (2218900633, 132646210), (27018274, 3111344171), (1031837755234549760, 211479919), (5869132, 15750573), (880497679326998530, 4928034543), (59780450, 19659370), (190161488, 3036907250), (4793796869, 132646210), (29951831, 132646210), (19659370, 63935826), (131100302, 14538236), (315707871, 15750573), (1354848524, 19659370), (132646210, 1014561), (19659370, 748315519674048512), (388212968, 15750573), (71306406, 132646210), (2842558252, 19659370), (121492869, 15750573), (15750573, 15657398), (2868140962, 68475307), (18932422, 3095317209), (132646210, 11990112), (1011129121, 53654934), (19659370, 1040124415151726592), (396162704, 469631198), (15750573, 43526978), (32246103, 15750573), (3036907250, 395990396), (2924886188, 1193904402190360576), (132646210, 20314655), (19659370, 133806972), (132646210, 136088911), (312131328, 132646210), (1111871, 19659370), (82364810, 132646210), (3292784453, 132646210), (1578022897, 15750573), (19659370, 68784803), (7368332, 132646210), (193935341, 3145677894), (132646210, 231722071), (517818047, 15750573), (132646210, 1721425735), (18932422, 267249771), (190821474, 132646210), (19659370, 2810375782), (15750573, 107751300), (507824939, 549833457), (19659370, 833597084167122945), (132646210, 92071137), (21133730, 19659370), (1412036527, 1006419421244678144), (132646210, 114045446), (132646210, 53645823), (2601589496, 132646210), (132646210, 24603962), (19659370, 2876226376), (1037384052, 15750573), (19659370, 77200220), (139008774, 132646210), (19659370, 14492532), (761072228028911618, 19659370), (89774258, 132646210), (132646210, 874632132353826816), (15750573, 188233241), (19659370, 49556240), (14254846, 19659370), (221575638, 1412036527), (830589635738816512, 258540979), (241167877, 132646210), (68475307, 2798093329), (73509664, 3036907250), (713395522095210496, 15750573), (61111487, 19659370), (413981727, 17922590), (2924669003, 19659370), (132646210, 195719387), (132646210, 84060395), (132646210, 14614664), (2373145729, 132646210), (19659370, 938473643373481985), (14417382, 132646210), (41974909, 132646210), (132646210, 50706020), (115494880, 19659370), (2475572071, 132646210), (112806109, 19659370), (22585506, 132646210), (132646210, 101818541), (2215006026, 132646210), (1023655925742268426, 15750573), (36347948, 15750573), (341000847, 166978636), (84060395, 132646210), (101264703, 18932422), (272623675, 132646210), (15750573, 234070123), (18466593, 14947339), (132646210, 22597445), (57047586, 3036907250), (19659370, 2382305514), (1154319646780272641, 132646210), (14677919, 3036907250), (19659370, 18485339), (132646210, 597499972), (224495471, 132646210), (132646210, 125792630), (20499721, 132646210), (2813275219, 19659370), (132646210, 281079339), (3147145875, 1078117895207563264), (15750573, 403677666), (132646210, 174072879), (1303427371, 19659370), (14339792, 132646210), (321908821, 19659370), (869188290183917568, 19659370), (132646210, 18843675), (4783690002, 830589635738816512), (132646210, 551951577), (17922590, 253932447), (132646210, 23999540), (254218142, 14538236), (132646210, 47325650), (19659370, 19677123), (446719282, 132646210), (19659370, 771363829556977665), (132646210, 1179011991563915264), (1477918760, 1284897085846953986), (132646210, 1169945329053130753), (815628453613621248, 19659370), (15750573, 17955611), (4728720725, 19659370), (4928034543, 880497679326998530), (132646210, 1094048100564365312), (27018274, 535914042), (19659370, 7905122), (34690221, 15750573), (610026759, 132646210), (1252063705, 19659370), (132646210, 59217922), (873162092819488769, 132646210), (14794109, 132646210), (3084901894, 68475307), (1306824555420213249, 132646210), (17949156, 19659370), (1246201593755660288, 19659370), (311404595, 19659370), (19659370, 158297618), (27018274, 32799259), (4755350878, 53654934), (3270447613, 1299097451811536910), (760799156256382976, 132646210), (77200220, 19659370), (898161154169679873, 15750573), (28077022, 15750573), (19659370, 76336279), (132646210, 393652166), (167169119, 132646210), (15808647, 19659370), (1264438328, 3036907250), (375820392, 15750573), (337886919, 3036907250), (19659370, 637087464), (1479360883, 3036907250), (3036907250, 237670274), (15750573, 2321117354), (27171750, 19659370), (19659370, 20003288), (269930404, 132646210), (154221292, 3036907250), (132646210, 47978543), (1934192923, 15750573), (1962172172, 19659370), (1244079788, 19659370), (15750573, 39721490), (132453147, 132646210), (132646210, 26240101), (313444531, 132646210), (18932422, 604779041), (2924886188, 1240768429285675008), (250055606, 19659370), (16113777, 15750573), (132646210, 515192228), (838464523, 3036907250), (19659370, 114407120), (19659370, 317158835), (46668733, 132646210), (19659370, 941478255789457408), (19659370, 129746032), (32942338, 132646210), (37105355, 14639512), (3309394037, 19659370), (20433031, 37105355), (19659370, 2859068332), (132646210, 54580934), (905698976, 1483247714), (327066310, 132646210), (37715152, 19659370), (2444133930, 3036907250), (1166366776625467393, 132646210), (891193292385288193, 132646210), (15750573, 16611773), (253973566, 15750573), (12151932, 19659370), (1894582058, 19659370), (18932422, 16273541), (15750573, 65184105), (116897811, 19659370), (37105355, 136318851), (71905822, 19659370), (19659370, 4329329968), (194324277, 132646210), (934851466082357249, 132646210), (5894962, 15750573), (19659370, 2717694091), (132646210, 40576466), (1934999587, 19659370), (1120424520773505028, 132646210), (15750573, 436837074), (113125584, 132646210), (427218827, 19659370), (19659370, 117539435), (257544772, 132646210), (1320513201071484928, 132646210), (31422403, 15750573), (103761767, 132646210), (132646210, 16632955), (19659370, 2711212681), (3036907250, 381187236), (15750573, 579115459), (14166306, 19659370), (18075345, 3411494596), (132646210, 17305888), (132646210, 142724647), (279903146, 132646210), (17354555, 132646210), (132646210, 14265641), (1434631356, 132646210), (132646210, 720389270335135745), (2968801294, 132646210), (15750573, 456673160), (18932422, 22072608), (22949587, 376297519), (132646210, 1148595838664552451), (832162842, 68475307), (19659370, 1061582051449557003), (15750573, 119406189), (132646210, 399089660), (15750573, 918798040282091520), (68443905, 132646210), (312809493, 132646210), (132646210, 10868922), (911297187664949248, 132646210), (19659370, 19073790), (132646210, 33284619), (14583400, 15750573), (132646210, 1077734311799984128), (19659370, 197481317), (15750573, 852962413), (132646210, 112415325), (829903626, 3036907250), (19659370, 470416893), (157238371, 19659370), (15750573, 59273937), (190754693, 132646210), (39618125, 15750573), (70478255, 132646210), (2591662868, 3411494596), (51023058, 3036907250), (1111315973125169152, 3036907250), (132646210, 2540678306), (132646210, 158342368), (260768625, 18932422), (240478658, 132646210), (17922590, 1197676868), (156204739, 132646210), (871920132641173504, 132646210), (15750573, 3988215194), (892954139319087104, 308456550), (65587580, 15750573), (301037777, 19659370), (15518172, 19659370), (6979832, 15750573), (132646210, 3107101390), (15750573, 8943), (132646210, 2522143308), (2348513340, 18932422), (15750573, 780874432927719424), (861246336, 132646210), (15750573, 377571301), (23666107, 19659370), (18932422, 452909538), (88673826, 18932422), (59490048, 4928034543), (2960317030, 132646210), (15750573, 25860326), (838131126002728960, 15750573), (19341622, 19659370), (132646210, 774324193928351744), (19659370, 3079899620), (132646210, 17503180), (420316063, 15750573), (34743251, 18932422), (3732176255, 132646210), (1039236870230749185, 376297519), (238024065, 132646210), (15750573, 450594910), (785618379201654784, 132646210), (13533662, 15750573), (43839644, 15750573), (6057982, 132646210), (2461022395, 132646210), (1014561, 132646210), (1214864022572425217, 132646210), (19659370, 2232721860), (79128388, 15750573), (3007913925, 15750573), (19659370, 16925097), (132646210, 142293342), (213248607, 132646210), (905687730843037696, 132646210), (132646210, 147949965), (132646210, 172179385), (8202402, 386277982), (15750573, 16362818), (4883900442, 19659370), (15750573, 334678478), (11017332, 19659370), (928760788306878464, 121402638), (132646210, 3406278903), (3036907250, 3034892963), (15750573, 1043021486), (75392682, 132646210), (20926161, 132646210), (2214711331, 19659370), (269301403, 97436767), (15750573, 277667306), (132646210, 494181406), (126274094, 132646210), (2974389209, 19659370), (132646210, 2475572071), (828064288417779712, 132646210), (15421904, 18932422), (22826489, 19659370), (16689804, 18932422), (1062729727, 132646210), (17157367, 132646210), (15750573, 203866616), (19659370, 2397162947), (15750573, 117652722), (19659370, 17465774), (195658424, 132646210), (132646210, 45123871), (3405424143, 19659370), (19659370, 1174325520294715392), (44652450, 15750573), (132646210, 213248607), (2226776658, 132646210), (2916305152, 19659370), (65494780, 1031837755234549760), (132646210, 1251108504653361152), (19659370, 2460368252), (15750573, 176870844), (469631198, 494187789), (19659370, 1074540169), (188233241, 15750573), (249861513, 289284899), (512191023, 19659370), (132646210, 14339792), (17922590, 3121745324), (151208743, 132646210), (15750573, 394665897), (1734575215, 19659370), (132646210, 372730608), (715306704762761216, 16868154), (19659370, 434236851), (14293310, 3036907250), (372730608, 132646210), (15750573, 20887537), (14103970, 19659370), (132646210, 706980266879946752), (19659370, 14208224), (4928034543, 4165329244), (128213903, 15750573), (16507835, 19659370), (3415205164, 19659370), (132646210, 2512218333), (1582911193, 15750573), (132646210, 223380941), (37622738, 132646210), (158659687, 19659370), (15750573, 537014740), (132646210, 736667972123512832), (3008322017, 19659370), (132646210, 308578864), (7111232, 19659370), (24989839, 132646210), (27493489, 19659370), (19659370, 22826489), (2462926410, 132646210), (3411494596, 18075345), (8034682, 19659370), (44196397, 16736535), (132646210, 873162092819488769), (22072608, 18932422), (406303880, 797863519953764353), (132646210, 761153954809913344), (132646210, 3225904081), (469631198, 1239750608), (348506984, 15750573), (419071399, 132646210), (132646210, 382158989), (114485232, 132646210), (976373610, 132646210), (132646210, 842043337687289856), (3036907250, 20356196), (15750573, 28077022), (439572655, 19659370), (132646210, 1851621), (193309907, 132646210), (132646210, 190006526), (1850752598, 132646210), (755953153, 3036907250), (19659370, 2918846960), (132646210, 12414242), (60884801, 18932422), (751506263792582656, 132646210), (1017373138500378624, 132646210), (19659370, 778607), (132646210, 18059898), (33284619, 132646210), (19659370, 77436536), (117539435, 19659370), (278482863, 132646210), (1080724857552199682, 19659370), (263265080, 3036907250), (909955646895919104, 1140163756267192321), (19659370, 11939852), (3036907250, 57047586), (132646210, 1178221893616308224), (3384319941, 19659370), (15147397, 916364161415892992), (132646210, 829881163472916481), (390324658, 19659370), (15159648, 132646210), (209100025, 132646210), (14614664, 132646210), (3411494596, 128232442), (3036907250, 3053756746), (2310416978, 19659370), (1140163756267192321, 12321952), (19659370, 583637312), (15750573, 20384956), (702932794947694592, 19659370), (2776164847, 132646210), (19659370, 606667727), (132646210, 947311503216066560), (917259707236208640, 19659370), (15750573, 739565869433524225), (27375578, 132646210), (36024756, 137730778), (132646210, 825382759), (132646210, 9180262), (240316759, 19659370), (3036907250, 755953153), (23761309, 132646210), (44196397, 23116280), (60959947, 132646210), (3549187454, 132646210), (53654934, 157981564), (2895307672, 15750573), (1092423527440019456, 755513278625898496), (998681467696885761, 132646210), (3293206151, 3036907250), (2321117354, 15750573), (14511951, 3036907250), (41216797, 19659370), (2178067878, 19659370), (50257296, 132646210), (3128829965, 132646210), (19659370, 122424832), (27990587, 132646210), (1124794277660430341, 341000847), (211479919, 1031837755234549760), (334516778, 15750573), (19659370, 17855686), (15750573, 175529610), (202626872, 15750573), (48235638, 132646210), (106505501, 15750573), (2278288488, 19659370), (19677123, 19659370), (30420908, 19659370), (1211825303388995584, 19659370), (628623778, 15750573), (15750573, 787338664477134848), (1281172664896360449, 406303880), (19659370, 631705640), (299807081, 132646210), (1193904402190360576, 2924886188), (928760788306878464, 222110806), (710492983800569857, 549833457), (19659370, 793483735018504192), (581406453, 19659370), (1367458171, 3036907250), (15750573, 43839644), (16632955, 132646210), (27018274, 931630470399451139), (940901351759994880, 132646210), (924426975330160641, 19659370), (277298681, 19659370), (877108837475655680, 19659370), (4329329968, 19659370), (19659370, 3565816992), (91697719, 18932422), (1187585868493537280, 132646210), (132646210, 44583317), (3239238377, 19659370), (44595708, 15750573), (132646210, 242868086), (52671862, 15750573), (63735508, 19659370), (10587552, 19659370), (15750573, 50956443), (3053756746, 3036907250), (700831074, 19659370), (1376639125, 19659370), (117662694, 3036907250), (132646210, 702309206), (132646210, 422016668), (3036907250, 717768811005526016), (1179011991563915264, 132646210), (19677430, 132646210), (132646210, 327122348), (19659370, 4202417063), (132646210, 2815077014), (2320791044, 19659370), (53654934, 888118103095115780), (966411199649808386, 132646210), (26156309, 116655482), (2615258306, 132646210), (3036907250, 271485168), (36515907, 132646210), (19659370, 918158086858211329), (15750573, 433226744), (15750573, 2328954662), (3036907250, 1479360883), (406303880, 1281172664896360449), (211457876, 43064490), (132646210, 975115762712096768), (132646210, 130671142), (15750573, 752743856941125632), (569203915, 19659370), (132646210, 80979483), (830589635738816512, 775449094739197953), (3780315496, 132646210), (262191481, 19659370), (132646210, 928151539893420032), (49287656, 132646210), (840618056678293504, 19659370), (132646210, 48235638), (1074540169, 19659370), (15750573, 1582911193), (19659370, 1228726773078208512), (163009576, 19659370), (2859068332, 19659370), (138562224, 19659370), (755513278625898496, 1092423527440019456), (19659370, 349172730), (132646210, 812055605510803456), (19659370, 917421341359464450), (139507464, 132646210), (851254609, 15750573), (19659370, 289222668), (132646210, 533584357), (132646210, 12031032), (29735775, 132646210), (19659370, 932582571338321920), (15750573, 142837256), (25860326, 15750573), (132646210, 76937615), (18932422, 18115497), (18932422, 740410382), (132646210, 1894231788), (132646210, 789107706397196288), (19659370, 2989739661), (3621255616, 19659370), (19659370, 1934999587), (17465774, 19659370), (2328954662, 15750573), (15750573, 391015835), (443602279, 132646210), (15750573, 52414554), (1143038206335737856, 132646210), (19659370, 305236970), (179571184, 787780218), (132646210, 1669374084), (19659370, 2209063952), (2540678306, 132646210), (3036907250, 245548093), (132646210, 1037548569467731968), (48457557, 132646210), (1241258612, 19659370), (19659370, 1124623431377543169), (2190533245, 111046352), (19659370, 14103970), (3367685915, 19659370), (19659370, 2322434384), (132646210, 49793), (132646210, 769823624308092928), (269301403, 1605), (158342368, 132646210), (906922846412267521, 132646210), (15750573, 42614814), (15750573, 32338210), (1269448278, 15750573), (132646210, 18384521), (212276623, 132646210), (132646210, 27131901), (20384956, 15750573), (132646210, 124319949), (132646210, 17053944), (18932422, 17554109), (19659370, 13920962), (72386774, 132646210), (142724647, 132646210), (37105355, 30144337), (19659370, 1297170244658552838), (36966461, 132646210), (495430242, 132646210), (2835276183, 3036907250), (427431943, 132646210), (19659370, 553436328), (1355198894, 1140163756267192321), (994886035086761984, 132646210), (19659370, 1205609058), (756380725859975168, 19659370), (3036907250, 688583), (862356144748204032, 132646210), (160246849, 132646210), (19659370, 17600799), (19659370, 2803449260), (93957809, 18932422), (19659370, 808593541840719872), (265509561, 18932422), (15750573, 6107292), (2826508686, 18932422), (132646210, 44973000), (132646210, 226298062), (533149076, 18932422), (132646210, 771681197781053440), (132646210, 48008938), (19659370, 194399316), (15750573, 20460664), (132646210, 2153743237), (3415864408, 132646210), (19659370, 595544862), (705427898749079552, 15750573), (131111665, 132646210), (132646210, 231845623), (132646210, 1184821524534059008), (22289618, 132646210), (15750573, 186404598), (19659370, 868437872), (3036907250, 3083042302), (132646210, 325755342), (263247974, 132646210), (3233792564, 19659370), (179797676, 19659370), (245907225, 132646210), (2271904531, 3036907250), (3036907250, 190161488), (132646210, 277516046), (15750573, 110509537), (712614852263542784, 15750573), (15750573, 29716049), (939091, 19659370), (817845968, 3036907250), (2838403462, 2924886188), (467004982, 19659370), (2502662672, 19659370), (19659370, 123093566), (19659370, 1296322367053082624), (39112661, 19659370), (274134534, 132646210), (33168385, 15750573), (386277982, 105318804), (37105355, 269731175), (46131106, 132646210), (15750573, 744114034660773888), (132646210, 807261497500069888), (132646210, 159240329), (11939852, 19659370), (132646210, 2226776658), (132646210, 43641631), (132646210, 2273201773), (755513278625898496, 556738016), (15750573, 3226059106), (132539757, 15750573), (296459271, 3036907250), (187655958, 91168371), (15750573, 85813091), (132646210, 251614179), (887207711590559745, 132646210), (114782375, 15750573), (549833457, 82541893), (33505544, 132646210), (423567471, 132646210), (19659370, 84351228), (15750573, 1079473267), (15750573, 197623145), (50607971, 15750573), (132646210, 950072183031771136), (132646210, 257618993), (18932422, 828489290), (557553364, 19659370), (132646210, 3482836634), (132646210, 4025609913), (1233080567727521792, 132646210), (108334890, 19659370), (132646210, 5734242), (19659370, 273921060), (1609328383, 1477918760), (15750573, 61187211), (19659370, 138562224), (1031837755234549760, 77469709), (813286, 916364161415892992), (1640671358, 19659370), (15750573, 482995387), (48677032, 132646210), (3411494596, 2591662868), (132646210, 14761223), (132646210, 2960317030), (132646210, 140093780), (385339360, 15750573), (1320653768346816512, 15750573), (81737577, 824668943285702661), (132646210, 284099686), (132646210, 1265795638551212032), (920563781616496641, 15750573), (66322723, 132646210), (19659370, 248064213), (132646210, 837214523547353089), (91168371, 91688695), (132646210, 1060157776477982721), (1579778748, 308456550), (19659370, 2527017636), (1194745704, 289284899), (3036907250, 720605133483208705), (19659370, 3257676018), (132646210, 618193431), (930340722, 18932422), (19659370, 22752868), (132646210, 1310568144742895619), (544360896, 15750573), (19659370, 1246201593755660288), (734735999029383168, 19659370), (132646210, 160741955), (18932422, 794790254), (132646210, 108207407), (1155634482629791746, 132646210), (34642043, 132646210), (15750573, 294119630), (126718539, 132646210), (1084212657761148928, 132646210), (898111785169031169, 755513278625898496), (3107101390, 132646210), (132646210, 709476815090413568), (253932447, 17922590), (1636590253, 3036907250), (153004670, 19659370), (200466843, 132646210), (477554560, 3036907250), (19659370, 310741473), (19659370, 2962250933), (19659370, 179797676), (127894322, 132646210), (870362407, 3036907250), (197313522, 132646210), (211457876, 1882331364), (867297019160707072, 19659370), (951844723, 132646210), (2422189058, 132646210), (19659370, 403274895), (65605637, 132646210), (132646210, 272065025), (224209816, 132646210), (132646210, 955599008), (487736815, 3036907250), (19659370, 1865461842), (19659370, 76966092), (19659370, 52206988), (1218287414965350401, 15750573), (2209729028, 132646210), (15750573, 95267165), (305431714, 132646210), (19659370, 352650313), (435727485, 132646210), (19659370, 2249121151), (101711550, 515563051), (18932422, 3513474256), (132646210, 1932160213), (4713059201, 2190533245), (132646210, 135508015), (824668943285702661, 193755075), (53654934, 1011129121), (1124623431377543169, 19659370), (16705752, 17922590), (135508015, 132646210), (132646210, 2190723061), (95196023, 19659370), (337797562, 132646210), (193935341, 803451483966435328), (4786709654, 19659370), (18932422, 55858928), (132646210, 2847332414), (132646210, 2183611873), (132646210, 330917707), (289284899, 1056456062520492032), (132646210, 36659063), (132646210, 313444531), (132646210, 839149376643686401), (22026924, 132646210), (15750573, 40903402), (25268217, 132646210), (18932422, 1527461), (386277982, 695480624870633472), (19659370, 26976778), (436609034, 3036907250), (15519766, 3314775459), (19659370, 2916305152), (15750573, 136142062), (15750573, 948483885209477121), (132646210, 1212987379692081153), (2315608478, 19659370), (498895063, 14947339), (259403751, 18932422), (249695469, 132646210), (44196397, 1024391197), (15750573, 2735046987), (564663512, 132646210), (132646210, 17076940), (132646210, 1168926603855958017), (91367103, 132646210), (311334706, 17922590), (132646210, 4188048952), (19659370, 17455229), (781332157, 19659370), (3270447613, 1319307998), (4188048952, 132646210), (132646210, 22026924), (1909219404, 132646210), (1432662902, 132646210), (132646210, 2166992210), (231845623, 132646210), (1483247714, 16905485), (132646210, 308799838), (15750573, 146116918), (40576466, 132646210), (159342110, 132646210), (137730778, 36024756), (132646210, 200083348), (15750573, 334170116), (132646210, 909404434723213312), (15750573, 228130177), (132646210, 370597692), (132646210, 605012771), (18932422, 14488805), (475026877, 132646210), (91440853, 19659370), (289284899, 3430164869), (132646210, 114485232), (132646210, 256644046), (22129782, 132646210), (469631198, 893484744725467137), (16868154, 715306704762761216), (19659370, 1014199723031449600), (19659370, 126323494), (2653043425, 132646210), (1313137113454579717, 132646210), (19659370, 1891806212), (24888653, 15750573), (132646210, 158789494), (132646210, 475026877), (3036907250, 1111315973125169152), (204718713, 132646210), (132646210, 887159288), (1108685535088771073, 132646210), (132646210, 20926161), (15750573, 476514758), (15750573, 436122215), (19659370, 911454651417088000), (4353971122, 19659370), (132646210, 1911204626), (85243046, 116655482), (19659370, 488417933), (132646210, 15926727), (1930184042, 132646210), (955599008, 132646210), (18932422, 19380829), (132646210, 608052226), (2895770934, 132646210), (132646210, 15045590), (1267637312, 132646210), (132646210, 391867472), (132646210, 85307840), (2900424513, 15750573), (3036907250, 230815459), (289284899, 3587827899), (3147145875, 1314981763794468864), (19659370, 2932027868), (617400195, 132646210), (19659370, 849729477533892612), (3036907250, 3077138539), (19659370, 335829830), (132646210, 1014974716359081988), (19659370, 982276165992935426), (19659370, 78807415), (3150832239, 19659370), (15750573, 43926213), (15750573, 316386106), (14341416, 19659370), (107171037, 18932422), (3314775459, 860893823668498433), (2186834214, 132646210), (17305888, 132646210), (19659370, 821769650211930112), (19659370, 2317814702), (132646210, 11649702), (15750573, 44652450), (2183611873, 132646210), (3272004860, 132646210), (45123871, 132646210), (858519894, 132646210), (3036907250, 17043428), (1617382039, 132646210), (19659370, 15056816), (442245081, 132646210), (2706892358, 19659370), (79703784, 19659370), (16611773, 15750573), (887627169765130241, 132646210), (989428140433866752, 132646210), (15750573, 220020080), (1039052508193284096, 132646210), (19659370, 2315608478), (132646210, 197608061), (5848122, 19659370), (469631198, 396162704), (132646210, 1204339794471538688), (84560252, 132646210), (3036907250, 854719703545253888), (214272214, 132646210), (15750573, 52671862), (18932422, 460544873), (132646210, 897060827316072448), (706980266879946752, 132646210), (408717162, 3036907250), (39321347, 132646210), (709493676121042945, 132646210), (15750573, 55612967), (534290225, 19659370), (780174132, 15750573), (784824594, 132646210), (1087030452, 91168371), (19659370, 2641476606), (122408887, 19244292), (143319983, 132646210), (14749606, 15750573), (398500188, 19659370), (1936953062, 19659370), (20003288, 19659370), (19659370, 250055606), (856509174473248768, 132646210), (15750573, 375820392), (132646210, 739854925560156160), (1351611290, 15750573), (2579832252, 132646210), (2475224005, 132646210), (15169938, 19659370), (19659370, 1617603914), (132646210, 4196200462), (984769730983682048, 18932422), (3270447613, 856391422974468101), (132646210, 829115622), (1911204626, 132646210), (23116280, 44196397), (132646210, 126132953), (19659370, 761072228028911618), (3036907250, 2196922086), (2924886188, 881840360997232640), (19659370, 4531194259), (15750573, 2607919231), (918943909811769344, 132646210), (311340284, 19659370), (18033550, 19659370), (2515540081, 132646210), (860893823668498433, 3314775459), (47562075, 19659370), (3232640646, 132646210), (132646210, 3186534415), (132646210, 380426226), (15750573, 1725341478), (3442793834, 19659370), (915895342532583424, 1031837755234549760), (19659370, 47319664), (1690763647, 132646210), (384978819, 549833457), (849729477533892612, 19659370), (3225904081, 132646210), (399361313, 4928034543), (84036295, 132646210), (132646210, 7466492), (1426135280, 132646210), (132646210, 3341697257), (132646210, 16549460), (1116622891, 132646210), (281079339, 132646210), (1053724531, 3036907250), (15750573, 474233138), (19659370, 137394430), (72474729, 132646210), (18932422, 2346714074), (15750573, 714783310954774529), (264501255, 830589635738816512), (2926840635, 1031837755234549760), (6778812, 132646210), (877823703249068032, 132646210), (138840988, 132646210), (1287104705185939456, 132646210), (1527461, 18932422), (132646210, 47681517), (15578992, 15750573), (2926864059, 18932422), (15750573, 38277726), (132646210, 271909348), (43526978, 15750573), (430570985, 132646210), (496430086, 132646210), (99023044, 132646210), (75525450, 132646210), (40090727, 19659370), (132646210, 11595422), (18675332, 132646210), (16102444, 132646210), (1251182739035795463, 406303880), (93494670, 132646210), (904533569749508097, 132646210), (4531194259, 19659370), (132646210, 1065937815022837760), (19659370, 50095170), (376297519, 443505905), (1019673422, 3036907250), (466894113, 132646210), (1008658832, 101711550), (2413882279, 3036907250), (338989477, 132646210), (132646210, 856684314), (132646210, 38140504), (922354202088759296, 132646210), (132646210, 4770618972), (1053292116, 132646210), (1603439773, 3036907250), (19659370, 13235832), (384759698, 15750573), (15750573, 16113777), (8943, 15750573), (824668943285702661, 81143606), (507704346, 19659370), (132646210, 2218900633), (137745777, 132646210), (1148895885729947648, 19659370), (12414242, 132646210), (1237020498422198273, 101711550), (132646210, 1081076050061213697), (1149491203, 132646210), (817382, 19659370), (132646210, 201854523), (19659370, 774575), (15750573, 780174132), (18932422, 3513346942), (19659370, 16621479), (3036907250, 2969887354), (132646210, 2685989162), (132646210, 27990587), (19659370, 350164545), (831393481465556992, 132646210), (789736108896751616, 15750573), (132646210, 47602120), (55044770, 18932422), (775449094739197953, 830589635738816512), (19659370, 5943622), (1477918760, 710583925), (743856512, 19659370), (132646210, 2279201814), (996170598056263683, 132646210), (23973296, 132646210), (54817041, 132646210), (2815077014, 132646210), (132646210, 220145170), (1322931373, 132646210), (132646210, 81381560), (151490538, 132646210), (132646210, 264132382)}\n"
     ]
    }
   ],
   "source": [
    "if \"twtNet_graph.pkl\" in os.listdir():\n",
    "    twtNet = nx.read_gpickle(\"twtNet_graph.pkl\")\n",
    "\n",
    "    minCover = nx.min_edge_cover(nx.to_undirected(twtNet))\n",
    "    print(f\"Copertura minima arco: {minCover}\")\n",
    "    print(f\"Num coppie: {len(minCover)}\")\n",
    "else:\n",
    "    print(\"Grafo non ancora creato!\")"
   ],
   "metadata": {
    "collapsed": false,
    "pycharm": {
     "name": "#%%\n"
    }
   }
  },
  {
   "cell_type": "markdown",
   "metadata": {
    "pycharm": {
     "name": "#%% md\n"
    }
   },
   "source": [
    "# 12) Osservazione del fenomeno \"small-worldness\"\n",
    "\n",
    "In questa sezione effettueremo la stima di due coefficienti per osservare il fenomeno \"small-worldness\"\n",
    "sulla rete oggetto di studio.<br>\n",
    "Calcoleremo due valori:\n",
    "* **Coefficiente omega**: compreso tra -1 e 1. Valori vicini allo 0 rappresentano bene la \"small-worldness\".\n",
    "* **Coefficiente sigma**: Valori maggiori di 1 rappresentano bene la \"small-worldness\".\n"
   ]
  },
  {
   "cell_type": "code",
   "execution_count": null,
   "outputs": [],
   "source": [
    "if \"twtNet_graph.pkl\" in os.listdir():\n",
    "    twtNet = nx.read_gpickle(\"twtNet_graph.pkl\")\n",
    "\n",
    "    #da vedere i parametri\n",
    "    omega = nx.omega(nx.to_undirected(twtNet), niter=5, nrand=5)\n",
    "    print(f\"Coefficiente omega: {omega}\")\n",
    "    sigma = nx.sigma(nx.to_undirected(twtNet), niter=5, nrand=5)\n",
    "    print(f\"Coefficiente sigma: {sigma}\")\n",
    "else:\n",
    "    print(\"Grafo non ancora creato!\")"
   ],
   "metadata": {
    "collapsed": false,
    "pycharm": {
     "name": "#%%\n"
    }
   }
  },
  {
   "cell_type": "markdown",
   "source": [
    "**Interpretazione**<br>\n",
    "I risultati ottenuti ci inducono ad affermare, come ci si aspetterebbe,\n",
    "che la rete possiede le caretteristiche di \"small-worldness\".\n",
    "<br>Più nel dettaglio il *coefficiente omega* supporta pienamente questa ipotesi, essendo molto prossimo allo zero.\n",
    "<br>Il *coefficiente sigma* invece, seppur prossimo all'uno, risulta abbastanza contraddittorio. Infatti il valore\n",
    "atteso per una rete \"small-world\" dovrebbe essere superiore a 1.\n",
    "<br>Ipotizziamo che lo scostamento verificato possa\n",
    "essere imputabile alle semplificazioni apportate alla rete per motivi di limitazioni computazionali."
   ],
   "metadata": {
    "collapsed": false,
    "pycharm": {
     "name": "#%% md\n"
    }
   }
  },
  {
   "cell_type": "markdown",
   "source": [
    "# 13) Calcolo della correlazione fra le misure di centralità\n",
    "\n",
    "Riportiamo qui sotto il codice che restituisce in output una tabella rappresentativa di\n",
    "alcune misure di centralità calcolate in precedenza."
   ],
   "metadata": {
    "collapsed": false
   }
  },
  {
   "cell_type": "code",
   "execution_count": null,
   "outputs": [],
   "source": [
    "dfCentrality = pd.DataFrame(\n",
    "    {\"between_centrality\": betweennessCentrality,\n",
    "     \"closeness_centrality\": closenessCentrality,\n",
    "     \"degree_centrality\": degreeCentrality,\n",
    "     \"in_degree_centrality\": inCentrality,\n",
    "     \"out_degree_centrality\": outCentrality,\n",
    "     \"page_rank\": pageRank,\n",
    "     \"hits_hub\": hits[0],\n",
    "     \"hirs_authorities\": hits[1]\n",
    "})\n",
    "\n",
    "dfCentrality"
   ],
   "metadata": {
    "collapsed": false,
    "pycharm": {
     "name": "#%%\n"
    }
   }
  },
  {
   "cell_type": "markdown",
   "source": [
    "## Coefficienti di correlazione di Pearson (Rho)"
   ],
   "metadata": {
    "collapsed": false
   }
  },
  {
   "cell_type": "code",
   "execution_count": null,
   "outputs": [],
   "source": [
    "dfCentrality.corr(\"pearson\")"
   ],
   "metadata": {
    "collapsed": false,
    "pycharm": {
     "name": "#%%\n"
    }
   }
  },
  {
   "cell_type": "markdown",
   "source": [
    "## Coefficienti di correlazione di Kendall (Tau)"
   ],
   "metadata": {
    "collapsed": false
   }
  },
  {
   "cell_type": "code",
   "execution_count": null,
   "outputs": [],
   "source": [
    "dfCentrality.corr(\"kendall\")"
   ],
   "metadata": {
    "collapsed": false,
    "pycharm": {
     "name": "#%%\n"
    }
   }
  },
  {
   "cell_type": "markdown",
   "source": [
    "# Appendice: codice aggiuntivo\n",
    "\n",
    "## Rappresentazione grafica delle misure di centralità\n",
    "\n",
    "La seguente funzione genera dei grafici delle varie misure di centralità e le salva in un file\n",
    "*.pdf* all'interno della directory */centrality*"
   ],
   "metadata": {
    "collapsed": false
   }
  },
  {
   "cell_type": "code",
   "execution_count": null,
   "outputs": [],
   "source": [
    "import matplotlib.pyplot as plt\n",
    "from pylab import rcParams\n",
    "\n",
    "def draw(G, pos, measures, measureName):\n",
    "    nodes = nx.draw_networkx_nodes(G, pos, node_size=5, cmap=plt.cm.plasma,\n",
    "                                   node_color=list(measures.values()),\n",
    "                                   nodelist=measures.keys(),\n",
    "                                   linewidths=0.1,)\n",
    "\n",
    "    edges = nx.draw_networkx_edges(G, pos)\n",
    "    plt.title(measureName)\n",
    "    plt.colorbar(nodes)\n",
    "    plt.axis('off')\n",
    "    rcParams['figure.figsize'] = 10, 10\n",
    "    #plt.show()\n",
    "    plt.savefig(f\"centrality/{measureName}.pdf\")"
   ],
   "metadata": {
    "collapsed": false,
    "pycharm": {
     "name": "#%%\n"
    }
   }
  },
  {
   "cell_type": "markdown",
   "source": [
    "**Betweenness centrality**"
   ],
   "metadata": {
    "collapsed": false
   }
  },
  {
   "cell_type": "code",
   "execution_count": null,
   "outputs": [],
   "source": [
    "draw(twtNet,\n",
    "     nx.spring_layout(twtNet),\n",
    "     betweennessCentrality,\n",
    "     \"Between centrality\")"
   ],
   "metadata": {
    "collapsed": false,
    "pycharm": {
     "name": "#%%\n"
    }
   }
  },
  {
   "cell_type": "markdown",
   "source": [
    "**Closeness centrality**"
   ],
   "metadata": {
    "collapsed": false
   }
  },
  {
   "cell_type": "code",
   "execution_count": null,
   "outputs": [],
   "source": [
    "draw(twtNet,\n",
    "     nx.spring_layout(twtNet),\n",
    "     closenessCentrality,\n",
    "     \"Closeness centrality\")"
   ],
   "metadata": {
    "collapsed": false,
    "pycharm": {
     "name": "#%%\n"
    }
   }
  },
  {
   "cell_type": "markdown",
   "source": [
    "**Degree centrality**"
   ],
   "metadata": {
    "collapsed": false,
    "pycharm": {
     "name": "#%% md\n"
    }
   }
  },
  {
   "cell_type": "code",
   "execution_count": null,
   "outputs": [],
   "source": [
    "draw(twtNet,\n",
    "     nx.spring_layout(twtNet),\n",
    "     degreeCentrality,\n",
    "     \"Degree centrality\")"
   ],
   "metadata": {
    "collapsed": false,
    "pycharm": {
     "name": "#%%\n"
    }
   }
  },
  {
   "cell_type": "markdown",
   "source": [
    "**IN-Degree centrality**"
   ],
   "metadata": {
    "collapsed": false,
    "pycharm": {
     "name": "#%% md\n"
    }
   }
  },
  {
   "cell_type": "code",
   "execution_count": null,
   "outputs": [],
   "source": [
    "draw(twtNet,\n",
    "     nx.spring_layout(twtNet),\n",
    "     inCentrality,\n",
    "     \"IN-Degree centrality\")"
   ],
   "metadata": {
    "collapsed": false,
    "pycharm": {
     "name": "#%%\n"
    }
   }
  },
  {
   "cell_type": "markdown",
   "source": [
    "**OUT-Degree centrality**"
   ],
   "metadata": {
    "collapsed": false,
    "pycharm": {
     "name": "#%% md\n"
    }
   }
  },
  {
   "cell_type": "code",
   "execution_count": null,
   "outputs": [],
   "source": [
    "draw(twtNet,\n",
    "     nx.spring_layout(twtNet),\n",
    "     outCentrality,\n",
    "     \"OUT-Degree centrality\")"
   ],
   "metadata": {
    "collapsed": false,
    "pycharm": {
     "name": "#%%\n"
    }
   }
  },
  {
   "cell_type": "markdown",
   "source": [
    "**PageRank**"
   ],
   "metadata": {
    "collapsed": false,
    "pycharm": {
     "name": "#%% md\n"
    }
   }
  },
  {
   "cell_type": "code",
   "execution_count": null,
   "outputs": [],
   "source": [
    "draw(twtNet,\n",
    "     nx.spring_layout(twtNet),\n",
    "     pageRank,\n",
    "     \"PageRank\")"
   ],
   "metadata": {
    "collapsed": false,
    "pycharm": {
     "name": "#%%\n"
    }
   }
  },
  {
   "cell_type": "markdown",
   "source": [
    "**HITS (hubs)**"
   ],
   "metadata": {
    "collapsed": false,
    "pycharm": {
     "name": "#%% md\n"
    }
   }
  },
  {
   "cell_type": "code",
   "execution_count": null,
   "outputs": [],
   "source": [
    "draw(twtNet,\n",
    "     nx.spring_layout(twtNet),\n",
    "     hits[0],\n",
    "     \"HITS(hubs)\")"
   ],
   "metadata": {
    "collapsed": false,
    "pycharm": {
     "name": "#%%\n"
    }
   }
  },
  {
   "cell_type": "markdown",
   "source": [
    "**HITS (authorities)**"
   ],
   "metadata": {
    "collapsed": false,
    "pycharm": {
     "name": "#%% md\n"
    }
   }
  },
  {
   "cell_type": "code",
   "execution_count": null,
   "outputs": [],
   "source": [
    "draw(twtNet,\n",
    "     nx.spring_layout(twtNet),\n",
    "     hits[1],\n",
    "     \"HITS(authorities)\")"
   ],
   "metadata": {
    "collapsed": false,
    "pycharm": {
     "name": "#%%\n"
    }
   }
  },
  {
   "cell_type": "markdown",
   "source": [
    "## Download \"globale\" delle info utente\n",
    "\n",
    "Abbiamo deciso, per motivi di memory usage, di recuperare solo porzione degli oggetti restituiti\n",
    "dalle funzioni (api.followers, api.friends e api.get_user). <br>\n",
    "Per completezza riportiamo qui sotto un esempio di download dell'intero oggetto: basta sostituire\n",
    " all'interno dei download la seguente funzione. <br>\n",
    "L'esempio qui sotto è stato fatto per alcuni followers di mizzaro e per i dati utenti\n",
    "(file: allmizzaro-followers.json)"
   ],
   "metadata": {
    "collapsed": false
   }
  },
  {
   "cell_type": "markdown",
   "source": [
    "**retriveAllData**"
   ],
   "metadata": {
    "collapsed": false
   }
  },
  {
   "cell_type": "code",
   "execution_count": null,
   "outputs": [],
   "source": [
    "def retriveAllData(item, data):\n",
    "    json_data = item._json\n",
    "    found_follower = json_data\n",
    "\n",
    "    data.append(found_follower)"
   ],
   "metadata": {
    "collapsed": false,
    "pycharm": {
     "name": "#%%\n"
    }
   }
  },
  {
   "cell_type": "markdown",
   "source": [
    "**download**"
   ],
   "metadata": {
    "collapsed": false
   }
  },
  {
   "cell_type": "code",
   "execution_count": null,
   "outputs": [],
   "source": [
    "def download(user, what, quantity, operation):\n",
    "    data= []\n",
    "    print(f\"Downloading {what} di {user}\")\n",
    "\n",
    "    for item in tw.Cursor(\n",
    "        operation,\n",
    "        screen_name=user,\n",
    "        skip_status=True,\n",
    "        include_user_entities=False\n",
    "    ).items(quantity):\n",
    "\n",
    "        retriveAllData(item, data)\n",
    "\n",
    "    serialize_json(os.getcwd(), f\"all{user}-{what}s.json\", data)\n",
    "    print(f\"ho serializzato un totale di {len(data)} dati \\n\")"
   ],
   "metadata": {
    "collapsed": false,
    "pycharm": {
     "name": "#%%\n"
    }
   }
  },
  {
   "cell_type": "markdown",
   "source": [
    "**Esecuzione delle funzioni**"
   ],
   "metadata": {
    "collapsed": false
   }
  },
  {
   "cell_type": "code",
   "execution_count": null,
   "outputs": [],
   "source": [
    "#all followers info\n",
    "download(\"mizzaro\", \"follower\", 10, api.followers)\n",
    "\n",
    "userInfo= []\n",
    "user = \"mizzaro\"\n",
    "\n",
    "print(f\"Downloading info utente di {user}\")\n",
    "\n",
    "info = api.get_user(user)\n",
    "retriveAllData(info, userInfo)\n",
    "serialize_json(os.getcwd(), \"mizzaro-complete-userInfo.json\", userInfo)"
   ],
   "metadata": {
    "collapsed": false,
    "pycharm": {
     "name": "#%%\n"
    }
   }
  },
  {
   "cell_type": "markdown",
   "source": [
    "## Merging file JSON\n",
    "\n",
    "La funzione in questione effettua un'operazione di merge dei vari file JSON scaricati in un unico file."
   ],
   "metadata": {
    "collapsed": false,
    "pycharm": {
     "name": "#%% md\n"
    }
   }
  },
  {
   "cell_type": "code",
   "execution_count": null,
   "outputs": [],
   "source": [
    "def mergeJSON():\n",
    "    usersInfo = read_json(f\"{data_folder}/usersData.json\")\n",
    "    lstFile = os.listdir(data_folder)\n",
    "\n",
    "    #print(usersInfo[0][\"followers\"])\n",
    "\n",
    "    for file in lstFile:\n",
    "        splittedFileName = file.split(sep=\"-\", maxsplit=3)\n",
    "\n",
    "        for user in usersInfo:\n",
    "            if (user[\"screen_name\"] == splittedFileName[0]) and (\"users\" not in file):\n",
    "                follows = read_json(f\"{data_folder}/{file}\")\n",
    "\n",
    "                if \"follower\" in splittedFileName[len(splittedFileName) - 1]:\n",
    "                    user[\"followers\"] = follows\n",
    "                elif \"following\" in splittedFileName[len(splittedFileName) - 1]:\n",
    "                    user[\"followings\"] = follows\n",
    "\n",
    "                break\n",
    "\n",
    "    serialize_json(os.getcwd(), \"mergedData.json\", usersInfo)\n",
    "\n",
    "mergeJSON()"
   ],
   "metadata": {
    "collapsed": false,
    "pycharm": {
     "name": "#%%\n"
    }
   }
  }
 ],
 "metadata": {
  "kernelspec": {
   "display_name": "Python 3",
   "language": "python",
   "name": "python3"
  },
  "language_info": {
   "codemirror_mode": {
    "name": "ipython",
    "version": 3
   },
   "file_extension": ".py",
   "mimetype": "text/x-python",
   "name": "python",
   "nbconvert_exporter": "python",
   "pygments_lexer": "ipython3",
   "version": "3.8.3"
  }
 },
 "nbformat": 4,
 "nbformat_minor": 4
}
